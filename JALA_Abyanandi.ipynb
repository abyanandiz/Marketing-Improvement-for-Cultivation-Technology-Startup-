{
 "cells": [
  {
   "cell_type": "markdown",
   "metadata": {},
   "source": [
    "# Jala Business Intelligence Test Case"
   ]
  },
  {
   "cell_type": "markdown",
   "metadata": {},
   "source": [
    "*Abyanandi Zaintama*"
   ]
  },
  {
   "cell_type": "markdown",
   "metadata": {},
   "source": [
    "**Context**"
   ]
  },
  {
   "cell_type": "markdown",
   "metadata": {},
   "source": [
    "eShrimp adalah sebuah startup yang bergerak dibidang teknologi budidaya udang vannamei. Startup ini didirikan bertujuan untuk membantu petambak dalam berbudidaya udang. eShrimp membuat webapp bernama eCultivation yang membantu petambak untuk:\n",
    "\n",
    "- Memanage budidaya udang/ Farm Management System (FMS)\n",
    "- Mengakses harga udang\n",
    "- Mengakses informasi berita/informasi terkait budidaya udang vannamei (Shrimp Magazine)\n",
    "- Mengakses informasi terkait penyakit udang\n",
    "\n",
    "Untuk mencapai tujuan tersebut, eCultivation memiliki dua fitur utama, yaitu Farm Management System (FMS) dan Portal Informasi. "
   ]
  },
  {
   "cell_type": "markdown",
   "metadata": {},
   "source": [
    "**Problem**"
   ]
  },
  {
   "cell_type": "markdown",
   "metadata": {},
   "source": [
    "Saat ini eShrimp mengalami masalah dalam hal Human Resource. Di bagian tim product development, eShrimp tidak memiliki SDM yang cukup untuk memaintain seluruh product yang ada. Selain itu, tim sales and marketing juga kekurangan SDM untuk melakukan aktivitas sales, yaitu sales call dan live demo produk.\n",
    "\n",
    "Dari permasalahan itu, sebagai Business Intelligence anda diminta untuk memberikan insight mengenai apa yang perlu dilakukan untuk mengoptimalkan jumlah siklus pro yang teraktivasi oleh masing-masing tambak. Anda dapat menggunakan data yang disediakan di"
   ]
  },
  {
   "cell_type": "markdown",
   "metadata": {},
   "source": [
    "| Variables                        | Type | Keterangan                                                                                                                                                                                             |\n",
    "| -------------------------------- | ---- | ------------------------------------------------------------------------------------------------------------------------------------------------------------------------------------------------------ |\n",
    "| farm_id                          | INT  | ID Tambak                                                                                                                                                                                              |\n",
    "| registered_since                 | date | tanggal registrasi di eCultivation                                                                                                                                                                     |\n",
    "| account_age                      | INT  | Umur akun tambak di eCultivation                                                                                                                                                                       |\n",
    "| fms_access                       | INT  | Rerata penggunaan dalam satu minggu platform management budidaya dalam 4 bulan terakhir yang mencakup:<br><br>- View Data (Table and analytics)<br>- Create Data (Feed, Sampling, Kualitas Air, Panen) |\n",
    "| shrimp_price_access              | INT  | Rerata visit fitur harga udang dalam satu minggu dalam 4 bulan terakhir                                                                                                                                |\n",
    "| shrimp_news_access               | INT  | Rerata visit fitur shrimp magazine dalam satu minggu dalam 4 bulan terakhir                                                                                                                            |\n",
    "| shrimp_diseaseInformation_access | INT  | Rerata visit fitur shrimp disease information dalam satu minggu dalam 4 bulan terakhir                                                                                                                 |\n",
    "| registered_ponds                 | INT  | Jumlah kolam yang terdaftar di tambak tersebut                                                                                                                                                         |\n",
    "| live_demo                        | Bool | Apakah user pernah diberikan live demo tentang produk atau tidak:<br>1: Pernah<br>0: Tidak Pernah                                                                                                      |\n",
    "| followedup_call                  | Bool | Apakah user pernah menjadi target sales-call atau tidak:<br>1: Pernah<br>0: Tidak Pernah                                                                                                               |\n",
    "| Finished_premium                 | INT  | Jumlah siklus premium yang pernah diselesaikan oleh suatu tambak                                                                                                                                       |\n",
    "| Finished_basic                   | INT  | Jumlah siklus basic yang pernah diselesaikan oleh suatu tambak                                                                                                                                         |\n",
    "| ongoing_premium                  | INT  | Jumlah siklus premium yang saat ini sedang berjalan di suatu tambak                                                                                                                                    |\n",
    "| ongoing_basic                    | INT  | Jumlah siklus basic yang saat ini sedang berjalan di suatu tambak                                                                                                                                      |\n"
   ]
  },
  {
   "cell_type": "markdown",
   "metadata": {},
   "source": [
    "# Data Loading"
   ]
  },
  {
   "cell_type": "code",
   "execution_count": 1,
   "metadata": {},
   "outputs": [],
   "source": [
    "import pandas as pd\n",
    "import numpy as np\n",
    "import matplotlib.pyplot as plt\n",
    "import seaborn as sns\n",
    "from scipy import stats"
   ]
  },
  {
   "cell_type": "code",
   "execution_count": 2,
   "metadata": {},
   "outputs": [
    {
     "data": {
      "text/html": "<div>\n<style scoped>\n    .dataframe tbody tr th:only-of-type {\n        vertical-align: middle;\n    }\n\n    .dataframe tbody tr th {\n        vertical-align: top;\n    }\n\n    .dataframe thead th {\n        text-align: right;\n    }\n</style>\n<table border=\"1\" class=\"dataframe\">\n  <thead>\n    <tr style=\"text-align: right;\">\n      <th></th>\n      <th>fms_access</th>\n      <th>account_age</th>\n      <th>shrimp_price_access</th>\n      <th>shrimp_news_access</th>\n      <th>shrimp_diseaseInformation_access</th>\n      <th>registered_ponds</th>\n      <th>live_demo_</th>\n      <th>followedup_call_</th>\n      <th>finished_pro</th>\n      <th>finished_free</th>\n      <th>ongoing_pro_</th>\n      <th>ongoing_free_</th>\n      <th>registered_since</th>\n      <th>farm_id</th>\n    </tr>\n  </thead>\n  <tbody>\n    <tr>\n      <th>0</th>\n      <td>26.0</td>\n      <td>0.0</td>\n      <td>0.0</td>\n      <td>0.0</td>\n      <td>1.0</td>\n      <td>15.0</td>\n      <td>0.0</td>\n      <td>0.0</td>\n      <td>12.0</td>\n      <td>4.0</td>\n      <td>3.0</td>\n      <td>0.0</td>\n      <td>2021-09-30</td>\n      <td>1</td>\n    </tr>\n    <tr>\n      <th>1</th>\n      <td>24.0</td>\n      <td>102.0</td>\n      <td>12.0</td>\n      <td>2.0</td>\n      <td>2.0</td>\n      <td>0.0</td>\n      <td>0.0</td>\n      <td>0.0</td>\n      <td>7.0</td>\n      <td>0.0</td>\n      <td>0.0</td>\n      <td>4.0</td>\n      <td>2021-06-20</td>\n      <td>2</td>\n    </tr>\n    <tr>\n      <th>2</th>\n      <td>22.0</td>\n      <td>154.0</td>\n      <td>10.0</td>\n      <td>2.0</td>\n      <td>1.0</td>\n      <td>8.0</td>\n      <td>0.0</td>\n      <td>0.0</td>\n      <td>12.0</td>\n      <td>5.0</td>\n      <td>2.0</td>\n      <td>4.0</td>\n      <td>2021-04-29</td>\n      <td>3</td>\n    </tr>\n    <tr>\n      <th>3</th>\n      <td>0.0</td>\n      <td>147.0</td>\n      <td>7.0</td>\n      <td>1.0</td>\n      <td>1.0</td>\n      <td>11.0</td>\n      <td>0.0</td>\n      <td>0.0</td>\n      <td>12.0</td>\n      <td>5.0</td>\n      <td>0.0</td>\n      <td>0.0</td>\n      <td>2021-05-06</td>\n      <td>4</td>\n    </tr>\n    <tr>\n      <th>4</th>\n      <td>67.0</td>\n      <td>66.0</td>\n      <td>1.0</td>\n      <td>5.0</td>\n      <td>0.0</td>\n      <td>6.0</td>\n      <td>0.0</td>\n      <td>0.0</td>\n      <td>14.0</td>\n      <td>0.0</td>\n      <td>5.0</td>\n      <td>1.0</td>\n      <td>2021-07-26</td>\n      <td>5</td>\n    </tr>\n  </tbody>\n</table>\n</div>",
      "text/plain": "   fms_access  account_age  shrimp_price_access  shrimp_news_access  \\\n0        26.0          0.0                  0.0                 0.0   \n1        24.0        102.0                 12.0                 2.0   \n2        22.0        154.0                 10.0                 2.0   \n3         0.0        147.0                  7.0                 1.0   \n4        67.0         66.0                  1.0                 5.0   \n\n   shrimp_diseaseInformation_access  registered_ponds  live_demo_  \\\n0                               1.0              15.0         0.0   \n1                               2.0               0.0         0.0   \n2                               1.0               8.0         0.0   \n3                               1.0              11.0         0.0   \n4                               0.0               6.0         0.0   \n\n   followedup_call_  finished_pro  finished_free  ongoing_pro_  ongoing_free_  \\\n0               0.0          12.0            4.0           3.0            0.0   \n1               0.0           7.0            0.0           0.0            4.0   \n2               0.0          12.0            5.0           2.0            4.0   \n3               0.0          12.0            5.0           0.0            0.0   \n4               0.0          14.0            0.0           5.0            1.0   \n\n  registered_since  farm_id  \n0       2021-09-30        1  \n1       2021-06-20        2  \n2       2021-04-29        3  \n3       2021-05-06        4  \n4       2021-07-26        5  "
     },
     "execution_count": 2,
     "metadata": {},
     "output_type": "execute_result"
    }
   ],
   "source": [
    "df = pd.read_csv('/Users/zaintama/Documents/Hacktiv8/JALA_Abyanandi/Data.csv')\n",
    "df.head()"
   ]
  },
  {
   "cell_type": "code",
   "execution_count": 3,
   "metadata": {},
   "outputs": [
    {
     "data": {
      "text/html": "<div>\n<style scoped>\n    .dataframe tbody tr th:only-of-type {\n        vertical-align: middle;\n    }\n\n    .dataframe tbody tr th {\n        vertical-align: top;\n    }\n\n    .dataframe thead th {\n        text-align: right;\n    }\n</style>\n<table border=\"1\" class=\"dataframe\">\n  <thead>\n    <tr style=\"text-align: right;\">\n      <th></th>\n      <th>fms_access</th>\n      <th>account_age</th>\n      <th>shrimp_price_access</th>\n      <th>shrimp_news_access</th>\n      <th>shrimp_diseaseInformation_access</th>\n      <th>registered_ponds</th>\n      <th>live_demo_</th>\n      <th>followedup_call_</th>\n      <th>finished_pro</th>\n      <th>finished_free</th>\n      <th>ongoing_pro_</th>\n      <th>ongoing_free_</th>\n      <th>farm_id</th>\n    </tr>\n  </thead>\n  <tbody>\n    <tr>\n      <th>0</th>\n      <td>26.0</td>\n      <td>0.0</td>\n      <td>0.0</td>\n      <td>0.0</td>\n      <td>1.0</td>\n      <td>15.0</td>\n      <td>0.0</td>\n      <td>0.0</td>\n      <td>12.0</td>\n      <td>4.0</td>\n      <td>3.0</td>\n      <td>0.0</td>\n      <td>1</td>\n    </tr>\n    <tr>\n      <th>1</th>\n      <td>24.0</td>\n      <td>102.0</td>\n      <td>12.0</td>\n      <td>2.0</td>\n      <td>2.0</td>\n      <td>0.0</td>\n      <td>0.0</td>\n      <td>0.0</td>\n      <td>7.0</td>\n      <td>0.0</td>\n      <td>0.0</td>\n      <td>4.0</td>\n      <td>2</td>\n    </tr>\n    <tr>\n      <th>2</th>\n      <td>22.0</td>\n      <td>154.0</td>\n      <td>10.0</td>\n      <td>2.0</td>\n      <td>1.0</td>\n      <td>8.0</td>\n      <td>0.0</td>\n      <td>0.0</td>\n      <td>12.0</td>\n      <td>5.0</td>\n      <td>2.0</td>\n      <td>4.0</td>\n      <td>3</td>\n    </tr>\n    <tr>\n      <th>3</th>\n      <td>0.0</td>\n      <td>147.0</td>\n      <td>7.0</td>\n      <td>1.0</td>\n      <td>1.0</td>\n      <td>11.0</td>\n      <td>0.0</td>\n      <td>0.0</td>\n      <td>12.0</td>\n      <td>5.0</td>\n      <td>0.0</td>\n      <td>0.0</td>\n      <td>4</td>\n    </tr>\n    <tr>\n      <th>4</th>\n      <td>67.0</td>\n      <td>66.0</td>\n      <td>1.0</td>\n      <td>5.0</td>\n      <td>0.0</td>\n      <td>6.0</td>\n      <td>0.0</td>\n      <td>0.0</td>\n      <td>14.0</td>\n      <td>0.0</td>\n      <td>5.0</td>\n      <td>1.0</td>\n      <td>5</td>\n    </tr>\n  </tbody>\n</table>\n</div>",
      "text/plain": "   fms_access  account_age  shrimp_price_access  shrimp_news_access  \\\n0        26.0          0.0                  0.0                 0.0   \n1        24.0        102.0                 12.0                 2.0   \n2        22.0        154.0                 10.0                 2.0   \n3         0.0        147.0                  7.0                 1.0   \n4        67.0         66.0                  1.0                 5.0   \n\n   shrimp_diseaseInformation_access  registered_ponds  live_demo_  \\\n0                               1.0              15.0         0.0   \n1                               2.0               0.0         0.0   \n2                               1.0               8.0         0.0   \n3                               1.0              11.0         0.0   \n4                               0.0               6.0         0.0   \n\n   followedup_call_  finished_pro  finished_free  ongoing_pro_  ongoing_free_  \\\n0               0.0          12.0            4.0           3.0            0.0   \n1               0.0           7.0            0.0           0.0            4.0   \n2               0.0          12.0            5.0           2.0            4.0   \n3               0.0          12.0            5.0           0.0            0.0   \n4               0.0          14.0            0.0           5.0            1.0   \n\n   farm_id  \n0        1  \n1        2  \n2        3  \n3        4  \n4        5  "
     },
     "execution_count": 3,
     "metadata": {},
     "output_type": "execute_result"
    }
   ],
   "source": [
    "df.drop(['registered_since'], axis=1, inplace=True)\n",
    "df.head()"
   ]
  },
  {
   "cell_type": "code",
   "execution_count": 4,
   "metadata": {},
   "outputs": [
    {
     "data": {
      "text/html": "<div>\n<style scoped>\n    .dataframe tbody tr th:only-of-type {\n        vertical-align: middle;\n    }\n\n    .dataframe tbody tr th {\n        vertical-align: top;\n    }\n\n    .dataframe thead th {\n        text-align: right;\n    }\n</style>\n<table border=\"1\" class=\"dataframe\">\n  <thead>\n    <tr style=\"text-align: right;\">\n      <th></th>\n      <th>fms_access</th>\n      <th>account_age</th>\n      <th>shrimp_price_access</th>\n      <th>shrimp_news_access</th>\n      <th>shrimp_diseaseInformation_access</th>\n      <th>registered_ponds</th>\n      <th>live_demo_</th>\n      <th>followedup_call_</th>\n      <th>finished_pro</th>\n      <th>finished_free</th>\n      <th>ongoing_pro_</th>\n      <th>ongoing_free_</th>\n      <th>farm_id</th>\n    </tr>\n  </thead>\n  <tbody>\n    <tr>\n      <th>63832</th>\n      <td>155.0</td>\n      <td>76.0</td>\n      <td>0.0</td>\n      <td>0.0</td>\n      <td>2.0</td>\n      <td>13.0</td>\n      <td>1.0</td>\n      <td>0.0</td>\n      <td>41.0</td>\n      <td>14.0</td>\n      <td>35.0</td>\n      <td>19.0</td>\n      <td>63833</td>\n    </tr>\n    <tr>\n      <th>19505</th>\n      <td>106.0</td>\n      <td>106.0</td>\n      <td>1.0</td>\n      <td>7.0</td>\n      <td>4.0</td>\n      <td>19.0</td>\n      <td>1.0</td>\n      <td>0.0</td>\n      <td>40.0</td>\n      <td>27.0</td>\n      <td>34.0</td>\n      <td>21.0</td>\n      <td>19506</td>\n    </tr>\n    <tr>\n      <th>47760</th>\n      <td>106.0</td>\n      <td>131.0</td>\n      <td>3.0</td>\n      <td>0.0</td>\n      <td>4.0</td>\n      <td>8.0</td>\n      <td>1.0</td>\n      <td>0.0</td>\n      <td>41.0</td>\n      <td>19.0</td>\n      <td>34.0</td>\n      <td>21.0</td>\n      <td>47761</td>\n    </tr>\n    <tr>\n      <th>65140</th>\n      <td>103.0</td>\n      <td>69.0</td>\n      <td>0.0</td>\n      <td>0.0</td>\n      <td>3.0</td>\n      <td>28.0</td>\n      <td>1.0</td>\n      <td>0.0</td>\n      <td>43.0</td>\n      <td>24.0</td>\n      <td>33.0</td>\n      <td>16.0</td>\n      <td>65141</td>\n    </tr>\n    <tr>\n      <th>23854</th>\n      <td>138.0</td>\n      <td>156.0</td>\n      <td>12.0</td>\n      <td>5.0</td>\n      <td>3.0</td>\n      <td>13.0</td>\n      <td>0.0</td>\n      <td>0.0</td>\n      <td>37.0</td>\n      <td>18.0</td>\n      <td>32.0</td>\n      <td>21.0</td>\n      <td>23855</td>\n    </tr>\n    <tr>\n      <th>...</th>\n      <td>...</td>\n      <td>...</td>\n      <td>...</td>\n      <td>...</td>\n      <td>...</td>\n      <td>...</td>\n      <td>...</td>\n      <td>...</td>\n      <td>...</td>\n      <td>...</td>\n      <td>...</td>\n      <td>...</td>\n      <td>...</td>\n    </tr>\n    <tr>\n      <th>95529</th>\n      <td>6.0</td>\n      <td>196.0</td>\n      <td>10.0</td>\n      <td>4.0</td>\n      <td>0.0</td>\n      <td>35.0</td>\n      <td>0.0</td>\n      <td>0.0</td>\n      <td>18.0</td>\n      <td>8.0</td>\n      <td>0.0</td>\n      <td>0.0</td>\n      <td>95530</td>\n    </tr>\n    <tr>\n      <th>50460</th>\n      <td>0.0</td>\n      <td>281.0</td>\n      <td>8.0</td>\n      <td>3.0</td>\n      <td>0.0</td>\n      <td>23.0</td>\n      <td>0.0</td>\n      <td>0.0</td>\n      <td>19.0</td>\n      <td>4.0</td>\n      <td>0.0</td>\n      <td>2.0</td>\n      <td>50461</td>\n    </tr>\n    <tr>\n      <th>65342</th>\n      <td>8.0</td>\n      <td>250.0</td>\n      <td>3.0</td>\n      <td>3.0</td>\n      <td>0.0</td>\n      <td>34.0</td>\n      <td>0.0</td>\n      <td>0.0</td>\n      <td>19.0</td>\n      <td>9.0</td>\n      <td>0.0</td>\n      <td>1.0</td>\n      <td>65343</td>\n    </tr>\n    <tr>\n      <th>10634</th>\n      <td>0.0</td>\n      <td>252.0</td>\n      <td>13.0</td>\n      <td>2.0</td>\n      <td>0.0</td>\n      <td>24.0</td>\n      <td>1.0</td>\n      <td>0.0</td>\n      <td>20.0</td>\n      <td>1.0</td>\n      <td>0.0</td>\n      <td>0.0</td>\n      <td>10635</td>\n    </tr>\n    <tr>\n      <th>34622</th>\n      <td>0.0</td>\n      <td>306.0</td>\n      <td>8.0</td>\n      <td>0.0</td>\n      <td>1.0</td>\n      <td>33.0</td>\n      <td>0.0</td>\n      <td>0.0</td>\n      <td>20.0</td>\n      <td>15.0</td>\n      <td>0.0</td>\n      <td>3.0</td>\n      <td>34623</td>\n    </tr>\n  </tbody>\n</table>\n<p>100000 rows × 13 columns</p>\n</div>",
      "text/plain": "       fms_access  account_age  shrimp_price_access  shrimp_news_access  \\\n63832       155.0         76.0                  0.0                 0.0   \n19505       106.0        106.0                  1.0                 7.0   \n47760       106.0        131.0                  3.0                 0.0   \n65140       103.0         69.0                  0.0                 0.0   \n23854       138.0        156.0                 12.0                 5.0   \n...           ...          ...                  ...                 ...   \n95529         6.0        196.0                 10.0                 4.0   \n50460         0.0        281.0                  8.0                 3.0   \n65342         8.0        250.0                  3.0                 3.0   \n10634         0.0        252.0                 13.0                 2.0   \n34622         0.0        306.0                  8.0                 0.0   \n\n       shrimp_diseaseInformation_access  registered_ponds  live_demo_  \\\n63832                               2.0              13.0         1.0   \n19505                               4.0              19.0         1.0   \n47760                               4.0               8.0         1.0   \n65140                               3.0              28.0         1.0   \n23854                               3.0              13.0         0.0   \n...                                 ...               ...         ...   \n95529                               0.0              35.0         0.0   \n50460                               0.0              23.0         0.0   \n65342                               0.0              34.0         0.0   \n10634                               0.0              24.0         1.0   \n34622                               1.0              33.0         0.0   \n\n       followedup_call_  finished_pro  finished_free  ongoing_pro_  \\\n63832               0.0          41.0           14.0          35.0   \n19505               0.0          40.0           27.0          34.0   \n47760               0.0          41.0           19.0          34.0   \n65140               0.0          43.0           24.0          33.0   \n23854               0.0          37.0           18.0          32.0   \n...                 ...           ...            ...           ...   \n95529               0.0          18.0            8.0           0.0   \n50460               0.0          19.0            4.0           0.0   \n65342               0.0          19.0            9.0           0.0   \n10634               0.0          20.0            1.0           0.0   \n34622               0.0          20.0           15.0           0.0   \n\n       ongoing_free_  farm_id  \n63832           19.0    63833  \n19505           21.0    19506  \n47760           21.0    47761  \n65140           16.0    65141  \n23854           21.0    23855  \n...              ...      ...  \n95529            0.0    95530  \n50460            2.0    50461  \n65342            1.0    65343  \n10634            0.0    10635  \n34622            3.0    34623  \n\n[100000 rows x 13 columns]"
     },
     "execution_count": 4,
     "metadata": {},
     "output_type": "execute_result"
    }
   ],
   "source": [
    "df.sort_values(['ongoing_pro_','finished_pro'], ascending=[False,True])"
   ]
  },
  {
   "cell_type": "code",
   "execution_count": 5,
   "metadata": {},
   "outputs": [],
   "source": [
    "df.sort_values([\"ongoing_pro_\"], ascending = [True],inplace=True)"
   ]
  },
  {
   "cell_type": "code",
   "execution_count": 6,
   "metadata": {},
   "outputs": [
    {
     "data": {
      "text/html": "<div>\n<style scoped>\n    .dataframe tbody tr th:only-of-type {\n        vertical-align: middle;\n    }\n\n    .dataframe tbody tr th {\n        vertical-align: top;\n    }\n\n    .dataframe thead th {\n        text-align: right;\n    }\n</style>\n<table border=\"1\" class=\"dataframe\">\n  <thead>\n    <tr style=\"text-align: right;\">\n      <th></th>\n      <th>fms_access</th>\n      <th>account_age</th>\n      <th>shrimp_price_access</th>\n      <th>shrimp_news_access</th>\n      <th>shrimp_diseaseInformation_access</th>\n      <th>registered_ponds</th>\n      <th>live_demo_</th>\n      <th>followedup_call_</th>\n      <th>finished_pro</th>\n      <th>finished_free</th>\n      <th>ongoing_pro_</th>\n      <th>ongoing_free_</th>\n      <th>farm_id</th>\n    </tr>\n  </thead>\n  <tbody>\n    <tr>\n      <th>12056</th>\n      <td>91.0</td>\n      <td>228.0</td>\n      <td>10.0</td>\n      <td>4.0</td>\n      <td>1.0</td>\n      <td>29.0</td>\n      <td>1.0</td>\n      <td>0.0</td>\n      <td>43.0</td>\n      <td>20.0</td>\n      <td>29.0</td>\n      <td>17.0</td>\n      <td>12057</td>\n    </tr>\n    <tr>\n      <th>7084</th>\n      <td>91.0</td>\n      <td>222.0</td>\n      <td>14.0</td>\n      <td>1.0</td>\n      <td>1.0</td>\n      <td>16.0</td>\n      <td>1.0</td>\n      <td>0.0</td>\n      <td>43.0</td>\n      <td>12.0</td>\n      <td>30.0</td>\n      <td>17.0</td>\n      <td>7085</td>\n    </tr>\n    <tr>\n      <th>65140</th>\n      <td>103.0</td>\n      <td>69.0</td>\n      <td>0.0</td>\n      <td>0.0</td>\n      <td>3.0</td>\n      <td>28.0</td>\n      <td>1.0</td>\n      <td>0.0</td>\n      <td>43.0</td>\n      <td>24.0</td>\n      <td>33.0</td>\n      <td>16.0</td>\n      <td>65141</td>\n    </tr>\n    <tr>\n      <th>30601</th>\n      <td>70.0</td>\n      <td>165.0</td>\n      <td>12.0</td>\n      <td>4.0</td>\n      <td>2.0</td>\n      <td>34.0</td>\n      <td>1.0</td>\n      <td>0.0</td>\n      <td>42.0</td>\n      <td>22.0</td>\n      <td>27.0</td>\n      <td>14.0</td>\n      <td>30602</td>\n    </tr>\n    <tr>\n      <th>21006</th>\n      <td>72.0</td>\n      <td>311.0</td>\n      <td>4.0</td>\n      <td>9.0</td>\n      <td>3.0</td>\n      <td>22.0</td>\n      <td>1.0</td>\n      <td>0.0</td>\n      <td>41.0</td>\n      <td>23.0</td>\n      <td>28.0</td>\n      <td>21.0</td>\n      <td>21007</td>\n    </tr>\n    <tr>\n      <th>...</th>\n      <td>...</td>\n      <td>...</td>\n      <td>...</td>\n      <td>...</td>\n      <td>...</td>\n      <td>...</td>\n      <td>...</td>\n      <td>...</td>\n      <td>...</td>\n      <td>...</td>\n      <td>...</td>\n      <td>...</td>\n      <td>...</td>\n    </tr>\n    <tr>\n      <th>41887</th>\n      <td>0.0</td>\n      <td>5.0</td>\n      <td>8.0</td>\n      <td>3.0</td>\n      <td>0.0</td>\n      <td>7.0</td>\n      <td>0.0</td>\n      <td>0.0</td>\n      <td>0.0</td>\n      <td>0.0</td>\n      <td>0.0</td>\n      <td>0.0</td>\n      <td>41888</td>\n    </tr>\n    <tr>\n      <th>29992</th>\n      <td>0.0</td>\n      <td>28.0</td>\n      <td>10.0</td>\n      <td>4.0</td>\n      <td>2.0</td>\n      <td>0.0</td>\n      <td>0.0</td>\n      <td>0.0</td>\n      <td>0.0</td>\n      <td>0.0</td>\n      <td>0.0</td>\n      <td>0.0</td>\n      <td>29993</td>\n    </tr>\n    <tr>\n      <th>19347</th>\n      <td>4.0</td>\n      <td>41.0</td>\n      <td>11.0</td>\n      <td>0.0</td>\n      <td>0.0</td>\n      <td>0.0</td>\n      <td>0.0</td>\n      <td>0.0</td>\n      <td>0.0</td>\n      <td>0.0</td>\n      <td>0.0</td>\n      <td>0.0</td>\n      <td>19348</td>\n    </tr>\n    <tr>\n      <th>87354</th>\n      <td>0.0</td>\n      <td>8.0</td>\n      <td>0.0</td>\n      <td>0.0</td>\n      <td>0.0</td>\n      <td>6.0</td>\n      <td>0.0</td>\n      <td>0.0</td>\n      <td>0.0</td>\n      <td>0.0</td>\n      <td>0.0</td>\n      <td>0.0</td>\n      <td>87355</td>\n    </tr>\n    <tr>\n      <th>78526</th>\n      <td>0.0</td>\n      <td>67.0</td>\n      <td>6.0</td>\n      <td>4.0</td>\n      <td>0.0</td>\n      <td>0.0</td>\n      <td>0.0</td>\n      <td>0.0</td>\n      <td>0.0</td>\n      <td>0.0</td>\n      <td>0.0</td>\n      <td>0.0</td>\n      <td>78527</td>\n    </tr>\n  </tbody>\n</table>\n<p>100000 rows × 13 columns</p>\n</div>",
      "text/plain": "       fms_access  account_age  shrimp_price_access  shrimp_news_access  \\\n12056        91.0        228.0                 10.0                 4.0   \n7084         91.0        222.0                 14.0                 1.0   \n65140       103.0         69.0                  0.0                 0.0   \n30601        70.0        165.0                 12.0                 4.0   \n21006        72.0        311.0                  4.0                 9.0   \n...           ...          ...                  ...                 ...   \n41887         0.0          5.0                  8.0                 3.0   \n29992         0.0         28.0                 10.0                 4.0   \n19347         4.0         41.0                 11.0                 0.0   \n87354         0.0          8.0                  0.0                 0.0   \n78526         0.0         67.0                  6.0                 4.0   \n\n       shrimp_diseaseInformation_access  registered_ponds  live_demo_  \\\n12056                               1.0              29.0         1.0   \n7084                                1.0              16.0         1.0   \n65140                               3.0              28.0         1.0   \n30601                               2.0              34.0         1.0   \n21006                               3.0              22.0         1.0   \n...                                 ...               ...         ...   \n41887                               0.0               7.0         0.0   \n29992                               2.0               0.0         0.0   \n19347                               0.0               0.0         0.0   \n87354                               0.0               6.0         0.0   \n78526                               0.0               0.0         0.0   \n\n       followedup_call_  finished_pro  finished_free  ongoing_pro_  \\\n12056               0.0          43.0           20.0          29.0   \n7084                0.0          43.0           12.0          30.0   \n65140               0.0          43.0           24.0          33.0   \n30601               0.0          42.0           22.0          27.0   \n21006               0.0          41.0           23.0          28.0   \n...                 ...           ...            ...           ...   \n41887               0.0           0.0            0.0           0.0   \n29992               0.0           0.0            0.0           0.0   \n19347               0.0           0.0            0.0           0.0   \n87354               0.0           0.0            0.0           0.0   \n78526               0.0           0.0            0.0           0.0   \n\n       ongoing_free_  farm_id  \n12056           17.0    12057  \n7084            17.0     7085  \n65140           16.0    65141  \n30601           14.0    30602  \n21006           21.0    21007  \n...              ...      ...  \n41887            0.0    41888  \n29992            0.0    29993  \n19347            0.0    19348  \n87354            0.0    87355  \n78526            0.0    78527  \n\n[100000 rows x 13 columns]"
     },
     "execution_count": 6,
     "metadata": {},
     "output_type": "execute_result"
    }
   ],
   "source": [
    "df.sort_values(['finished_pro'],ascending=False)"
   ]
  },
  {
   "cell_type": "code",
   "execution_count": 7,
   "metadata": {},
   "outputs": [
    {
     "name": "stdout",
     "output_type": "stream",
     "text": [
      "<class 'pandas.core.frame.DataFrame'>\n",
      "Int64Index: 100000 entries, 99999 to 63832\n",
      "Data columns (total 13 columns):\n",
      " #   Column                            Non-Null Count   Dtype  \n",
      "---  ------                            --------------   -----  \n",
      " 0   fms_access                        100000 non-null  float64\n",
      " 1   account_age                       100000 non-null  float64\n",
      " 2   shrimp_price_access               100000 non-null  float64\n",
      " 3   shrimp_news_access                100000 non-null  float64\n",
      " 4   shrimp_diseaseInformation_access  100000 non-null  float64\n",
      " 5   registered_ponds                  100000 non-null  float64\n",
      " 6   live_demo_                        100000 non-null  float64\n",
      " 7   followedup_call_                  100000 non-null  float64\n",
      " 8   finished_pro                      100000 non-null  float64\n",
      " 9   finished_free                     100000 non-null  float64\n",
      " 10  ongoing_pro_                      100000 non-null  float64\n",
      " 11  ongoing_free_                     100000 non-null  float64\n",
      " 12  farm_id                           100000 non-null  int64  \n",
      "dtypes: float64(12), int64(1)\n",
      "memory usage: 10.7 MB\n"
     ]
    }
   ],
   "source": [
    "df.info()"
   ]
  },
  {
   "cell_type": "markdown",
   "metadata": {},
   "source": [
    "# EDA"
   ]
  },
  {
   "cell_type": "code",
   "execution_count": 8,
   "metadata": {},
   "outputs": [
    {
     "data": {
      "text/html": "<div>\n<style scoped>\n    .dataframe tbody tr th:only-of-type {\n        vertical-align: middle;\n    }\n\n    .dataframe tbody tr th {\n        vertical-align: top;\n    }\n\n    .dataframe thead th {\n        text-align: right;\n    }\n</style>\n<table border=\"1\" class=\"dataframe\">\n  <thead>\n    <tr style=\"text-align: right;\">\n      <th></th>\n      <th>count</th>\n      <th>mean</th>\n      <th>std</th>\n      <th>min</th>\n      <th>25%</th>\n      <th>50%</th>\n      <th>75%</th>\n      <th>max</th>\n    </tr>\n  </thead>\n  <tbody>\n    <tr>\n      <th>fms_access</th>\n      <td>100000.0</td>\n      <td>32.47931</td>\n      <td>26.037278</td>\n      <td>0.0</td>\n      <td>10.00</td>\n      <td>30.0</td>\n      <td>50.00</td>\n      <td>157.0</td>\n    </tr>\n    <tr>\n      <th>account_age</th>\n      <td>100000.0</td>\n      <td>86.63274</td>\n      <td>69.364541</td>\n      <td>0.0</td>\n      <td>26.00</td>\n      <td>80.0</td>\n      <td>134.00</td>\n      <td>438.0</td>\n    </tr>\n    <tr>\n      <th>shrimp_price_access</th>\n      <td>100000.0</td>\n      <td>5.41530</td>\n      <td>4.341204</td>\n      <td>0.0</td>\n      <td>2.00</td>\n      <td>5.0</td>\n      <td>8.00</td>\n      <td>26.0</td>\n    </tr>\n    <tr>\n      <th>shrimp_news_access</th>\n      <td>100000.0</td>\n      <td>3.24474</td>\n      <td>2.615586</td>\n      <td>0.0</td>\n      <td>1.00</td>\n      <td>3.0</td>\n      <td>5.00</td>\n      <td>16.0</td>\n    </tr>\n    <tr>\n      <th>shrimp_diseaseInformation_access</th>\n      <td>100000.0</td>\n      <td>1.07307</td>\n      <td>0.918324</td>\n      <td>0.0</td>\n      <td>0.00</td>\n      <td>1.0</td>\n      <td>2.00</td>\n      <td>5.0</td>\n    </tr>\n    <tr>\n      <th>registered_ponds</th>\n      <td>100000.0</td>\n      <td>10.83574</td>\n      <td>8.667053</td>\n      <td>0.0</td>\n      <td>3.00</td>\n      <td>10.0</td>\n      <td>17.00</td>\n      <td>52.0</td>\n    </tr>\n    <tr>\n      <th>live_demo_</th>\n      <td>100000.0</td>\n      <td>0.06756</td>\n      <td>0.250991</td>\n      <td>0.0</td>\n      <td>0.00</td>\n      <td>0.0</td>\n      <td>0.00</td>\n      <td>1.0</td>\n    </tr>\n    <tr>\n      <th>followedup_call_</th>\n      <td>100000.0</td>\n      <td>0.00979</td>\n      <td>0.098459</td>\n      <td>0.0</td>\n      <td>0.00</td>\n      <td>0.0</td>\n      <td>0.00</td>\n      <td>1.0</td>\n    </tr>\n    <tr>\n      <th>finished_pro</th>\n      <td>100000.0</td>\n      <td>14.05971</td>\n      <td>6.864583</td>\n      <td>0.0</td>\n      <td>9.00</td>\n      <td>14.0</td>\n      <td>19.00</td>\n      <td>43.0</td>\n    </tr>\n    <tr>\n      <th>finished_free</th>\n      <td>100000.0</td>\n      <td>5.23707</td>\n      <td>5.348276</td>\n      <td>0.0</td>\n      <td>0.00</td>\n      <td>4.0</td>\n      <td>9.00</td>\n      <td>34.0</td>\n    </tr>\n    <tr>\n      <th>ongoing_pro_</th>\n      <td>100000.0</td>\n      <td>5.23334</td>\n      <td>5.360500</td>\n      <td>0.0</td>\n      <td>0.00</td>\n      <td>4.0</td>\n      <td>9.00</td>\n      <td>35.0</td>\n    </tr>\n    <tr>\n      <th>ongoing_free_</th>\n      <td>100000.0</td>\n      <td>3.14642</td>\n      <td>3.578462</td>\n      <td>0.0</td>\n      <td>0.00</td>\n      <td>2.0</td>\n      <td>5.00</td>\n      <td>23.0</td>\n    </tr>\n    <tr>\n      <th>farm_id</th>\n      <td>100000.0</td>\n      <td>50000.50000</td>\n      <td>28867.657797</td>\n      <td>1.0</td>\n      <td>25000.75</td>\n      <td>50000.5</td>\n      <td>75000.25</td>\n      <td>100000.0</td>\n    </tr>\n  </tbody>\n</table>\n</div>",
      "text/plain": "                                     count         mean           std  min  \\\nfms_access                        100000.0     32.47931     26.037278  0.0   \naccount_age                       100000.0     86.63274     69.364541  0.0   \nshrimp_price_access               100000.0      5.41530      4.341204  0.0   \nshrimp_news_access                100000.0      3.24474      2.615586  0.0   \nshrimp_diseaseInformation_access  100000.0      1.07307      0.918324  0.0   \nregistered_ponds                  100000.0     10.83574      8.667053  0.0   \nlive_demo_                        100000.0      0.06756      0.250991  0.0   \nfollowedup_call_                  100000.0      0.00979      0.098459  0.0   \nfinished_pro                      100000.0     14.05971      6.864583  0.0   \nfinished_free                     100000.0      5.23707      5.348276  0.0   \nongoing_pro_                      100000.0      5.23334      5.360500  0.0   \nongoing_free_                     100000.0      3.14642      3.578462  0.0   \nfarm_id                           100000.0  50000.50000  28867.657797  1.0   \n\n                                       25%      50%       75%       max  \nfms_access                           10.00     30.0     50.00     157.0  \naccount_age                          26.00     80.0    134.00     438.0  \nshrimp_price_access                   2.00      5.0      8.00      26.0  \nshrimp_news_access                    1.00      3.0      5.00      16.0  \nshrimp_diseaseInformation_access      0.00      1.0      2.00       5.0  \nregistered_ponds                      3.00     10.0     17.00      52.0  \nlive_demo_                            0.00      0.0      0.00       1.0  \nfollowedup_call_                      0.00      0.0      0.00       1.0  \nfinished_pro                          9.00     14.0     19.00      43.0  \nfinished_free                         0.00      4.0      9.00      34.0  \nongoing_pro_                          0.00      4.0      9.00      35.0  \nongoing_free_                         0.00      2.0      5.00      23.0  \nfarm_id                           25000.75  50000.5  75000.25  100000.0  "
     },
     "execution_count": 8,
     "metadata": {},
     "output_type": "execute_result"
    }
   ],
   "source": [
    "df.describe().transpose()"
   ]
  },
  {
   "cell_type": "code",
   "execution_count": 9,
   "metadata": {},
   "outputs": [
    {
     "data": {
      "text/plain": "count    100000.000000\nmean         86.632740\nstd          69.364541\nmin           0.000000\n25%          26.000000\n50%          80.000000\n75%         134.000000\nmax         438.000000\nName: account_age, dtype: float64"
     },
     "execution_count": 9,
     "metadata": {},
     "output_type": "execute_result"
    }
   ],
   "source": [
    "df['account_age'].describe()"
   ]
  },
  {
   "cell_type": "code",
   "execution_count": 10,
   "metadata": {},
   "outputs": [
    {
     "data": {
      "text/plain": "<AxesSubplot:xlabel='account_age', ylabel='Count'>"
     },
     "execution_count": 10,
     "metadata": {},
     "output_type": "execute_result"
    },
    {
     "data": {
      "image/png": "[encoded data removed]",
      "text/plain": "<Figure size 432x288 with 1 Axes>"
     },
     "metadata": {
      "needs_background": "light"
     },
     "output_type": "display_data"
    }
   ],
   "source": [
    "sns.histplot(df['account_age'])"
   ]
  },
  {
   "cell_type": "code",
   "execution_count": 11,
   "metadata": {},
   "outputs": [
    {
     "name": "stdout",
     "output_type": "stream",
     "text": [
      "Percentage of new account is 16.05%\n",
      "16050\n"
     ]
    }
   ],
   "source": [
    "new_account_count = df[df['account_age']==0]['farm_id'].count()/len(df)*100\n",
    "print('Percentage of new account is {}%'.format(new_account_count))\n",
    "print(df[df['account_age']==0]['farm_id'].count())"
   ]
  },
  {
   "cell_type": "code",
   "execution_count": 12,
   "metadata": {},
   "outputs": [
    {
     "data": {
      "text/html": "<div>\n<style scoped>\n    .dataframe tbody tr th:only-of-type {\n        vertical-align: middle;\n    }\n\n    .dataframe tbody tr th {\n        vertical-align: top;\n    }\n\n    .dataframe thead th {\n        text-align: right;\n    }\n</style>\n<table border=\"1\" class=\"dataframe\">\n  <thead>\n    <tr style=\"text-align: right;\">\n      <th></th>\n      <th>fms_access</th>\n      <th>account_age</th>\n      <th>shrimp_price_access</th>\n      <th>shrimp_news_access</th>\n      <th>shrimp_diseaseInformation_access</th>\n      <th>registered_ponds</th>\n      <th>live_demo_</th>\n      <th>followedup_call_</th>\n      <th>finished_pro</th>\n      <th>finished_free</th>\n      <th>ongoing_pro_</th>\n      <th>ongoing_free_</th>\n      <th>farm_id</th>\n    </tr>\n  </thead>\n  <tbody>\n    <tr>\n      <th>66062</th>\n      <td>0.0</td>\n      <td>0.0</td>\n      <td>0.0</td>\n      <td>4.0</td>\n      <td>0.0</td>\n      <td>13.0</td>\n      <td>0.0</td>\n      <td>0.0</td>\n      <td>6.0</td>\n      <td>0.0</td>\n      <td>0.0</td>\n      <td>0.0</td>\n      <td>66063</td>\n    </tr>\n    <tr>\n      <th>66064</th>\n      <td>29.0</td>\n      <td>0.0</td>\n      <td>9.0</td>\n      <td>0.0</td>\n      <td>0.0</td>\n      <td>6.0</td>\n      <td>0.0</td>\n      <td>0.0</td>\n      <td>8.0</td>\n      <td>0.0</td>\n      <td>0.0</td>\n      <td>0.0</td>\n      <td>66065</td>\n    </tr>\n    <tr>\n      <th>27138</th>\n      <td>0.0</td>\n      <td>0.0</td>\n      <td>10.0</td>\n      <td>4.0</td>\n      <td>0.0</td>\n      <td>2.0</td>\n      <td>0.0</td>\n      <td>0.0</td>\n      <td>0.0</td>\n      <td>0.0</td>\n      <td>0.0</td>\n      <td>0.0</td>\n      <td>27139</td>\n    </tr>\n    <tr>\n      <th>66090</th>\n      <td>21.0</td>\n      <td>0.0</td>\n      <td>11.0</td>\n      <td>2.0</td>\n      <td>0.0</td>\n      <td>7.0</td>\n      <td>0.0</td>\n      <td>0.0</td>\n      <td>1.0</td>\n      <td>0.0</td>\n      <td>0.0</td>\n      <td>0.0</td>\n      <td>66091</td>\n    </tr>\n    <tr>\n      <th>66094</th>\n      <td>27.0</td>\n      <td>0.0</td>\n      <td>14.0</td>\n      <td>3.0</td>\n      <td>1.0</td>\n      <td>6.0</td>\n      <td>0.0</td>\n      <td>0.0</td>\n      <td>5.0</td>\n      <td>0.0</td>\n      <td>0.0</td>\n      <td>0.0</td>\n      <td>66095</td>\n    </tr>\n    <tr>\n      <th>...</th>\n      <td>...</td>\n      <td>...</td>\n      <td>...</td>\n      <td>...</td>\n      <td>...</td>\n      <td>...</td>\n      <td>...</td>\n      <td>...</td>\n      <td>...</td>\n      <td>...</td>\n      <td>...</td>\n      <td>...</td>\n      <td>...</td>\n    </tr>\n    <tr>\n      <th>31739</th>\n      <td>67.0</td>\n      <td>0.0</td>\n      <td>0.0</td>\n      <td>7.0</td>\n      <td>5.0</td>\n      <td>24.0</td>\n      <td>1.0</td>\n      <td>0.0</td>\n      <td>37.0</td>\n      <td>29.0</td>\n      <td>29.0</td>\n      <td>15.0</td>\n      <td>31740</td>\n    </tr>\n    <tr>\n      <th>37898</th>\n      <td>106.0</td>\n      <td>0.0</td>\n      <td>0.0</td>\n      <td>2.0</td>\n      <td>2.0</td>\n      <td>24.0</td>\n      <td>1.0</td>\n      <td>0.0</td>\n      <td>36.0</td>\n      <td>19.0</td>\n      <td>29.0</td>\n      <td>13.0</td>\n      <td>37899</td>\n    </tr>\n    <tr>\n      <th>68699</th>\n      <td>133.0</td>\n      <td>0.0</td>\n      <td>0.0</td>\n      <td>1.0</td>\n      <td>3.0</td>\n      <td>8.0</td>\n      <td>0.0</td>\n      <td>0.0</td>\n      <td>31.0</td>\n      <td>15.0</td>\n      <td>29.0</td>\n      <td>16.0</td>\n      <td>68700</td>\n    </tr>\n    <tr>\n      <th>14772</th>\n      <td>97.0</td>\n      <td>0.0</td>\n      <td>5.0</td>\n      <td>2.0</td>\n      <td>3.0</td>\n      <td>25.0</td>\n      <td>1.0</td>\n      <td>0.0</td>\n      <td>39.0</td>\n      <td>22.0</td>\n      <td>31.0</td>\n      <td>13.0</td>\n      <td>14773</td>\n    </tr>\n    <tr>\n      <th>50319</th>\n      <td>108.0</td>\n      <td>0.0</td>\n      <td>5.0</td>\n      <td>2.0</td>\n      <td>3.0</td>\n      <td>4.0</td>\n      <td>1.0</td>\n      <td>0.0</td>\n      <td>35.0</td>\n      <td>12.0</td>\n      <td>31.0</td>\n      <td>13.0</td>\n      <td>50320</td>\n    </tr>\n  </tbody>\n</table>\n<p>16050 rows × 13 columns</p>\n</div>",
      "text/plain": "       fms_access  account_age  shrimp_price_access  shrimp_news_access  \\\n66062         0.0          0.0                  0.0                 4.0   \n66064        29.0          0.0                  9.0                 0.0   \n27138         0.0          0.0                 10.0                 4.0   \n66090        21.0          0.0                 11.0                 2.0   \n66094        27.0          0.0                 14.0                 3.0   \n...           ...          ...                  ...                 ...   \n31739        67.0          0.0                  0.0                 7.0   \n37898       106.0          0.0                  0.0                 2.0   \n68699       133.0          0.0                  0.0                 1.0   \n14772        97.0          0.0                  5.0                 2.0   \n50319       108.0          0.0                  5.0                 2.0   \n\n       shrimp_diseaseInformation_access  registered_ponds  live_demo_  \\\n66062                               0.0              13.0         0.0   \n66064                               0.0               6.0         0.0   \n27138                               0.0               2.0         0.0   \n66090                               0.0               7.0         0.0   \n66094                               1.0               6.0         0.0   \n...                                 ...               ...         ...   \n31739                               5.0              24.0         1.0   \n37898                               2.0              24.0         1.0   \n68699                               3.0               8.0         0.0   \n14772                               3.0              25.0         1.0   \n50319                               3.0               4.0         1.0   \n\n       followedup_call_  finished_pro  finished_free  ongoing_pro_  \\\n66062               0.0           6.0            0.0           0.0   \n66064               0.0           8.0            0.0           0.0   \n27138               0.0           0.0            0.0           0.0   \n66090               0.0           1.0            0.0           0.0   \n66094               0.0           5.0            0.0           0.0   \n...                 ...           ...            ...           ...   \n31739               0.0          37.0           29.0          29.0   \n37898               0.0          36.0           19.0          29.0   \n68699               0.0          31.0           15.0          29.0   \n14772               0.0          39.0           22.0          31.0   \n50319               0.0          35.0           12.0          31.0   \n\n       ongoing_free_  farm_id  \n66062            0.0    66063  \n66064            0.0    66065  \n27138            0.0    27139  \n66090            0.0    66091  \n66094            0.0    66095  \n...              ...      ...  \n31739           15.0    31740  \n37898           13.0    37899  \n68699           16.0    68700  \n14772           13.0    14773  \n50319           13.0    50320  \n\n[16050 rows x 13 columns]"
     },
     "execution_count": 12,
     "metadata": {},
     "output_type": "execute_result"
    }
   ],
   "source": [
    "new_account = df[df['account_age']==0]\n",
    "new_account"
   ]
  },
  {
   "cell_type": "code",
   "execution_count": 13,
   "metadata": {},
   "outputs": [
    {
     "data": {
      "text/html": "<div>\n<style scoped>\n    .dataframe tbody tr th:only-of-type {\n        vertical-align: middle;\n    }\n\n    .dataframe tbody tr th {\n        vertical-align: top;\n    }\n\n    .dataframe thead th {\n        text-align: right;\n    }\n</style>\n<table border=\"1\" class=\"dataframe\">\n  <thead>\n    <tr style=\"text-align: right;\">\n      <th></th>\n      <th>count</th>\n      <th>mean</th>\n      <th>std</th>\n      <th>min</th>\n      <th>25%</th>\n      <th>50%</th>\n      <th>75%</th>\n      <th>max</th>\n    </tr>\n  </thead>\n  <tbody>\n    <tr>\n      <th>fms_access</th>\n      <td>100000.0</td>\n      <td>32.47931</td>\n      <td>26.037278</td>\n      <td>0.0</td>\n      <td>10.00</td>\n      <td>30.0</td>\n      <td>50.00</td>\n      <td>157.0</td>\n    </tr>\n    <tr>\n      <th>account_age</th>\n      <td>100000.0</td>\n      <td>86.63274</td>\n      <td>69.364541</td>\n      <td>0.0</td>\n      <td>26.00</td>\n      <td>80.0</td>\n      <td>134.00</td>\n      <td>438.0</td>\n    </tr>\n    <tr>\n      <th>shrimp_price_access</th>\n      <td>100000.0</td>\n      <td>5.41530</td>\n      <td>4.341204</td>\n      <td>0.0</td>\n      <td>2.00</td>\n      <td>5.0</td>\n      <td>8.00</td>\n      <td>26.0</td>\n    </tr>\n    <tr>\n      <th>shrimp_news_access</th>\n      <td>100000.0</td>\n      <td>3.24474</td>\n      <td>2.615586</td>\n      <td>0.0</td>\n      <td>1.00</td>\n      <td>3.0</td>\n      <td>5.00</td>\n      <td>16.0</td>\n    </tr>\n    <tr>\n      <th>shrimp_diseaseInformation_access</th>\n      <td>100000.0</td>\n      <td>1.07307</td>\n      <td>0.918324</td>\n      <td>0.0</td>\n      <td>0.00</td>\n      <td>1.0</td>\n      <td>2.00</td>\n      <td>5.0</td>\n    </tr>\n    <tr>\n      <th>registered_ponds</th>\n      <td>100000.0</td>\n      <td>10.83574</td>\n      <td>8.667053</td>\n      <td>0.0</td>\n      <td>3.00</td>\n      <td>10.0</td>\n      <td>17.00</td>\n      <td>52.0</td>\n    </tr>\n    <tr>\n      <th>live_demo_</th>\n      <td>100000.0</td>\n      <td>0.06756</td>\n      <td>0.250991</td>\n      <td>0.0</td>\n      <td>0.00</td>\n      <td>0.0</td>\n      <td>0.00</td>\n      <td>1.0</td>\n    </tr>\n    <tr>\n      <th>followedup_call_</th>\n      <td>100000.0</td>\n      <td>0.00979</td>\n      <td>0.098459</td>\n      <td>0.0</td>\n      <td>0.00</td>\n      <td>0.0</td>\n      <td>0.00</td>\n      <td>1.0</td>\n    </tr>\n    <tr>\n      <th>finished_pro</th>\n      <td>100000.0</td>\n      <td>14.05971</td>\n      <td>6.864583</td>\n      <td>0.0</td>\n      <td>9.00</td>\n      <td>14.0</td>\n      <td>19.00</td>\n      <td>43.0</td>\n    </tr>\n    <tr>\n      <th>finished_free</th>\n      <td>100000.0</td>\n      <td>5.23707</td>\n      <td>5.348276</td>\n      <td>0.0</td>\n      <td>0.00</td>\n      <td>4.0</td>\n      <td>9.00</td>\n      <td>34.0</td>\n    </tr>\n    <tr>\n      <th>ongoing_pro_</th>\n      <td>100000.0</td>\n      <td>5.23334</td>\n      <td>5.360500</td>\n      <td>0.0</td>\n      <td>0.00</td>\n      <td>4.0</td>\n      <td>9.00</td>\n      <td>35.0</td>\n    </tr>\n    <tr>\n      <th>ongoing_free_</th>\n      <td>100000.0</td>\n      <td>3.14642</td>\n      <td>3.578462</td>\n      <td>0.0</td>\n      <td>0.00</td>\n      <td>2.0</td>\n      <td>5.00</td>\n      <td>23.0</td>\n    </tr>\n    <tr>\n      <th>farm_id</th>\n      <td>100000.0</td>\n      <td>50000.50000</td>\n      <td>28867.657797</td>\n      <td>1.0</td>\n      <td>25000.75</td>\n      <td>50000.5</td>\n      <td>75000.25</td>\n      <td>100000.0</td>\n    </tr>\n  </tbody>\n</table>\n</div>",
      "text/plain": "                                     count         mean           std  min  \\\nfms_access                        100000.0     32.47931     26.037278  0.0   \naccount_age                       100000.0     86.63274     69.364541  0.0   \nshrimp_price_access               100000.0      5.41530      4.341204  0.0   \nshrimp_news_access                100000.0      3.24474      2.615586  0.0   \nshrimp_diseaseInformation_access  100000.0      1.07307      0.918324  0.0   \nregistered_ponds                  100000.0     10.83574      8.667053  0.0   \nlive_demo_                        100000.0      0.06756      0.250991  0.0   \nfollowedup_call_                  100000.0      0.00979      0.098459  0.0   \nfinished_pro                      100000.0     14.05971      6.864583  0.0   \nfinished_free                     100000.0      5.23707      5.348276  0.0   \nongoing_pro_                      100000.0      5.23334      5.360500  0.0   \nongoing_free_                     100000.0      3.14642      3.578462  0.0   \nfarm_id                           100000.0  50000.50000  28867.657797  1.0   \n\n                                       25%      50%       75%       max  \nfms_access                           10.00     30.0     50.00     157.0  \naccount_age                          26.00     80.0    134.00     438.0  \nshrimp_price_access                   2.00      5.0      8.00      26.0  \nshrimp_news_access                    1.00      3.0      5.00      16.0  \nshrimp_diseaseInformation_access      0.00      1.0      2.00       5.0  \nregistered_ponds                      3.00     10.0     17.00      52.0  \nlive_demo_                            0.00      0.0      0.00       1.0  \nfollowedup_call_                      0.00      0.0      0.00       1.0  \nfinished_pro                          9.00     14.0     19.00      43.0  \nfinished_free                         0.00      4.0      9.00      34.0  \nongoing_pro_                          0.00      4.0      9.00      35.0  \nongoing_free_                         0.00      2.0      5.00      23.0  \nfarm_id                           25000.75  50000.5  75000.25  100000.0  "
     },
     "execution_count": 13,
     "metadata": {},
     "output_type": "execute_result"
    }
   ],
   "source": [
    "df.describe().transpose()"
   ]
  },
  {
   "cell_type": "code",
   "execution_count": 94,
   "metadata": {},
   "outputs": [
    {
     "data": {
      "text/plain": "0.24804"
     },
     "execution_count": 94,
     "metadata": {},
     "output_type": "execute_result"
    }
   ],
   "source": [
    "len(df[ (df['account_age'] >= 0)  & (df['account_age'] < 26) ])/len(df)"
   ]
  },
  {
   "cell_type": "code",
   "execution_count": 98,
   "metadata": {},
   "outputs": [
    {
     "data": {
      "text/plain": "0.25001"
     },
     "execution_count": 98,
     "metadata": {},
     "output_type": "execute_result"
    }
   ],
   "source": [
    "len(df[ (df['account_age'] >= 26)  & (df['account_age'] < 80) ])/len(df)"
   ]
  },
  {
   "cell_type": "code",
   "execution_count": 97,
   "metadata": {},
   "outputs": [
    {
     "data": {
      "text/plain": "0.24965"
     },
     "execution_count": 97,
     "metadata": {},
     "output_type": "execute_result"
    }
   ],
   "source": [
    "len(df[ (df['account_age'] >= 80)  & (df['account_age'] < 134) ])/len(df)"
   ]
  },
  {
   "cell_type": "code",
   "execution_count": 96,
   "metadata": {},
   "outputs": [
    {
     "data": {
      "text/plain": "0.2523"
     },
     "execution_count": 96,
     "metadata": {},
     "output_type": "execute_result"
    }
   ],
   "source": [
    "len(df[ (df['account_age'] >= 134)  & (df['account_age'] <= 438) ])/len(df)"
   ]
  },
  {
   "cell_type": "markdown",
   "metadata": {},
   "source": [
    "# By Account Age"
   ]
  },
  {
   "cell_type": "code",
   "execution_count": 14,
   "metadata": {},
   "outputs": [],
   "source": [
    "age_above_avg = df[df['account_age'] > df['account_age'].mean()]"
   ]
  },
  {
   "cell_type": "code",
   "execution_count": 108,
   "metadata": {},
   "outputs": [],
   "source": [
    "age_below_avg = df[df['account_age'] < df['account_age'].mean()]"
   ]
  },
  {
   "cell_type": "code",
   "execution_count": 15,
   "metadata": {},
   "outputs": [
    {
     "data": {
      "text/html": "<div>\n<style scoped>\n    .dataframe tbody tr th:only-of-type {\n        vertical-align: middle;\n    }\n\n    .dataframe tbody tr th {\n        vertical-align: top;\n    }\n\n    .dataframe thead th {\n        text-align: right;\n    }\n</style>\n<table border=\"1\" class=\"dataframe\">\n  <thead>\n    <tr style=\"text-align: right;\">\n      <th></th>\n      <th>count</th>\n      <th>mean</th>\n      <th>std</th>\n      <th>min</th>\n      <th>25%</th>\n      <th>50%</th>\n      <th>75%</th>\n      <th>max</th>\n    </tr>\n  </thead>\n  <tbody>\n    <tr>\n      <th>fms_access</th>\n      <td>46759.0</td>\n      <td>32.381210</td>\n      <td>25.974580</td>\n      <td>0.0</td>\n      <td>10.0</td>\n      <td>30.0</td>\n      <td>50.0</td>\n      <td>147.0</td>\n    </tr>\n    <tr>\n      <th>account_age</th>\n      <td>46759.0</td>\n      <td>148.005261</td>\n      <td>47.167106</td>\n      <td>87.0</td>\n      <td>111.0</td>\n      <td>138.0</td>\n      <td>175.0</td>\n      <td>438.0</td>\n    </tr>\n    <tr>\n      <th>shrimp_price_access</th>\n      <td>46759.0</td>\n      <td>5.411450</td>\n      <td>4.323258</td>\n      <td>0.0</td>\n      <td>2.0</td>\n      <td>5.0</td>\n      <td>8.0</td>\n      <td>26.0</td>\n    </tr>\n    <tr>\n      <th>shrimp_news_access</th>\n      <td>46759.0</td>\n      <td>3.256528</td>\n      <td>2.617894</td>\n      <td>0.0</td>\n      <td>1.0</td>\n      <td>3.0</td>\n      <td>5.0</td>\n      <td>15.0</td>\n    </tr>\n    <tr>\n      <th>shrimp_diseaseInformation_access</th>\n      <td>46759.0</td>\n      <td>1.071259</td>\n      <td>0.917143</td>\n      <td>0.0</td>\n      <td>0.0</td>\n      <td>1.0</td>\n      <td>2.0</td>\n      <td>5.0</td>\n    </tr>\n    <tr>\n      <th>registered_ponds</th>\n      <td>46759.0</td>\n      <td>10.858744</td>\n      <td>8.674516</td>\n      <td>0.0</td>\n      <td>3.0</td>\n      <td>10.0</td>\n      <td>17.0</td>\n      <td>50.0</td>\n    </tr>\n    <tr>\n      <th>live_demo_</th>\n      <td>46759.0</td>\n      <td>0.066982</td>\n      <td>0.249993</td>\n      <td>0.0</td>\n      <td>0.0</td>\n      <td>0.0</td>\n      <td>0.0</td>\n      <td>1.0</td>\n    </tr>\n    <tr>\n      <th>followedup_call_</th>\n      <td>46759.0</td>\n      <td>0.010372</td>\n      <td>0.101316</td>\n      <td>0.0</td>\n      <td>0.0</td>\n      <td>0.0</td>\n      <td>0.0</td>\n      <td>1.0</td>\n    </tr>\n    <tr>\n      <th>finished_pro</th>\n      <td>46759.0</td>\n      <td>15.596698</td>\n      <td>6.767102</td>\n      <td>0.0</td>\n      <td>11.0</td>\n      <td>16.0</td>\n      <td>20.0</td>\n      <td>43.0</td>\n    </tr>\n    <tr>\n      <th>finished_free</th>\n      <td>46759.0</td>\n      <td>5.760132</td>\n      <td>5.533128</td>\n      <td>0.0</td>\n      <td>0.0</td>\n      <td>5.0</td>\n      <td>9.0</td>\n      <td>34.0</td>\n    </tr>\n    <tr>\n      <th>ongoing_pro_</th>\n      <td>46759.0</td>\n      <td>5.661969</td>\n      <td>5.494809</td>\n      <td>0.0</td>\n      <td>0.0</td>\n      <td>5.0</td>\n      <td>9.0</td>\n      <td>34.0</td>\n    </tr>\n    <tr>\n      <th>ongoing_free_</th>\n      <td>46759.0</td>\n      <td>4.680789</td>\n      <td>3.881344</td>\n      <td>0.0</td>\n      <td>1.0</td>\n      <td>4.0</td>\n      <td>7.0</td>\n      <td>23.0</td>\n    </tr>\n    <tr>\n      <th>farm_id</th>\n      <td>46759.0</td>\n      <td>50033.819072</td>\n      <td>28889.602113</td>\n      <td>2.0</td>\n      <td>25043.0</td>\n      <td>49950.0</td>\n      <td>75059.0</td>\n      <td>100000.0</td>\n    </tr>\n  </tbody>\n</table>\n</div>",
      "text/plain": "                                    count          mean           std   min  \\\nfms_access                        46759.0     32.381210     25.974580   0.0   \naccount_age                       46759.0    148.005261     47.167106  87.0   \nshrimp_price_access               46759.0      5.411450      4.323258   0.0   \nshrimp_news_access                46759.0      3.256528      2.617894   0.0   \nshrimp_diseaseInformation_access  46759.0      1.071259      0.917143   0.0   \nregistered_ponds                  46759.0     10.858744      8.674516   0.0   \nlive_demo_                        46759.0      0.066982      0.249993   0.0   \nfollowedup_call_                  46759.0      0.010372      0.101316   0.0   \nfinished_pro                      46759.0     15.596698      6.767102   0.0   \nfinished_free                     46759.0      5.760132      5.533128   0.0   \nongoing_pro_                      46759.0      5.661969      5.494809   0.0   \nongoing_free_                     46759.0      4.680789      3.881344   0.0   \nfarm_id                           46759.0  50033.819072  28889.602113   2.0   \n\n                                      25%      50%      75%       max  \nfms_access                           10.0     30.0     50.0     147.0  \naccount_age                         111.0    138.0    175.0     438.0  \nshrimp_price_access                   2.0      5.0      8.0      26.0  \nshrimp_news_access                    1.0      3.0      5.0      15.0  \nshrimp_diseaseInformation_access      0.0      1.0      2.0       5.0  \nregistered_ponds                      3.0     10.0     17.0      50.0  \nlive_demo_                            0.0      0.0      0.0       1.0  \nfollowedup_call_                      0.0      0.0      0.0       1.0  \nfinished_pro                         11.0     16.0     20.0      43.0  \nfinished_free                         0.0      5.0      9.0      34.0  \nongoing_pro_                          0.0      5.0      9.0      34.0  \nongoing_free_                         1.0      4.0      7.0      23.0  \nfarm_id                           25043.0  49950.0  75059.0  100000.0  "
     },
     "execution_count": 15,
     "metadata": {},
     "output_type": "execute_result"
    }
   ],
   "source": [
    "age_above_avg.describe().transpose()"
   ]
  },
  {
   "cell_type": "code",
   "execution_count": 110,
   "metadata": {},
   "outputs": [
    {
     "data": {
      "text/html": "<div>\n<style scoped>\n    .dataframe tbody tr th:only-of-type {\n        vertical-align: middle;\n    }\n\n    .dataframe tbody tr th {\n        vertical-align: top;\n    }\n\n    .dataframe thead th {\n        text-align: right;\n    }\n</style>\n<table border=\"1\" class=\"dataframe\">\n  <thead>\n    <tr style=\"text-align: right;\">\n      <th></th>\n      <th>count</th>\n      <th>mean</th>\n      <th>std</th>\n      <th>min</th>\n      <th>25%</th>\n      <th>50%</th>\n      <th>75%</th>\n      <th>max</th>\n    </tr>\n  </thead>\n  <tbody>\n    <tr>\n      <th>fms_access</th>\n      <td>46759.0</td>\n      <td>32.381210</td>\n      <td>25.974580</td>\n      <td>0.0</td>\n      <td>10.0</td>\n      <td>30.0</td>\n      <td>50.0</td>\n      <td>147.0</td>\n    </tr>\n    <tr>\n      <th>account_age</th>\n      <td>46759.0</td>\n      <td>148.005261</td>\n      <td>47.167106</td>\n      <td>87.0</td>\n      <td>111.0</td>\n      <td>138.0</td>\n      <td>175.0</td>\n      <td>438.0</td>\n    </tr>\n    <tr>\n      <th>shrimp_price_access</th>\n      <td>46759.0</td>\n      <td>5.411450</td>\n      <td>4.323258</td>\n      <td>0.0</td>\n      <td>2.0</td>\n      <td>5.0</td>\n      <td>8.0</td>\n      <td>26.0</td>\n    </tr>\n    <tr>\n      <th>shrimp_news_access</th>\n      <td>46759.0</td>\n      <td>3.256528</td>\n      <td>2.617894</td>\n      <td>0.0</td>\n      <td>1.0</td>\n      <td>3.0</td>\n      <td>5.0</td>\n      <td>15.0</td>\n    </tr>\n    <tr>\n      <th>shrimp_diseaseInformation_access</th>\n      <td>46759.0</td>\n      <td>1.071259</td>\n      <td>0.917143</td>\n      <td>0.0</td>\n      <td>0.0</td>\n      <td>1.0</td>\n      <td>2.0</td>\n      <td>5.0</td>\n    </tr>\n    <tr>\n      <th>registered_ponds</th>\n      <td>46759.0</td>\n      <td>10.858744</td>\n      <td>8.674516</td>\n      <td>0.0</td>\n      <td>3.0</td>\n      <td>10.0</td>\n      <td>17.0</td>\n      <td>50.0</td>\n    </tr>\n    <tr>\n      <th>live_demo_</th>\n      <td>46759.0</td>\n      <td>0.066982</td>\n      <td>0.249993</td>\n      <td>0.0</td>\n      <td>0.0</td>\n      <td>0.0</td>\n      <td>0.0</td>\n      <td>1.0</td>\n    </tr>\n    <tr>\n      <th>followedup_call_</th>\n      <td>46759.0</td>\n      <td>0.010372</td>\n      <td>0.101316</td>\n      <td>0.0</td>\n      <td>0.0</td>\n      <td>0.0</td>\n      <td>0.0</td>\n      <td>1.0</td>\n    </tr>\n    <tr>\n      <th>finished_pro</th>\n      <td>46759.0</td>\n      <td>15.596698</td>\n      <td>6.767102</td>\n      <td>0.0</td>\n      <td>11.0</td>\n      <td>16.0</td>\n      <td>20.0</td>\n      <td>43.0</td>\n    </tr>\n    <tr>\n      <th>finished_free</th>\n      <td>46759.0</td>\n      <td>5.760132</td>\n      <td>5.533128</td>\n      <td>0.0</td>\n      <td>0.0</td>\n      <td>5.0</td>\n      <td>9.0</td>\n      <td>34.0</td>\n    </tr>\n    <tr>\n      <th>ongoing_pro_</th>\n      <td>46759.0</td>\n      <td>5.661969</td>\n      <td>5.494809</td>\n      <td>0.0</td>\n      <td>0.0</td>\n      <td>5.0</td>\n      <td>9.0</td>\n      <td>34.0</td>\n    </tr>\n    <tr>\n      <th>ongoing_free_</th>\n      <td>46759.0</td>\n      <td>4.680789</td>\n      <td>3.881344</td>\n      <td>0.0</td>\n      <td>1.0</td>\n      <td>4.0</td>\n      <td>7.0</td>\n      <td>23.0</td>\n    </tr>\n    <tr>\n      <th>farm_id</th>\n      <td>46759.0</td>\n      <td>50033.819072</td>\n      <td>28889.602113</td>\n      <td>2.0</td>\n      <td>25043.0</td>\n      <td>49950.0</td>\n      <td>75059.0</td>\n      <td>100000.0</td>\n    </tr>\n  </tbody>\n</table>\n</div>",
      "text/plain": "                                    count          mean           std   min  \\\nfms_access                        46759.0     32.381210     25.974580   0.0   \naccount_age                       46759.0    148.005261     47.167106  87.0   \nshrimp_price_access               46759.0      5.411450      4.323258   0.0   \nshrimp_news_access                46759.0      3.256528      2.617894   0.0   \nshrimp_diseaseInformation_access  46759.0      1.071259      0.917143   0.0   \nregistered_ponds                  46759.0     10.858744      8.674516   0.0   \nlive_demo_                        46759.0      0.066982      0.249993   0.0   \nfollowedup_call_                  46759.0      0.010372      0.101316   0.0   \nfinished_pro                      46759.0     15.596698      6.767102   0.0   \nfinished_free                     46759.0      5.760132      5.533128   0.0   \nongoing_pro_                      46759.0      5.661969      5.494809   0.0   \nongoing_free_                     46759.0      4.680789      3.881344   0.0   \nfarm_id                           46759.0  50033.819072  28889.602113   2.0   \n\n                                      25%      50%      75%       max  \nfms_access                           10.0     30.0     50.0     147.0  \naccount_age                         111.0    138.0    175.0     438.0  \nshrimp_price_access                   2.0      5.0      8.0      26.0  \nshrimp_news_access                    1.0      3.0      5.0      15.0  \nshrimp_diseaseInformation_access      0.0      1.0      2.0       5.0  \nregistered_ponds                      3.0     10.0     17.0      50.0  \nlive_demo_                            0.0      0.0      0.0       1.0  \nfollowedup_call_                      0.0      0.0      0.0       1.0  \nfinished_pro                         11.0     16.0     20.0      43.0  \nfinished_free                         0.0      5.0      9.0      34.0  \nongoing_pro_                          0.0      5.0      9.0      34.0  \nongoing_free_                         1.0      4.0      7.0      23.0  \nfarm_id                           25043.0  49950.0  75059.0  100000.0  "
     },
     "execution_count": 110,
     "metadata": {},
     "output_type": "execute_result"
    }
   ],
   "source": [
    "age_above_avg.describe().T"
   ]
  },
  {
   "cell_type": "code",
   "execution_count": 16,
   "metadata": {},
   "outputs": [
    {
     "data": {
      "text/plain": "92.32900000000001"
     },
     "execution_count": 16,
     "metadata": {},
     "output_type": "execute_result"
    }
   ],
   "source": [
    "df[(df['live_demo_']==0) & (df['followedup_call_']==0)]['farm_id'].count()/len(df)*100"
   ]
  },
  {
   "cell_type": "code",
   "execution_count": 17,
   "metadata": {},
   "outputs": [
    {
     "data": {
      "text/plain": "92.32447229410381"
     },
     "execution_count": 17,
     "metadata": {},
     "output_type": "execute_result"
    }
   ],
   "source": [
    "age_above_avg[(age_above_avg['live_demo_']==0) & (age_above_avg['followedup_call_']==0)]['farm_id'].count()/len(age_above_avg)*100"
   ]
  },
  {
   "cell_type": "code",
   "execution_count": 18,
   "metadata": {},
   "outputs": [
    {
     "data": {
      "text/plain": "0.05988152013516114"
     },
     "execution_count": 18,
     "metadata": {},
     "output_type": "execute_result"
    }
   ],
   "source": [
    "age_above_avg[(age_above_avg['live_demo_']==1) & (age_above_avg['followedup_call_']==1)]['farm_id'].count()/len(age_above_avg)*100"
   ]
  },
  {
   "cell_type": "markdown",
   "metadata": {},
   "source": [
    "## New Account"
   ]
  },
  {
   "cell_type": "code",
   "execution_count": 19,
   "metadata": {},
   "outputs": [
    {
     "data": {
      "text/html": "<div>\n<style scoped>\n    .dataframe tbody tr th:only-of-type {\n        vertical-align: middle;\n    }\n\n    .dataframe tbody tr th {\n        vertical-align: top;\n    }\n\n    .dataframe thead th {\n        text-align: right;\n    }\n</style>\n<table border=\"1\" class=\"dataframe\">\n  <thead>\n    <tr style=\"text-align: right;\">\n      <th></th>\n      <th>count</th>\n      <th>mean</th>\n      <th>std</th>\n      <th>min</th>\n      <th>25%</th>\n      <th>50%</th>\n      <th>75%</th>\n      <th>max</th>\n    </tr>\n  </thead>\n  <tbody>\n    <tr>\n      <th>fms_access</th>\n      <td>16050.0</td>\n      <td>32.614330</td>\n      <td>26.013243</td>\n      <td>0.0</td>\n      <td>10.00</td>\n      <td>30.0</td>\n      <td>50.00</td>\n      <td>146.0</td>\n    </tr>\n    <tr>\n      <th>account_age</th>\n      <td>16050.0</td>\n      <td>0.000000</td>\n      <td>0.000000</td>\n      <td>0.0</td>\n      <td>0.00</td>\n      <td>0.0</td>\n      <td>0.00</td>\n      <td>0.0</td>\n    </tr>\n    <tr>\n      <th>shrimp_price_access</th>\n      <td>16050.0</td>\n      <td>5.408910</td>\n      <td>4.366899</td>\n      <td>0.0</td>\n      <td>2.00</td>\n      <td>5.0</td>\n      <td>8.00</td>\n      <td>24.0</td>\n    </tr>\n    <tr>\n      <th>shrimp_news_access</th>\n      <td>16050.0</td>\n      <td>3.223115</td>\n      <td>2.605874</td>\n      <td>0.0</td>\n      <td>1.00</td>\n      <td>3.0</td>\n      <td>5.00</td>\n      <td>15.0</td>\n    </tr>\n    <tr>\n      <th>shrimp_diseaseInformation_access</th>\n      <td>16050.0</td>\n      <td>1.070218</td>\n      <td>0.923042</td>\n      <td>0.0</td>\n      <td>0.00</td>\n      <td>1.0</td>\n      <td>2.00</td>\n      <td>5.0</td>\n    </tr>\n    <tr>\n      <th>registered_ponds</th>\n      <td>16050.0</td>\n      <td>10.781371</td>\n      <td>8.676904</td>\n      <td>0.0</td>\n      <td>3.00</td>\n      <td>10.0</td>\n      <td>17.00</td>\n      <td>49.0</td>\n    </tr>\n    <tr>\n      <th>live_demo_</th>\n      <td>16050.0</td>\n      <td>0.070717</td>\n      <td>0.256359</td>\n      <td>0.0</td>\n      <td>0.00</td>\n      <td>0.0</td>\n      <td>0.00</td>\n      <td>1.0</td>\n    </tr>\n    <tr>\n      <th>followedup_call_</th>\n      <td>16050.0</td>\n      <td>0.009221</td>\n      <td>0.095586</td>\n      <td>0.0</td>\n      <td>0.00</td>\n      <td>0.0</td>\n      <td>0.00</td>\n      <td>1.0</td>\n    </tr>\n    <tr>\n      <th>finished_pro</th>\n      <td>16050.0</td>\n      <td>11.255202</td>\n      <td>6.544492</td>\n      <td>0.0</td>\n      <td>7.00</td>\n      <td>11.0</td>\n      <td>16.00</td>\n      <td>39.0</td>\n    </tr>\n    <tr>\n      <th>finished_free</th>\n      <td>16050.0</td>\n      <td>4.270405</td>\n      <td>4.930336</td>\n      <td>0.0</td>\n      <td>0.00</td>\n      <td>3.0</td>\n      <td>7.00</td>\n      <td>29.0</td>\n    </tr>\n    <tr>\n      <th>ongoing_pro_</th>\n      <td>16050.0</td>\n      <td>4.428660</td>\n      <td>5.044341</td>\n      <td>0.0</td>\n      <td>0.00</td>\n      <td>3.0</td>\n      <td>8.00</td>\n      <td>31.0</td>\n    </tr>\n    <tr>\n      <th>ongoing_free_</th>\n      <td>16050.0</td>\n      <td>0.882118</td>\n      <td>1.857349</td>\n      <td>0.0</td>\n      <td>0.00</td>\n      <td>0.0</td>\n      <td>1.00</td>\n      <td>16.0</td>\n    </tr>\n    <tr>\n      <th>farm_id</th>\n      <td>16050.0</td>\n      <td>50082.950280</td>\n      <td>28787.894403</td>\n      <td>1.0</td>\n      <td>25069.75</td>\n      <td>50287.0</td>\n      <td>74807.25</td>\n      <td>99987.0</td>\n    </tr>\n  </tbody>\n</table>\n</div>",
      "text/plain": "                                    count          mean           std  min  \\\nfms_access                        16050.0     32.614330     26.013243  0.0   \naccount_age                       16050.0      0.000000      0.000000  0.0   \nshrimp_price_access               16050.0      5.408910      4.366899  0.0   \nshrimp_news_access                16050.0      3.223115      2.605874  0.0   \nshrimp_diseaseInformation_access  16050.0      1.070218      0.923042  0.0   \nregistered_ponds                  16050.0     10.781371      8.676904  0.0   \nlive_demo_                        16050.0      0.070717      0.256359  0.0   \nfollowedup_call_                  16050.0      0.009221      0.095586  0.0   \nfinished_pro                      16050.0     11.255202      6.544492  0.0   \nfinished_free                     16050.0      4.270405      4.930336  0.0   \nongoing_pro_                      16050.0      4.428660      5.044341  0.0   \nongoing_free_                     16050.0      0.882118      1.857349  0.0   \nfarm_id                           16050.0  50082.950280  28787.894403  1.0   \n\n                                       25%      50%       75%      max  \nfms_access                           10.00     30.0     50.00    146.0  \naccount_age                           0.00      0.0      0.00      0.0  \nshrimp_price_access                   2.00      5.0      8.00     24.0  \nshrimp_news_access                    1.00      3.0      5.00     15.0  \nshrimp_diseaseInformation_access      0.00      1.0      2.00      5.0  \nregistered_ponds                      3.00     10.0     17.00     49.0  \nlive_demo_                            0.00      0.0      0.00      1.0  \nfollowedup_call_                      0.00      0.0      0.00      1.0  \nfinished_pro                          7.00     11.0     16.00     39.0  \nfinished_free                         0.00      3.0      7.00     29.0  \nongoing_pro_                          0.00      3.0      8.00     31.0  \nongoing_free_                         0.00      0.0      1.00     16.0  \nfarm_id                           25069.75  50287.0  74807.25  99987.0  "
     },
     "execution_count": 19,
     "metadata": {},
     "output_type": "execute_result"
    }
   ],
   "source": [
    "new_account.describe().transpose()"
   ]
  },
  {
   "cell_type": "markdown",
   "metadata": {},
   "source": [
    "- Ada perbedaan nilai rata-rata akses farm management system antara new_account dengan umur account yang diatas rata-rata\n",
    "Nilai fms_access new_account : 32.61\n",
    "Nilai fms_access account_above_average : 32.38"
   ]
  },
  {
   "cell_type": "code",
   "execution_count": 20,
   "metadata": {},
   "outputs": [
    {
     "name": "stdout",
     "output_type": "stream",
     "text": [
      "New account that has been given live demo of the product 7.071651090342678 % from the overall new account\n",
      "New account that has not been given live demo of the product 92.92834890965732 % from the overall new account\n"
     ]
    }
   ],
   "source": [
    "new_account_live_demo1 = new_account[new_account['live_demo_'] == 1]['farm_id'].count()/len(new_account)*100\n",
    "new_account_live_demo0 = new_account[new_account['live_demo_'] == 0]['farm_id'].count()/len(new_account)*100\n",
    "\n",
    "print('New account that has been given live demo of the product {} % from the overall new account'.format(new_account_live_demo1))\n",
    "print('New account that has not been given live demo of the product {} % from the overall new account'.format(new_account_live_demo0))"
   ]
  },
  {
   "cell_type": "code",
   "execution_count": 21,
   "metadata": {},
   "outputs": [
    {
     "name": "stdout",
     "output_type": "stream",
     "text": [
      "New account that has been followed up 0.9221183800623053 % from the overall new account\n",
      "New account that has not been followed up 99.07788161993768 % from the overall new account\n"
     ]
    }
   ],
   "source": [
    "new_account_followedup_call1 = new_account[new_account['followedup_call_'] == 1]['farm_id'].count()/len(new_account)*100\n",
    "new_account_followedup_call0 = new_account[new_account['followedup_call_'] == 0]['farm_id'].count()/len(new_account)*100\n",
    "\n",
    "print('New account that has been followed up {} % from the overall new account'.format(new_account_followedup_call1))\n",
    "print('New account that has not been followed up {} % from the overall new account'.format(new_account_followedup_call0))"
   ]
  },
  {
   "cell_type": "code",
   "execution_count": 90,
   "metadata": {},
   "outputs": [
    {
     "name": "stdout",
     "output_type": "stream",
     "text": [
      "New account that has not been given live demo and not called 14.777000000000001 from the overall new account%\n",
      "New account that has not been given live demo but have been called 0.13799999999999998 % from the overall new account\n",
      "New account that has been given live demo but has not been called 1.125 % from the overall new account\n",
      "New account that has been given live demo and called 0.01 % from the overall new account\n"
     ]
    }
   ],
   "source": [
    "new_account_demo0_call0 = new_account[(new_account['live_demo_']==0) & (new_account['followedup_call_']==0)]['farm_id'].count()/len(df)*100\n",
    "new_account_demo0_call1 = new_account[(new_account['live_demo_']==0) & (new_account['followedup_call_']==1)]['farm_id'].count()/len(df)*100\n",
    "new_account_demo1_call0 = new_account[(new_account['live_demo_']==1) & (new_account['followedup_call_']==0)]['farm_id'].count()/len(df)*100\n",
    "new_account_demo1_call1 = new_account[(new_account['live_demo_']==1) & (new_account['followedup_call_']==1)]['farm_id'].count()/len(df)*100\n",
    "\n",
    "print('New account that has not been given live demo and not called {} from the overall new account%'.format(new_account_demo0_call0))\n",
    "print('New account that has not been given live demo but have been called {} % from the overall new account'.format(new_account_demo0_call1))\n",
    "print('New account that has been given live demo but has not been called {} % from the overall new account'.format(new_account_demo1_call0))\n",
    "print('New account that has been given live demo and called {} % from the overall new account'.format(new_account_demo1_call1))"
   ]
  },
  {
   "cell_type": "markdown",
   "metadata": {},
   "source": [
    "Analisis berdasarkan umur account = 0"
   ]
  },
  {
   "cell_type": "markdown",
   "metadata": {},
   "source": [
    "- Terdapat 16.05% account baru(account_age=0), atau dalam angka adalah 16050 account baru\n",
    "Berdasarkan flow bisnisnya, proses kerja dari tim sales dan marketing untuk mendapatkan customer yang membeli siklus pro adalah dengan cara live demo product dan melakukan call dengan customer, tetapi 92% dari account baru belum di approach, baik secara call maupun live demo.\n",
    "- Jika dibandingkan account baru dengan account yang umurnya diatas rata rata, dalam hal akses farm management system tidak ada perbedaan signifikan, tetapi 92% dari account baru belum pernah di approach baik secara call ataupun live demo dari product\n",
    "- Perbandingan \n",
    "\n",
    "**Recommendation**\n",
    "- Approach account baru di approach, chance mereka convert menjadi premium account lebih besar. Bisa dimulai dari account yang sudah di beri live demo"
   ]
  },
  {
   "cell_type": "code",
   "execution_count": 23,
   "metadata": {},
   "outputs": [
    {
     "data": {
      "text/html": "<div>\n<style scoped>\n    .dataframe tbody tr th:only-of-type {\n        vertical-align: middle;\n    }\n\n    .dataframe tbody tr th {\n        vertical-align: top;\n    }\n\n    .dataframe thead th {\n        text-align: right;\n    }\n</style>\n<table border=\"1\" class=\"dataframe\">\n  <thead>\n    <tr style=\"text-align: right;\">\n      <th></th>\n      <th>count</th>\n      <th>mean</th>\n      <th>std</th>\n      <th>min</th>\n      <th>25%</th>\n      <th>50%</th>\n      <th>75%</th>\n      <th>max</th>\n    </tr>\n  </thead>\n  <tbody>\n    <tr>\n      <th>fms_access</th>\n      <td>10.0</td>\n      <td>32.6</td>\n      <td>12.659647</td>\n      <td>16.0</td>\n      <td>25.25</td>\n      <td>28.5</td>\n      <td>39.50</td>\n      <td>56.0</td>\n    </tr>\n    <tr>\n      <th>account_age</th>\n      <td>10.0</td>\n      <td>0.0</td>\n      <td>0.000000</td>\n      <td>0.0</td>\n      <td>0.00</td>\n      <td>0.0</td>\n      <td>0.00</td>\n      <td>0.0</td>\n    </tr>\n    <tr>\n      <th>shrimp_price_access</th>\n      <td>10.0</td>\n      <td>3.0</td>\n      <td>3.944053</td>\n      <td>0.0</td>\n      <td>0.00</td>\n      <td>1.0</td>\n      <td>4.75</td>\n      <td>11.0</td>\n    </tr>\n    <tr>\n      <th>shrimp_news_access</th>\n      <td>10.0</td>\n      <td>4.0</td>\n      <td>3.018462</td>\n      <td>0.0</td>\n      <td>0.75</td>\n      <td>5.0</td>\n      <td>6.75</td>\n      <td>7.0</td>\n    </tr>\n    <tr>\n      <th>shrimp_diseaseInformation_access</th>\n      <td>10.0</td>\n      <td>0.7</td>\n      <td>0.674949</td>\n      <td>0.0</td>\n      <td>0.00</td>\n      <td>1.0</td>\n      <td>1.00</td>\n      <td>2.0</td>\n    </tr>\n    <tr>\n      <th>registered_ponds</th>\n      <td>10.0</td>\n      <td>9.5</td>\n      <td>8.303279</td>\n      <td>0.0</td>\n      <td>2.50</td>\n      <td>9.0</td>\n      <td>13.75</td>\n      <td>25.0</td>\n    </tr>\n    <tr>\n      <th>live_demo_</th>\n      <td>10.0</td>\n      <td>1.0</td>\n      <td>0.000000</td>\n      <td>1.0</td>\n      <td>1.00</td>\n      <td>1.0</td>\n      <td>1.00</td>\n      <td>1.0</td>\n    </tr>\n    <tr>\n      <th>followedup_call_</th>\n      <td>10.0</td>\n      <td>1.0</td>\n      <td>0.000000</td>\n      <td>1.0</td>\n      <td>1.00</td>\n      <td>1.0</td>\n      <td>1.00</td>\n      <td>1.0</td>\n    </tr>\n    <tr>\n      <th>finished_pro</th>\n      <td>10.0</td>\n      <td>17.9</td>\n      <td>5.152130</td>\n      <td>12.0</td>\n      <td>14.50</td>\n      <td>17.0</td>\n      <td>20.75</td>\n      <td>29.0</td>\n    </tr>\n    <tr>\n      <th>finished_free</th>\n      <td>10.0</td>\n      <td>3.4</td>\n      <td>4.880801</td>\n      <td>0.0</td>\n      <td>0.00</td>\n      <td>1.5</td>\n      <td>4.00</td>\n      <td>15.0</td>\n    </tr>\n    <tr>\n      <th>ongoing_pro_</th>\n      <td>10.0</td>\n      <td>8.2</td>\n      <td>5.006662</td>\n      <td>1.0</td>\n      <td>4.75</td>\n      <td>7.5</td>\n      <td>10.75</td>\n      <td>19.0</td>\n    </tr>\n    <tr>\n      <th>ongoing_free_</th>\n      <td>10.0</td>\n      <td>0.8</td>\n      <td>1.135292</td>\n      <td>0.0</td>\n      <td>0.00</td>\n      <td>0.0</td>\n      <td>1.75</td>\n      <td>3.0</td>\n    </tr>\n    <tr>\n      <th>farm_id</th>\n      <td>10.0</td>\n      <td>39653.0</td>\n      <td>23158.483984</td>\n      <td>7266.0</td>\n      <td>17383.50</td>\n      <td>45060.0</td>\n      <td>55472.25</td>\n      <td>72306.0</td>\n    </tr>\n  </tbody>\n</table>\n</div>",
      "text/plain": "                                  count     mean           std     min  \\\nfms_access                         10.0     32.6     12.659647    16.0   \naccount_age                        10.0      0.0      0.000000     0.0   \nshrimp_price_access                10.0      3.0      3.944053     0.0   \nshrimp_news_access                 10.0      4.0      3.018462     0.0   \nshrimp_diseaseInformation_access   10.0      0.7      0.674949     0.0   \nregistered_ponds                   10.0      9.5      8.303279     0.0   \nlive_demo_                         10.0      1.0      0.000000     1.0   \nfollowedup_call_                   10.0      1.0      0.000000     1.0   \nfinished_pro                       10.0     17.9      5.152130    12.0   \nfinished_free                      10.0      3.4      4.880801     0.0   \nongoing_pro_                       10.0      8.2      5.006662     1.0   \nongoing_free_                      10.0      0.8      1.135292     0.0   \nfarm_id                            10.0  39653.0  23158.483984  7266.0   \n\n                                       25%      50%       75%      max  \nfms_access                           25.25     28.5     39.50     56.0  \naccount_age                           0.00      0.0      0.00      0.0  \nshrimp_price_access                   0.00      1.0      4.75     11.0  \nshrimp_news_access                    0.75      5.0      6.75      7.0  \nshrimp_diseaseInformation_access      0.00      1.0      1.00      2.0  \nregistered_ponds                      2.50      9.0     13.75     25.0  \nlive_demo_                            1.00      1.0      1.00      1.0  \nfollowedup_call_                      1.00      1.0      1.00      1.0  \nfinished_pro                         14.50     17.0     20.75     29.0  \nfinished_free                         0.00      1.5      4.00     15.0  \nongoing_pro_                          4.75      7.5     10.75     19.0  \nongoing_free_                         0.00      0.0      1.75      3.0  \nfarm_id                           17383.50  45060.0  55472.25  72306.0  "
     },
     "execution_count": 23,
     "metadata": {},
     "output_type": "execute_result"
    }
   ],
   "source": [
    "new_account[(new_account['live_demo_']==1) & (new_account['followedup_call_']==1)].describe().transpose()"
   ]
  },
  {
   "cell_type": "code",
   "execution_count": 24,
   "metadata": {},
   "outputs": [
    {
     "data": {
      "text/html": "<div>\n<style scoped>\n    .dataframe tbody tr th:only-of-type {\n        vertical-align: middle;\n    }\n\n    .dataframe tbody tr th {\n        vertical-align: top;\n    }\n\n    .dataframe thead th {\n        text-align: right;\n    }\n</style>\n<table border=\"1\" class=\"dataframe\">\n  <thead>\n    <tr style=\"text-align: right;\">\n      <th></th>\n      <th>count</th>\n      <th>mean</th>\n      <th>std</th>\n      <th>min</th>\n      <th>25%</th>\n      <th>50%</th>\n      <th>75%</th>\n      <th>max</th>\n    </tr>\n  </thead>\n  <tbody>\n    <tr>\n      <th>fms_access</th>\n      <td>7454.0</td>\n      <td>55.789107</td>\n      <td>17.627413</td>\n      <td>33.0</td>\n      <td>42.00</td>\n      <td>52.0</td>\n      <td>66.00</td>\n      <td>146.0</td>\n    </tr>\n    <tr>\n      <th>account_age</th>\n      <td>7454.0</td>\n      <td>0.000000</td>\n      <td>0.000000</td>\n      <td>0.0</td>\n      <td>0.00</td>\n      <td>0.0</td>\n      <td>0.00</td>\n      <td>0.0</td>\n    </tr>\n    <tr>\n      <th>shrimp_price_access</th>\n      <td>7454.0</td>\n      <td>5.366917</td>\n      <td>4.347255</td>\n      <td>0.0</td>\n      <td>2.00</td>\n      <td>5.0</td>\n      <td>8.00</td>\n      <td>22.0</td>\n    </tr>\n    <tr>\n      <th>shrimp_news_access</th>\n      <td>7454.0</td>\n      <td>3.219748</td>\n      <td>2.608958</td>\n      <td>0.0</td>\n      <td>1.00</td>\n      <td>3.0</td>\n      <td>5.00</td>\n      <td>15.0</td>\n    </tr>\n    <tr>\n      <th>shrimp_diseaseInformation_access</th>\n      <td>7454.0</td>\n      <td>1.070164</td>\n      <td>0.920735</td>\n      <td>0.0</td>\n      <td>0.00</td>\n      <td>1.0</td>\n      <td>2.00</td>\n      <td>5.0</td>\n    </tr>\n    <tr>\n      <th>registered_ponds</th>\n      <td>7454.0</td>\n      <td>10.796485</td>\n      <td>8.743051</td>\n      <td>0.0</td>\n      <td>3.00</td>\n      <td>10.0</td>\n      <td>17.00</td>\n      <td>49.0</td>\n    </tr>\n    <tr>\n      <th>live_demo_</th>\n      <td>7454.0</td>\n      <td>0.069761</td>\n      <td>0.254761</td>\n      <td>0.0</td>\n      <td>0.00</td>\n      <td>0.0</td>\n      <td>0.00</td>\n      <td>1.0</td>\n    </tr>\n    <tr>\n      <th>followedup_call_</th>\n      <td>7454.0</td>\n      <td>0.009391</td>\n      <td>0.096457</td>\n      <td>0.0</td>\n      <td>0.00</td>\n      <td>0.0</td>\n      <td>0.00</td>\n      <td>1.0</td>\n    </tr>\n    <tr>\n      <th>finished_pro</th>\n      <td>7454.0</td>\n      <td>13.987926</td>\n      <td>6.303144</td>\n      <td>0.0</td>\n      <td>10.00</td>\n      <td>14.0</td>\n      <td>18.00</td>\n      <td>39.0</td>\n    </tr>\n    <tr>\n      <th>finished_free</th>\n      <td>7454.0</td>\n      <td>4.607862</td>\n      <td>5.152847</td>\n      <td>0.0</td>\n      <td>0.00</td>\n      <td>3.0</td>\n      <td>8.00</td>\n      <td>29.0</td>\n    </tr>\n    <tr>\n      <th>ongoing_pro_</th>\n      <td>7454.0</td>\n      <td>7.241213</td>\n      <td>5.383761</td>\n      <td>0.0</td>\n      <td>3.00</td>\n      <td>7.0</td>\n      <td>11.00</td>\n      <td>31.0</td>\n    </tr>\n    <tr>\n      <th>ongoing_free_</th>\n      <td>7454.0</td>\n      <td>1.653072</td>\n      <td>2.366887</td>\n      <td>0.0</td>\n      <td>0.00</td>\n      <td>0.0</td>\n      <td>3.00</td>\n      <td>16.0</td>\n    </tr>\n    <tr>\n      <th>farm_id</th>\n      <td>7454.0</td>\n      <td>49992.910786</td>\n      <td>28694.949714</td>\n      <td>43.0</td>\n      <td>24941.25</td>\n      <td>49927.0</td>\n      <td>74576.75</td>\n      <td>99985.0</td>\n    </tr>\n  </tbody>\n</table>\n</div>",
      "text/plain": "                                   count          mean           std   min  \\\nfms_access                        7454.0     55.789107     17.627413  33.0   \naccount_age                       7454.0      0.000000      0.000000   0.0   \nshrimp_price_access               7454.0      5.366917      4.347255   0.0   \nshrimp_news_access                7454.0      3.219748      2.608958   0.0   \nshrimp_diseaseInformation_access  7454.0      1.070164      0.920735   0.0   \nregistered_ponds                  7454.0     10.796485      8.743051   0.0   \nlive_demo_                        7454.0      0.069761      0.254761   0.0   \nfollowedup_call_                  7454.0      0.009391      0.096457   0.0   \nfinished_pro                      7454.0     13.987926      6.303144   0.0   \nfinished_free                     7454.0      4.607862      5.152847   0.0   \nongoing_pro_                      7454.0      7.241213      5.383761   0.0   \nongoing_free_                     7454.0      1.653072      2.366887   0.0   \nfarm_id                           7454.0  49992.910786  28694.949714  43.0   \n\n                                       25%      50%       75%      max  \nfms_access                           42.00     52.0     66.00    146.0  \naccount_age                           0.00      0.0      0.00      0.0  \nshrimp_price_access                   2.00      5.0      8.00     22.0  \nshrimp_news_access                    1.00      3.0      5.00     15.0  \nshrimp_diseaseInformation_access      0.00      1.0      2.00      5.0  \nregistered_ponds                      3.00     10.0     17.00     49.0  \nlive_demo_                            0.00      0.0      0.00      1.0  \nfollowedup_call_                      0.00      0.0      0.00      1.0  \nfinished_pro                         10.00     14.0     18.00     39.0  \nfinished_free                         0.00      3.0      8.00     29.0  \nongoing_pro_                          3.00      7.0     11.00     31.0  \nongoing_free_                         0.00      0.0      3.00     16.0  \nfarm_id                           24941.25  49927.0  74576.75  99985.0  "
     },
     "execution_count": 24,
     "metadata": {},
     "output_type": "execute_result"
    }
   ],
   "source": [
    "new_account[new_account['fms_access'] > new_account['fms_access'].mean()].describe().transpose()"
   ]
  },
  {
   "cell_type": "code",
   "execution_count": 25,
   "metadata": {},
   "outputs": [
    {
     "data": {
      "text/html": "<div>\n<style scoped>\n    .dataframe tbody tr th:only-of-type {\n        vertical-align: middle;\n    }\n\n    .dataframe tbody tr th {\n        vertical-align: top;\n    }\n\n    .dataframe thead th {\n        text-align: right;\n    }\n</style>\n<table border=\"1\" class=\"dataframe\">\n  <thead>\n    <tr style=\"text-align: right;\">\n      <th></th>\n      <th>count</th>\n      <th>mean</th>\n      <th>std</th>\n      <th>min</th>\n      <th>25%</th>\n      <th>50%</th>\n      <th>75%</th>\n      <th>max</th>\n    </tr>\n  </thead>\n  <tbody>\n    <tr>\n      <th>fms_access</th>\n      <td>3938.0</td>\n      <td>1.791772</td>\n      <td>2.930022</td>\n      <td>0.0</td>\n      <td>0.0</td>\n      <td>0.0</td>\n      <td>3.00</td>\n      <td>9.0</td>\n    </tr>\n    <tr>\n      <th>account_age</th>\n      <td>3938.0</td>\n      <td>0.000000</td>\n      <td>0.000000</td>\n      <td>0.0</td>\n      <td>0.0</td>\n      <td>0.0</td>\n      <td>0.00</td>\n      <td>0.0</td>\n    </tr>\n    <tr>\n      <th>shrimp_price_access</th>\n      <td>3938.0</td>\n      <td>5.517776</td>\n      <td>4.401932</td>\n      <td>0.0</td>\n      <td>2.0</td>\n      <td>5.0</td>\n      <td>9.00</td>\n      <td>24.0</td>\n    </tr>\n    <tr>\n      <th>shrimp_news_access</th>\n      <td>3938.0</td>\n      <td>3.229812</td>\n      <td>2.614171</td>\n      <td>0.0</td>\n      <td>1.0</td>\n      <td>3.0</td>\n      <td>5.00</td>\n      <td>15.0</td>\n    </tr>\n    <tr>\n      <th>shrimp_diseaseInformation_access</th>\n      <td>3938.0</td>\n      <td>1.057897</td>\n      <td>0.918414</td>\n      <td>0.0</td>\n      <td>0.0</td>\n      <td>1.0</td>\n      <td>2.00</td>\n      <td>4.0</td>\n    </tr>\n    <tr>\n      <th>registered_ponds</th>\n      <td>3938.0</td>\n      <td>10.594972</td>\n      <td>8.634876</td>\n      <td>0.0</td>\n      <td>3.0</td>\n      <td>10.0</td>\n      <td>16.00</td>\n      <td>47.0</td>\n    </tr>\n    <tr>\n      <th>live_demo_</th>\n      <td>3938.0</td>\n      <td>0.075927</td>\n      <td>0.264915</td>\n      <td>0.0</td>\n      <td>0.0</td>\n      <td>0.0</td>\n      <td>0.00</td>\n      <td>1.0</td>\n    </tr>\n    <tr>\n      <th>followedup_call_</th>\n      <td>3938.0</td>\n      <td>0.008380</td>\n      <td>0.091169</td>\n      <td>0.0</td>\n      <td>0.0</td>\n      <td>0.0</td>\n      <td>0.00</td>\n      <td>1.0</td>\n    </tr>\n    <tr>\n      <th>finished_pro</th>\n      <td>3938.0</td>\n      <td>7.223464</td>\n      <td>5.421463</td>\n      <td>0.0</td>\n      <td>3.0</td>\n      <td>7.0</td>\n      <td>11.00</td>\n      <td>27.0</td>\n    </tr>\n    <tr>\n      <th>finished_free</th>\n      <td>3938.0</td>\n      <td>3.683850</td>\n      <td>4.543119</td>\n      <td>0.0</td>\n      <td>0.0</td>\n      <td>2.0</td>\n      <td>6.00</td>\n      <td>23.0</td>\n    </tr>\n    <tr>\n      <th>ongoing_pro_</th>\n      <td>3938.0</td>\n      <td>0.927120</td>\n      <td>2.060680</td>\n      <td>0.0</td>\n      <td>0.0</td>\n      <td>0.0</td>\n      <td>1.00</td>\n      <td>16.0</td>\n    </tr>\n    <tr>\n      <th>ongoing_free_</th>\n      <td>3938.0</td>\n      <td>0.062468</td>\n      <td>0.398955</td>\n      <td>0.0</td>\n      <td>0.0</td>\n      <td>0.0</td>\n      <td>0.00</td>\n      <td>6.0</td>\n    </tr>\n    <tr>\n      <th>farm_id</th>\n      <td>3938.0</td>\n      <td>50323.143728</td>\n      <td>28733.450780</td>\n      <td>98.0</td>\n      <td>25711.0</td>\n      <td>50739.0</td>\n      <td>75083.25</td>\n      <td>99987.0</td>\n    </tr>\n  </tbody>\n</table>\n</div>",
      "text/plain": "                                   count          mean           std   min  \\\nfms_access                        3938.0      1.791772      2.930022   0.0   \naccount_age                       3938.0      0.000000      0.000000   0.0   \nshrimp_price_access               3938.0      5.517776      4.401932   0.0   \nshrimp_news_access                3938.0      3.229812      2.614171   0.0   \nshrimp_diseaseInformation_access  3938.0      1.057897      0.918414   0.0   \nregistered_ponds                  3938.0     10.594972      8.634876   0.0   \nlive_demo_                        3938.0      0.075927      0.264915   0.0   \nfollowedup_call_                  3938.0      0.008380      0.091169   0.0   \nfinished_pro                      3938.0      7.223464      5.421463   0.0   \nfinished_free                     3938.0      3.683850      4.543119   0.0   \nongoing_pro_                      3938.0      0.927120      2.060680   0.0   \nongoing_free_                     3938.0      0.062468      0.398955   0.0   \nfarm_id                           3938.0  50323.143728  28733.450780  98.0   \n\n                                      25%      50%       75%      max  \nfms_access                            0.0      0.0      3.00      9.0  \naccount_age                           0.0      0.0      0.00      0.0  \nshrimp_price_access                   2.0      5.0      9.00     24.0  \nshrimp_news_access                    1.0      3.0      5.00     15.0  \nshrimp_diseaseInformation_access      0.0      1.0      2.00      4.0  \nregistered_ponds                      3.0     10.0     16.00     47.0  \nlive_demo_                            0.0      0.0      0.00      1.0  \nfollowedup_call_                      0.0      0.0      0.00      1.0  \nfinished_pro                          3.0      7.0     11.00     27.0  \nfinished_free                         0.0      2.0      6.00     23.0  \nongoing_pro_                          0.0      0.0      1.00     16.0  \nongoing_free_                         0.0      0.0      0.00      6.0  \nfarm_id                           25711.0  50739.0  75083.25  99987.0  "
     },
     "execution_count": 25,
     "metadata": {},
     "output_type": "execute_result"
    }
   ],
   "source": [
    "new_account[(new_account['fms_access'] >= 0 ) & (new_account['fms_access'] < 10)].describe().transpose()"
   ]
  },
  {
   "cell_type": "code",
   "execution_count": 26,
   "metadata": {},
   "outputs": [
    {
     "data": {
      "text/html": "<div>\n<style scoped>\n    .dataframe tbody tr th:only-of-type {\n        vertical-align: middle;\n    }\n\n    .dataframe tbody tr th {\n        vertical-align: top;\n    }\n\n    .dataframe thead th {\n        text-align: right;\n    }\n</style>\n<table border=\"1\" class=\"dataframe\">\n  <thead>\n    <tr style=\"text-align: right;\">\n      <th></th>\n      <th>count</th>\n      <th>mean</th>\n      <th>std</th>\n      <th>min</th>\n      <th>25%</th>\n      <th>50%</th>\n      <th>75%</th>\n      <th>max</th>\n    </tr>\n  </thead>\n  <tbody>\n    <tr>\n      <th>fms_access</th>\n      <td>3993.0</td>\n      <td>20.014525</td>\n      <td>5.706173</td>\n      <td>10.0</td>\n      <td>15.0</td>\n      <td>20.0</td>\n      <td>25.0</td>\n      <td>29.0</td>\n    </tr>\n    <tr>\n      <th>account_age</th>\n      <td>3993.0</td>\n      <td>0.000000</td>\n      <td>0.000000</td>\n      <td>0.0</td>\n      <td>0.0</td>\n      <td>0.0</td>\n      <td>0.0</td>\n      <td>0.0</td>\n    </tr>\n    <tr>\n      <th>shrimp_price_access</th>\n      <td>3993.0</td>\n      <td>5.381417</td>\n      <td>4.350791</td>\n      <td>0.0</td>\n      <td>2.0</td>\n      <td>5.0</td>\n      <td>8.0</td>\n      <td>24.0</td>\n    </tr>\n    <tr>\n      <th>shrimp_news_access</th>\n      <td>3993.0</td>\n      <td>3.189081</td>\n      <td>2.584167</td>\n      <td>0.0</td>\n      <td>1.0</td>\n      <td>3.0</td>\n      <td>5.0</td>\n      <td>14.0</td>\n    </tr>\n    <tr>\n      <th>shrimp_diseaseInformation_access</th>\n      <td>3993.0</td>\n      <td>1.081142</td>\n      <td>0.931484</td>\n      <td>0.0</td>\n      <td>0.0</td>\n      <td>1.0</td>\n      <td>2.0</td>\n      <td>5.0</td>\n    </tr>\n    <tr>\n      <th>registered_ponds</th>\n      <td>3993.0</td>\n      <td>10.966441</td>\n      <td>8.623172</td>\n      <td>0.0</td>\n      <td>4.0</td>\n      <td>10.0</td>\n      <td>17.0</td>\n      <td>49.0</td>\n    </tr>\n    <tr>\n      <th>live_demo_</th>\n      <td>3993.0</td>\n      <td>0.064613</td>\n      <td>0.245873</td>\n      <td>0.0</td>\n      <td>0.0</td>\n      <td>0.0</td>\n      <td>0.0</td>\n      <td>1.0</td>\n    </tr>\n    <tr>\n      <th>followedup_call_</th>\n      <td>3993.0</td>\n      <td>0.008515</td>\n      <td>0.091894</td>\n      <td>0.0</td>\n      <td>0.0</td>\n      <td>0.0</td>\n      <td>0.0</td>\n      <td>1.0</td>\n    </tr>\n    <tr>\n      <th>finished_pro</th>\n      <td>3993.0</td>\n      <td>10.093163</td>\n      <td>5.688282</td>\n      <td>0.0</td>\n      <td>6.0</td>\n      <td>10.0</td>\n      <td>14.0</td>\n      <td>34.0</td>\n    </tr>\n    <tr>\n      <th>finished_free</th>\n      <td>3993.0</td>\n      <td>4.236414</td>\n      <td>4.840668</td>\n      <td>0.0</td>\n      <td>0.0</td>\n      <td>3.0</td>\n      <td>7.0</td>\n      <td>28.0</td>\n    </tr>\n    <tr>\n      <th>ongoing_pro_</th>\n      <td>3993.0</td>\n      <td>2.720010</td>\n      <td>3.417177</td>\n      <td>0.0</td>\n      <td>0.0</td>\n      <td>1.0</td>\n      <td>5.0</td>\n      <td>22.0</td>\n    </tr>\n    <tr>\n      <th>ongoing_free_</th>\n      <td>3993.0</td>\n      <td>0.314050</td>\n      <td>0.941711</td>\n      <td>0.0</td>\n      <td>0.0</td>\n      <td>0.0</td>\n      <td>0.0</td>\n      <td>9.0</td>\n    </tr>\n    <tr>\n      <th>farm_id</th>\n      <td>3993.0</td>\n      <td>49866.986226</td>\n      <td>29024.448417</td>\n      <td>1.0</td>\n      <td>24213.0</td>\n      <td>49955.0</td>\n      <td>74737.0</td>\n      <td>99944.0</td>\n    </tr>\n  </tbody>\n</table>\n</div>",
      "text/plain": "                                   count          mean           std   min  \\\nfms_access                        3993.0     20.014525      5.706173  10.0   \naccount_age                       3993.0      0.000000      0.000000   0.0   \nshrimp_price_access               3993.0      5.381417      4.350791   0.0   \nshrimp_news_access                3993.0      3.189081      2.584167   0.0   \nshrimp_diseaseInformation_access  3993.0      1.081142      0.931484   0.0   \nregistered_ponds                  3993.0     10.966441      8.623172   0.0   \nlive_demo_                        3993.0      0.064613      0.245873   0.0   \nfollowedup_call_                  3993.0      0.008515      0.091894   0.0   \nfinished_pro                      3993.0     10.093163      5.688282   0.0   \nfinished_free                     3993.0      4.236414      4.840668   0.0   \nongoing_pro_                      3993.0      2.720010      3.417177   0.0   \nongoing_free_                     3993.0      0.314050      0.941711   0.0   \nfarm_id                           3993.0  49866.986226  29024.448417   1.0   \n\n                                      25%      50%      75%      max  \nfms_access                           15.0     20.0     25.0     29.0  \naccount_age                           0.0      0.0      0.0      0.0  \nshrimp_price_access                   2.0      5.0      8.0     24.0  \nshrimp_news_access                    1.0      3.0      5.0     14.0  \nshrimp_diseaseInformation_access      0.0      1.0      2.0      5.0  \nregistered_ponds                      4.0     10.0     17.0     49.0  \nlive_demo_                            0.0      0.0      0.0      1.0  \nfollowedup_call_                      0.0      0.0      0.0      1.0  \nfinished_pro                          6.0     10.0     14.0     34.0  \nfinished_free                         0.0      3.0      7.0     28.0  \nongoing_pro_                          0.0      1.0      5.0     22.0  \nongoing_free_                         0.0      0.0      0.0      9.0  \nfarm_id                           24213.0  49955.0  74737.0  99944.0  "
     },
     "execution_count": 26,
     "metadata": {},
     "output_type": "execute_result"
    }
   ],
   "source": [
    "new_account[(new_account['fms_access'] >= 10 ) & (new_account['fms_access'] < 30)].describe().transpose()"
   ]
  },
  {
   "cell_type": "code",
   "execution_count": 27,
   "metadata": {},
   "outputs": [
    {
     "data": {
      "text/html": "<div>\n<style scoped>\n    .dataframe tbody tr th:only-of-type {\n        vertical-align: middle;\n    }\n\n    .dataframe tbody tr th {\n        vertical-align: top;\n    }\n\n    .dataframe thead th {\n        text-align: right;\n    }\n</style>\n<table border=\"1\" class=\"dataframe\">\n  <thead>\n    <tr style=\"text-align: right;\">\n      <th></th>\n      <th>count</th>\n      <th>mean</th>\n      <th>std</th>\n      <th>min</th>\n      <th>25%</th>\n      <th>50%</th>\n      <th>75%</th>\n      <th>max</th>\n    </tr>\n  </thead>\n  <tbody>\n    <tr>\n      <th>fms_access</th>\n      <td>3953.0</td>\n      <td>39.127498</td>\n      <td>5.720456</td>\n      <td>30.0</td>\n      <td>34.0</td>\n      <td>39.0</td>\n      <td>44.0</td>\n      <td>49.0</td>\n    </tr>\n    <tr>\n      <th>account_age</th>\n      <td>3953.0</td>\n      <td>0.000000</td>\n      <td>0.000000</td>\n      <td>0.0</td>\n      <td>0.0</td>\n      <td>0.0</td>\n      <td>0.0</td>\n      <td>0.0</td>\n    </tr>\n    <tr>\n      <th>shrimp_price_access</th>\n      <td>3953.0</td>\n      <td>5.369087</td>\n      <td>4.371261</td>\n      <td>0.0</td>\n      <td>1.0</td>\n      <td>5.0</td>\n      <td>8.0</td>\n      <td>22.0</td>\n    </tr>\n    <tr>\n      <th>shrimp_news_access</th>\n      <td>3953.0</td>\n      <td>3.271692</td>\n      <td>2.635412</td>\n      <td>0.0</td>\n      <td>1.0</td>\n      <td>3.0</td>\n      <td>5.0</td>\n      <td>15.0</td>\n    </tr>\n    <tr>\n      <th>shrimp_diseaseInformation_access</th>\n      <td>3953.0</td>\n      <td>1.061219</td>\n      <td>0.919204</td>\n      <td>0.0</td>\n      <td>0.0</td>\n      <td>1.0</td>\n      <td>2.0</td>\n      <td>5.0</td>\n    </tr>\n    <tr>\n      <th>registered_ponds</th>\n      <td>3953.0</td>\n      <td>10.800405</td>\n      <td>8.676944</td>\n      <td>0.0</td>\n      <td>3.0</td>\n      <td>10.0</td>\n      <td>17.0</td>\n      <td>46.0</td>\n    </tr>\n    <tr>\n      <th>live_demo_</th>\n      <td>3953.0</td>\n      <td>0.070326</td>\n      <td>0.255729</td>\n      <td>0.0</td>\n      <td>0.0</td>\n      <td>0.0</td>\n      <td>0.0</td>\n      <td>1.0</td>\n    </tr>\n    <tr>\n      <th>followedup_call_</th>\n      <td>3953.0</td>\n      <td>0.012902</td>\n      <td>0.112864</td>\n      <td>0.0</td>\n      <td>0.0</td>\n      <td>0.0</td>\n      <td>0.0</td>\n      <td>1.0</td>\n    </tr>\n    <tr>\n      <th>finished_pro</th>\n      <td>3953.0</td>\n      <td>12.141159</td>\n      <td>5.907032</td>\n      <td>0.0</td>\n      <td>8.0</td>\n      <td>12.0</td>\n      <td>16.0</td>\n      <td>34.0</td>\n    </tr>\n    <tr>\n      <th>finished_free</th>\n      <td>3953.0</td>\n      <td>4.295978</td>\n      <td>4.971928</td>\n      <td>0.0</td>\n      <td>0.0</td>\n      <td>3.0</td>\n      <td>7.0</td>\n      <td>25.0</td>\n    </tr>\n    <tr>\n      <th>ongoing_pro_</th>\n      <td>3953.0</td>\n      <td>4.823172</td>\n      <td>4.316648</td>\n      <td>0.0</td>\n      <td>1.0</td>\n      <td>4.0</td>\n      <td>8.0</td>\n      <td>21.0</td>\n    </tr>\n    <tr>\n      <th>ongoing_free_</th>\n      <td>3953.0</td>\n      <td>0.757146</td>\n      <td>1.487027</td>\n      <td>0.0</td>\n      <td>0.0</td>\n      <td>0.0</td>\n      <td>1.0</td>\n      <td>10.0</td>\n    </tr>\n    <tr>\n      <th>farm_id</th>\n      <td>3953.0</td>\n      <td>50979.242854</td>\n      <td>28667.425247</td>\n      <td>66.0</td>\n      <td>25893.0</td>\n      <td>51632.0</td>\n      <td>75991.0</td>\n      <td>99985.0</td>\n    </tr>\n  </tbody>\n</table>\n</div>",
      "text/plain": "                                   count          mean           std   min  \\\nfms_access                        3953.0     39.127498      5.720456  30.0   \naccount_age                       3953.0      0.000000      0.000000   0.0   \nshrimp_price_access               3953.0      5.369087      4.371261   0.0   \nshrimp_news_access                3953.0      3.271692      2.635412   0.0   \nshrimp_diseaseInformation_access  3953.0      1.061219      0.919204   0.0   \nregistered_ponds                  3953.0     10.800405      8.676944   0.0   \nlive_demo_                        3953.0      0.070326      0.255729   0.0   \nfollowedup_call_                  3953.0      0.012902      0.112864   0.0   \nfinished_pro                      3953.0     12.141159      5.907032   0.0   \nfinished_free                     3953.0      4.295978      4.971928   0.0   \nongoing_pro_                      3953.0      4.823172      4.316648   0.0   \nongoing_free_                     3953.0      0.757146      1.487027   0.0   \nfarm_id                           3953.0  50979.242854  28667.425247  66.0   \n\n                                      25%      50%      75%      max  \nfms_access                           34.0     39.0     44.0     49.0  \naccount_age                           0.0      0.0      0.0      0.0  \nshrimp_price_access                   1.0      5.0      8.0     22.0  \nshrimp_news_access                    1.0      3.0      5.0     15.0  \nshrimp_diseaseInformation_access      0.0      1.0      2.0      5.0  \nregistered_ponds                      3.0     10.0     17.0     46.0  \nlive_demo_                            0.0      0.0      0.0      1.0  \nfollowedup_call_                      0.0      0.0      0.0      1.0  \nfinished_pro                          8.0     12.0     16.0     34.0  \nfinished_free                         0.0      3.0      7.0     25.0  \nongoing_pro_                          1.0      4.0      8.0     21.0  \nongoing_free_                         0.0      0.0      1.0     10.0  \nfarm_id                           25893.0  51632.0  75991.0  99985.0  "
     },
     "execution_count": 27,
     "metadata": {},
     "output_type": "execute_result"
    }
   ],
   "source": [
    "new_account[(new_account['fms_access'] >= 30 ) & (new_account['fms_access'] < 50)].describe().transpose()"
   ]
  },
  {
   "cell_type": "markdown",
   "metadata": {},
   "source": [
    "## Account age above average"
   ]
  },
  {
   "cell_type": "code",
   "execution_count": 34,
   "metadata": {},
   "outputs": [
    {
     "data": {
      "text/html": "<div>\n<style scoped>\n    .dataframe tbody tr th:only-of-type {\n        vertical-align: middle;\n    }\n\n    .dataframe tbody tr th {\n        vertical-align: top;\n    }\n\n    .dataframe thead th {\n        text-align: right;\n    }\n</style>\n<table border=\"1\" class=\"dataframe\">\n  <thead>\n    <tr style=\"text-align: right;\">\n      <th></th>\n      <th>fms_access</th>\n      <th>account_age</th>\n      <th>shrimp_price_access</th>\n      <th>shrimp_news_access</th>\n      <th>shrimp_diseaseInformation_access</th>\n      <th>registered_ponds</th>\n      <th>live_demo_</th>\n      <th>followedup_call_</th>\n      <th>finished_pro</th>\n      <th>finished_free</th>\n      <th>ongoing_pro_</th>\n      <th>ongoing_free_</th>\n      <th>farm_id</th>\n    </tr>\n  </thead>\n  <tbody>\n    <tr>\n      <th>99999</th>\n      <td>36.0</td>\n      <td>161.0</td>\n      <td>6.0</td>\n      <td>0.0</td>\n      <td>0.0</td>\n      <td>0.0</td>\n      <td>0.0</td>\n      <td>0.0</td>\n      <td>9.0</td>\n      <td>0.0</td>\n      <td>0.0</td>\n      <td>1.0</td>\n      <td>100000</td>\n    </tr>\n    <tr>\n      <th>66065</th>\n      <td>11.0</td>\n      <td>145.0</td>\n      <td>8.0</td>\n      <td>0.0</td>\n      <td>1.0</td>\n      <td>30.0</td>\n      <td>0.0</td>\n      <td>0.0</td>\n      <td>12.0</td>\n      <td>12.0</td>\n      <td>0.0</td>\n      <td>1.0</td>\n      <td>66066</td>\n    </tr>\n    <tr>\n      <th>66073</th>\n      <td>0.0</td>\n      <td>222.0</td>\n      <td>0.0</td>\n      <td>0.0</td>\n      <td>1.0</td>\n      <td>9.0</td>\n      <td>0.0</td>\n      <td>0.0</td>\n      <td>8.0</td>\n      <td>2.0</td>\n      <td>0.0</td>\n      <td>0.0</td>\n      <td>66074</td>\n    </tr>\n    <tr>\n      <th>27136</th>\n      <td>0.0</td>\n      <td>104.0</td>\n      <td>1.0</td>\n      <td>1.0</td>\n      <td>0.0</td>\n      <td>1.0</td>\n      <td>0.0</td>\n      <td>0.0</td>\n      <td>0.0</td>\n      <td>0.0</td>\n      <td>0.0</td>\n      <td>0.0</td>\n      <td>27137</td>\n    </tr>\n    <tr>\n      <th>66089</th>\n      <td>2.0</td>\n      <td>111.0</td>\n      <td>2.0</td>\n      <td>7.0</td>\n      <td>0.0</td>\n      <td>27.0</td>\n      <td>0.0</td>\n      <td>0.0</td>\n      <td>6.0</td>\n      <td>2.0</td>\n      <td>0.0</td>\n      <td>0.0</td>\n      <td>66090</td>\n    </tr>\n    <tr>\n      <th>...</th>\n      <td>...</td>\n      <td>...</td>\n      <td>...</td>\n      <td>...</td>\n      <td>...</td>\n      <td>...</td>\n      <td>...</td>\n      <td>...</td>\n      <td>...</td>\n      <td>...</td>\n      <td>...</td>\n      <td>...</td>\n      <td>...</td>\n    </tr>\n    <tr>\n      <th>7084</th>\n      <td>91.0</td>\n      <td>222.0</td>\n      <td>14.0</td>\n      <td>1.0</td>\n      <td>1.0</td>\n      <td>16.0</td>\n      <td>1.0</td>\n      <td>0.0</td>\n      <td>43.0</td>\n      <td>12.0</td>\n      <td>30.0</td>\n      <td>17.0</td>\n      <td>7085</td>\n    </tr>\n    <tr>\n      <th>20778</th>\n      <td>105.0</td>\n      <td>209.0</td>\n      <td>0.0</td>\n      <td>3.0</td>\n      <td>4.0</td>\n      <td>18.0</td>\n      <td>0.0</td>\n      <td>0.0</td>\n      <td>40.0</td>\n      <td>24.0</td>\n      <td>31.0</td>\n      <td>22.0</td>\n      <td>20779</td>\n    </tr>\n    <tr>\n      <th>23854</th>\n      <td>138.0</td>\n      <td>156.0</td>\n      <td>12.0</td>\n      <td>5.0</td>\n      <td>3.0</td>\n      <td>13.0</td>\n      <td>0.0</td>\n      <td>0.0</td>\n      <td>37.0</td>\n      <td>18.0</td>\n      <td>32.0</td>\n      <td>21.0</td>\n      <td>23855</td>\n    </tr>\n    <tr>\n      <th>19505</th>\n      <td>106.0</td>\n      <td>106.0</td>\n      <td>1.0</td>\n      <td>7.0</td>\n      <td>4.0</td>\n      <td>19.0</td>\n      <td>1.0</td>\n      <td>0.0</td>\n      <td>40.0</td>\n      <td>27.0</td>\n      <td>34.0</td>\n      <td>21.0</td>\n      <td>19506</td>\n    </tr>\n    <tr>\n      <th>47760</th>\n      <td>106.0</td>\n      <td>131.0</td>\n      <td>3.0</td>\n      <td>0.0</td>\n      <td>4.0</td>\n      <td>8.0</td>\n      <td>1.0</td>\n      <td>0.0</td>\n      <td>41.0</td>\n      <td>19.0</td>\n      <td>34.0</td>\n      <td>21.0</td>\n      <td>47761</td>\n    </tr>\n  </tbody>\n</table>\n<p>46759 rows × 13 columns</p>\n</div>",
      "text/plain": "       fms_access  account_age  shrimp_price_access  shrimp_news_access  \\\n99999        36.0        161.0                  6.0                 0.0   \n66065        11.0        145.0                  8.0                 0.0   \n66073         0.0        222.0                  0.0                 0.0   \n27136         0.0        104.0                  1.0                 1.0   \n66089         2.0        111.0                  2.0                 7.0   \n...           ...          ...                  ...                 ...   \n7084         91.0        222.0                 14.0                 1.0   \n20778       105.0        209.0                  0.0                 3.0   \n23854       138.0        156.0                 12.0                 5.0   \n19505       106.0        106.0                  1.0                 7.0   \n47760       106.0        131.0                  3.0                 0.0   \n\n       shrimp_diseaseInformation_access  registered_ponds  live_demo_  \\\n99999                               0.0               0.0         0.0   \n66065                               1.0              30.0         0.0   \n66073                               1.0               9.0         0.0   \n27136                               0.0               1.0         0.0   \n66089                               0.0              27.0         0.0   \n...                                 ...               ...         ...   \n7084                                1.0              16.0         1.0   \n20778                               4.0              18.0         0.0   \n23854                               3.0              13.0         0.0   \n19505                               4.0              19.0         1.0   \n47760                               4.0               8.0         1.0   \n\n       followedup_call_  finished_pro  finished_free  ongoing_pro_  \\\n99999               0.0           9.0            0.0           0.0   \n66065               0.0          12.0           12.0           0.0   \n66073               0.0           8.0            2.0           0.0   \n27136               0.0           0.0            0.0           0.0   \n66089               0.0           6.0            2.0           0.0   \n...                 ...           ...            ...           ...   \n7084                0.0          43.0           12.0          30.0   \n20778               0.0          40.0           24.0          31.0   \n23854               0.0          37.0           18.0          32.0   \n19505               0.0          40.0           27.0          34.0   \n47760               0.0          41.0           19.0          34.0   \n\n       ongoing_free_  farm_id  \n99999            1.0   100000  \n66065            1.0    66066  \n66073            0.0    66074  \n27136            0.0    27137  \n66089            0.0    66090  \n...              ...      ...  \n7084            17.0     7085  \n20778           22.0    20779  \n23854           21.0    23855  \n19505           21.0    19506  \n47760           21.0    47761  \n\n[46759 rows x 13 columns]"
     },
     "execution_count": 34,
     "metadata": {},
     "output_type": "execute_result"
    }
   ],
   "source": [
    "age_above_avg"
   ]
  },
  {
   "cell_type": "code",
   "execution_count": 46,
   "metadata": {},
   "outputs": [
    {
     "data": {
      "text/plain": "46.759"
     },
     "execution_count": 46,
     "metadata": {},
     "output_type": "execute_result"
    }
   ],
   "source": [
    "len(age_above_avg)/len(df)*100"
   ]
  },
  {
   "cell_type": "markdown",
   "metadata": {},
   "source": [
    "Ada 46.759 % umur account client yang diatas rata rata, cukup banyak kesempatan untuk mempertahankan dan meng-approach client untuk terus menggunakan siklus pro"
   ]
  },
  {
   "cell_type": "code",
   "execution_count": 35,
   "metadata": {},
   "outputs": [
    {
     "data": {
      "text/html": "<div>\n<style scoped>\n    .dataframe tbody tr th:only-of-type {\n        vertical-align: middle;\n    }\n\n    .dataframe tbody tr th {\n        vertical-align: top;\n    }\n\n    .dataframe thead th {\n        text-align: right;\n    }\n</style>\n<table border=\"1\" class=\"dataframe\">\n  <thead>\n    <tr style=\"text-align: right;\">\n      <th></th>\n      <th>count</th>\n      <th>mean</th>\n      <th>std</th>\n      <th>min</th>\n      <th>25%</th>\n      <th>50%</th>\n      <th>75%</th>\n      <th>max</th>\n    </tr>\n  </thead>\n  <tbody>\n    <tr>\n      <th>fms_access</th>\n      <td>46759.0</td>\n      <td>32.381210</td>\n      <td>25.974580</td>\n      <td>0.0</td>\n      <td>10.0</td>\n      <td>30.0</td>\n      <td>50.0</td>\n      <td>147.0</td>\n    </tr>\n    <tr>\n      <th>account_age</th>\n      <td>46759.0</td>\n      <td>148.005261</td>\n      <td>47.167106</td>\n      <td>87.0</td>\n      <td>111.0</td>\n      <td>138.0</td>\n      <td>175.0</td>\n      <td>438.0</td>\n    </tr>\n    <tr>\n      <th>shrimp_price_access</th>\n      <td>46759.0</td>\n      <td>5.411450</td>\n      <td>4.323258</td>\n      <td>0.0</td>\n      <td>2.0</td>\n      <td>5.0</td>\n      <td>8.0</td>\n      <td>26.0</td>\n    </tr>\n    <tr>\n      <th>shrimp_news_access</th>\n      <td>46759.0</td>\n      <td>3.256528</td>\n      <td>2.617894</td>\n      <td>0.0</td>\n      <td>1.0</td>\n      <td>3.0</td>\n      <td>5.0</td>\n      <td>15.0</td>\n    </tr>\n    <tr>\n      <th>shrimp_diseaseInformation_access</th>\n      <td>46759.0</td>\n      <td>1.071259</td>\n      <td>0.917143</td>\n      <td>0.0</td>\n      <td>0.0</td>\n      <td>1.0</td>\n      <td>2.0</td>\n      <td>5.0</td>\n    </tr>\n    <tr>\n      <th>registered_ponds</th>\n      <td>46759.0</td>\n      <td>10.858744</td>\n      <td>8.674516</td>\n      <td>0.0</td>\n      <td>3.0</td>\n      <td>10.0</td>\n      <td>17.0</td>\n      <td>50.0</td>\n    </tr>\n    <tr>\n      <th>live_demo_</th>\n      <td>46759.0</td>\n      <td>0.066982</td>\n      <td>0.249993</td>\n      <td>0.0</td>\n      <td>0.0</td>\n      <td>0.0</td>\n      <td>0.0</td>\n      <td>1.0</td>\n    </tr>\n    <tr>\n      <th>followedup_call_</th>\n      <td>46759.0</td>\n      <td>0.010372</td>\n      <td>0.101316</td>\n      <td>0.0</td>\n      <td>0.0</td>\n      <td>0.0</td>\n      <td>0.0</td>\n      <td>1.0</td>\n    </tr>\n    <tr>\n      <th>finished_pro</th>\n      <td>46759.0</td>\n      <td>15.596698</td>\n      <td>6.767102</td>\n      <td>0.0</td>\n      <td>11.0</td>\n      <td>16.0</td>\n      <td>20.0</td>\n      <td>43.0</td>\n    </tr>\n    <tr>\n      <th>finished_free</th>\n      <td>46759.0</td>\n      <td>5.760132</td>\n      <td>5.533128</td>\n      <td>0.0</td>\n      <td>0.0</td>\n      <td>5.0</td>\n      <td>9.0</td>\n      <td>34.0</td>\n    </tr>\n    <tr>\n      <th>ongoing_pro_</th>\n      <td>46759.0</td>\n      <td>5.661969</td>\n      <td>5.494809</td>\n      <td>0.0</td>\n      <td>0.0</td>\n      <td>5.0</td>\n      <td>9.0</td>\n      <td>34.0</td>\n    </tr>\n    <tr>\n      <th>ongoing_free_</th>\n      <td>46759.0</td>\n      <td>4.680789</td>\n      <td>3.881344</td>\n      <td>0.0</td>\n      <td>1.0</td>\n      <td>4.0</td>\n      <td>7.0</td>\n      <td>23.0</td>\n    </tr>\n    <tr>\n      <th>farm_id</th>\n      <td>46759.0</td>\n      <td>50033.819072</td>\n      <td>28889.602113</td>\n      <td>2.0</td>\n      <td>25043.0</td>\n      <td>49950.0</td>\n      <td>75059.0</td>\n      <td>100000.0</td>\n    </tr>\n  </tbody>\n</table>\n</div>",
      "text/plain": "                                    count          mean           std   min  \\\nfms_access                        46759.0     32.381210     25.974580   0.0   \naccount_age                       46759.0    148.005261     47.167106  87.0   \nshrimp_price_access               46759.0      5.411450      4.323258   0.0   \nshrimp_news_access                46759.0      3.256528      2.617894   0.0   \nshrimp_diseaseInformation_access  46759.0      1.071259      0.917143   0.0   \nregistered_ponds                  46759.0     10.858744      8.674516   0.0   \nlive_demo_                        46759.0      0.066982      0.249993   0.0   \nfollowedup_call_                  46759.0      0.010372      0.101316   0.0   \nfinished_pro                      46759.0     15.596698      6.767102   0.0   \nfinished_free                     46759.0      5.760132      5.533128   0.0   \nongoing_pro_                      46759.0      5.661969      5.494809   0.0   \nongoing_free_                     46759.0      4.680789      3.881344   0.0   \nfarm_id                           46759.0  50033.819072  28889.602113   2.0   \n\n                                      25%      50%      75%       max  \nfms_access                           10.0     30.0     50.0     147.0  \naccount_age                         111.0    138.0    175.0     438.0  \nshrimp_price_access                   2.0      5.0      8.0      26.0  \nshrimp_news_access                    1.0      3.0      5.0      15.0  \nshrimp_diseaseInformation_access      0.0      1.0      2.0       5.0  \nregistered_ponds                      3.0     10.0     17.0      50.0  \nlive_demo_                            0.0      0.0      0.0       1.0  \nfollowedup_call_                      0.0      0.0      0.0       1.0  \nfinished_pro                         11.0     16.0     20.0      43.0  \nfinished_free                         0.0      5.0      9.0      34.0  \nongoing_pro_                          0.0      5.0      9.0      34.0  \nongoing_free_                         1.0      4.0      7.0      23.0  \nfarm_id                           25043.0  49950.0  75059.0  100000.0  "
     },
     "execution_count": 35,
     "metadata": {},
     "output_type": "execute_result"
    }
   ],
   "source": [
    "age_above_avg.describe().T"
   ]
  },
  {
   "cell_type": "markdown",
   "metadata": {},
   "source": [
    "Strategi yang dipakai, adalah kita mengapproach client dengan umur account yang diatas rata rata, dengan akumulasi penggunaan siklus pro diatas rata rata, ongoing siklus dibawah rata rata. Jadikan client tersebut prioritas pertama, karena client tersebut sudah pernah memakai dan merasakan siklus pro, seharusnya lebih mudah mempertahankan client dengan kategori seperti itu."
   ]
  },
  {
   "cell_type": "code",
   "execution_count": 36,
   "metadata": {},
   "outputs": [
    {
     "data": {
      "text/html": "<div>\n<style scoped>\n    .dataframe tbody tr th:only-of-type {\n        vertical-align: middle;\n    }\n\n    .dataframe tbody tr th {\n        vertical-align: top;\n    }\n\n    .dataframe thead th {\n        text-align: right;\n    }\n</style>\n<table border=\"1\" class=\"dataframe\">\n  <thead>\n    <tr style=\"text-align: right;\">\n      <th></th>\n      <th>fms_access</th>\n      <th>account_age</th>\n      <th>shrimp_price_access</th>\n      <th>shrimp_news_access</th>\n      <th>shrimp_diseaseInformation_access</th>\n      <th>registered_ponds</th>\n      <th>live_demo_</th>\n      <th>followedup_call_</th>\n      <th>finished_pro</th>\n      <th>finished_free</th>\n      <th>ongoing_pro_</th>\n      <th>ongoing_free_</th>\n      <th>farm_id</th>\n    </tr>\n  </thead>\n  <tbody>\n    <tr>\n      <th>7084</th>\n      <td>91.0</td>\n      <td>222.0</td>\n      <td>14.0</td>\n      <td>1.0</td>\n      <td>1.0</td>\n      <td>16.0</td>\n      <td>1.0</td>\n      <td>0.0</td>\n      <td>43.0</td>\n      <td>12.0</td>\n      <td>30.0</td>\n      <td>17.0</td>\n      <td>7085</td>\n    </tr>\n    <tr>\n      <th>12056</th>\n      <td>91.0</td>\n      <td>228.0</td>\n      <td>10.0</td>\n      <td>4.0</td>\n      <td>1.0</td>\n      <td>29.0</td>\n      <td>1.0</td>\n      <td>0.0</td>\n      <td>43.0</td>\n      <td>20.0</td>\n      <td>29.0</td>\n      <td>17.0</td>\n      <td>12057</td>\n    </tr>\n    <tr>\n      <th>30601</th>\n      <td>70.0</td>\n      <td>165.0</td>\n      <td>12.0</td>\n      <td>4.0</td>\n      <td>2.0</td>\n      <td>34.0</td>\n      <td>1.0</td>\n      <td>0.0</td>\n      <td>42.0</td>\n      <td>22.0</td>\n      <td>27.0</td>\n      <td>14.0</td>\n      <td>30602</td>\n    </tr>\n    <tr>\n      <th>47760</th>\n      <td>106.0</td>\n      <td>131.0</td>\n      <td>3.0</td>\n      <td>0.0</td>\n      <td>4.0</td>\n      <td>8.0</td>\n      <td>1.0</td>\n      <td>0.0</td>\n      <td>41.0</td>\n      <td>19.0</td>\n      <td>34.0</td>\n      <td>21.0</td>\n      <td>47761</td>\n    </tr>\n    <tr>\n      <th>52582</th>\n      <td>97.0</td>\n      <td>149.0</td>\n      <td>0.0</td>\n      <td>5.0</td>\n      <td>3.0</td>\n      <td>39.0</td>\n      <td>0.0</td>\n      <td>0.0</td>\n      <td>41.0</td>\n      <td>28.0</td>\n      <td>29.0</td>\n      <td>17.0</td>\n      <td>52583</td>\n    </tr>\n    <tr>\n      <th>...</th>\n      <td>...</td>\n      <td>...</td>\n      <td>...</td>\n      <td>...</td>\n      <td>...</td>\n      <td>...</td>\n      <td>...</td>\n      <td>...</td>\n      <td>...</td>\n      <td>...</td>\n      <td>...</td>\n      <td>...</td>\n      <td>...</td>\n    </tr>\n    <tr>\n      <th>40741</th>\n      <td>7.0</td>\n      <td>91.0</td>\n      <td>5.0</td>\n      <td>7.0</td>\n      <td>1.0</td>\n      <td>0.0</td>\n      <td>0.0</td>\n      <td>0.0</td>\n      <td>0.0</td>\n      <td>0.0</td>\n      <td>0.0</td>\n      <td>0.0</td>\n      <td>40742</td>\n    </tr>\n    <tr>\n      <th>82305</th>\n      <td>4.0</td>\n      <td>235.0</td>\n      <td>5.0</td>\n      <td>2.0</td>\n      <td>0.0</td>\n      <td>0.0</td>\n      <td>0.0</td>\n      <td>0.0</td>\n      <td>0.0</td>\n      <td>0.0</td>\n      <td>0.0</td>\n      <td>0.0</td>\n      <td>82306</td>\n    </tr>\n    <tr>\n      <th>82427</th>\n      <td>0.0</td>\n      <td>96.0</td>\n      <td>6.0</td>\n      <td>5.0</td>\n      <td>1.0</td>\n      <td>0.0</td>\n      <td>0.0</td>\n      <td>0.0</td>\n      <td>0.0</td>\n      <td>0.0</td>\n      <td>0.0</td>\n      <td>0.0</td>\n      <td>82428</td>\n    </tr>\n    <tr>\n      <th>3061</th>\n      <td>0.0</td>\n      <td>144.0</td>\n      <td>0.0</td>\n      <td>0.0</td>\n      <td>0.0</td>\n      <td>0.0</td>\n      <td>0.0</td>\n      <td>0.0</td>\n      <td>0.0</td>\n      <td>0.0</td>\n      <td>0.0</td>\n      <td>0.0</td>\n      <td>3062</td>\n    </tr>\n    <tr>\n      <th>44001</th>\n      <td>15.0</td>\n      <td>110.0</td>\n      <td>3.0</td>\n      <td>5.0</td>\n      <td>0.0</td>\n      <td>1.0</td>\n      <td>0.0</td>\n      <td>0.0</td>\n      <td>0.0</td>\n      <td>0.0</td>\n      <td>0.0</td>\n      <td>0.0</td>\n      <td>44002</td>\n    </tr>\n  </tbody>\n</table>\n<p>46759 rows × 13 columns</p>\n</div>",
      "text/plain": "       fms_access  account_age  shrimp_price_access  shrimp_news_access  \\\n7084         91.0        222.0                 14.0                 1.0   \n12056        91.0        228.0                 10.0                 4.0   \n30601        70.0        165.0                 12.0                 4.0   \n47760       106.0        131.0                  3.0                 0.0   \n52582        97.0        149.0                  0.0                 5.0   \n...           ...          ...                  ...                 ...   \n40741         7.0         91.0                  5.0                 7.0   \n82305         4.0        235.0                  5.0                 2.0   \n82427         0.0         96.0                  6.0                 5.0   \n3061          0.0        144.0                  0.0                 0.0   \n44001        15.0        110.0                  3.0                 5.0   \n\n       shrimp_diseaseInformation_access  registered_ponds  live_demo_  \\\n7084                                1.0              16.0         1.0   \n12056                               1.0              29.0         1.0   \n30601                               2.0              34.0         1.0   \n47760                               4.0               8.0         1.0   \n52582                               3.0              39.0         0.0   \n...                                 ...               ...         ...   \n40741                               1.0               0.0         0.0   \n82305                               0.0               0.0         0.0   \n82427                               1.0               0.0         0.0   \n3061                                0.0               0.0         0.0   \n44001                               0.0               1.0         0.0   \n\n       followedup_call_  finished_pro  finished_free  ongoing_pro_  \\\n7084                0.0          43.0           12.0          30.0   \n12056               0.0          43.0           20.0          29.0   \n30601               0.0          42.0           22.0          27.0   \n47760               0.0          41.0           19.0          34.0   \n52582               0.0          41.0           28.0          29.0   \n...                 ...           ...            ...           ...   \n40741               0.0           0.0            0.0           0.0   \n82305               0.0           0.0            0.0           0.0   \n82427               0.0           0.0            0.0           0.0   \n3061                0.0           0.0            0.0           0.0   \n44001               0.0           0.0            0.0           0.0   \n\n       ongoing_free_  farm_id  \n7084            17.0     7085  \n12056           17.0    12057  \n30601           14.0    30602  \n47760           21.0    47761  \n52582           17.0    52583  \n...              ...      ...  \n40741            0.0    40742  \n82305            0.0    82306  \n82427            0.0    82428  \n3061             0.0     3062  \n44001            0.0    44002  \n\n[46759 rows x 13 columns]"
     },
     "execution_count": 36,
     "metadata": {},
     "output_type": "execute_result"
    }
   ],
   "source": [
    "age_above_avg.sort_values(['finished_pro'],ascending=False)"
   ]
  },
  {
   "cell_type": "code",
   "execution_count": 37,
   "metadata": {},
   "outputs": [
    {
     "data": {
      "text/html": "<div>\n<style scoped>\n    .dataframe tbody tr th:only-of-type {\n        vertical-align: middle;\n    }\n\n    .dataframe tbody tr th {\n        vertical-align: top;\n    }\n\n    .dataframe thead th {\n        text-align: right;\n    }\n</style>\n<table border=\"1\" class=\"dataframe\">\n  <thead>\n    <tr style=\"text-align: right;\">\n      <th></th>\n      <th>fms_access</th>\n      <th>account_age</th>\n      <th>shrimp_price_access</th>\n      <th>shrimp_news_access</th>\n      <th>shrimp_diseaseInformation_access</th>\n      <th>registered_ponds</th>\n      <th>live_demo_</th>\n      <th>followedup_call_</th>\n      <th>finished_pro</th>\n      <th>finished_free</th>\n      <th>ongoing_pro_</th>\n      <th>ongoing_free_</th>\n      <th>farm_id</th>\n    </tr>\n  </thead>\n  <tbody>\n    <tr>\n      <th>69555</th>\n      <td>48.0</td>\n      <td>171.0</td>\n      <td>9.0</td>\n      <td>5.0</td>\n      <td>1.0</td>\n      <td>8.0</td>\n      <td>0.0</td>\n      <td>0.0</td>\n      <td>16.0</td>\n      <td>4.0</td>\n      <td>6.0</td>\n      <td>7.0</td>\n      <td>69556</td>\n    </tr>\n    <tr>\n      <th>86457</th>\n      <td>32.0</td>\n      <td>231.0</td>\n      <td>3.0</td>\n      <td>4.0</td>\n      <td>1.0</td>\n      <td>21.0</td>\n      <td>0.0</td>\n      <td>0.0</td>\n      <td>18.0</td>\n      <td>13.0</td>\n      <td>6.0</td>\n      <td>8.0</td>\n      <td>86458</td>\n    </tr>\n    <tr>\n      <th>67948</th>\n      <td>59.0</td>\n      <td>94.0</td>\n      <td>18.0</td>\n      <td>5.0</td>\n      <td>0.0</td>\n      <td>12.0</td>\n      <td>0.0</td>\n      <td>0.0</td>\n      <td>16.0</td>\n      <td>1.0</td>\n      <td>6.0</td>\n      <td>3.0</td>\n      <td>67949</td>\n    </tr>\n    <tr>\n      <th>69554</th>\n      <td>12.0</td>\n      <td>114.0</td>\n      <td>5.0</td>\n      <td>0.0</td>\n      <td>1.0</td>\n      <td>14.0</td>\n      <td>0.0</td>\n      <td>0.0</td>\n      <td>19.0</td>\n      <td>7.0</td>\n      <td>6.0</td>\n      <td>3.0</td>\n      <td>69555</td>\n    </tr>\n    <tr>\n      <th>7035</th>\n      <td>8.0</td>\n      <td>143.0</td>\n      <td>1.0</td>\n      <td>5.0</td>\n      <td>1.0</td>\n      <td>35.0</td>\n      <td>0.0</td>\n      <td>1.0</td>\n      <td>21.0</td>\n      <td>18.0</td>\n      <td>6.0</td>\n      <td>3.0</td>\n      <td>7036</td>\n    </tr>\n    <tr>\n      <th>...</th>\n      <td>...</td>\n      <td>...</td>\n      <td>...</td>\n      <td>...</td>\n      <td>...</td>\n      <td>...</td>\n      <td>...</td>\n      <td>...</td>\n      <td>...</td>\n      <td>...</td>\n      <td>...</td>\n      <td>...</td>\n      <td>...</td>\n    </tr>\n    <tr>\n      <th>7084</th>\n      <td>91.0</td>\n      <td>222.0</td>\n      <td>14.0</td>\n      <td>1.0</td>\n      <td>1.0</td>\n      <td>16.0</td>\n      <td>1.0</td>\n      <td>0.0</td>\n      <td>43.0</td>\n      <td>12.0</td>\n      <td>30.0</td>\n      <td>17.0</td>\n      <td>7085</td>\n    </tr>\n    <tr>\n      <th>20778</th>\n      <td>105.0</td>\n      <td>209.0</td>\n      <td>0.0</td>\n      <td>3.0</td>\n      <td>4.0</td>\n      <td>18.0</td>\n      <td>0.0</td>\n      <td>0.0</td>\n      <td>40.0</td>\n      <td>24.0</td>\n      <td>31.0</td>\n      <td>22.0</td>\n      <td>20779</td>\n    </tr>\n    <tr>\n      <th>23854</th>\n      <td>138.0</td>\n      <td>156.0</td>\n      <td>12.0</td>\n      <td>5.0</td>\n      <td>3.0</td>\n      <td>13.0</td>\n      <td>0.0</td>\n      <td>0.0</td>\n      <td>37.0</td>\n      <td>18.0</td>\n      <td>32.0</td>\n      <td>21.0</td>\n      <td>23855</td>\n    </tr>\n    <tr>\n      <th>19505</th>\n      <td>106.0</td>\n      <td>106.0</td>\n      <td>1.0</td>\n      <td>7.0</td>\n      <td>4.0</td>\n      <td>19.0</td>\n      <td>1.0</td>\n      <td>0.0</td>\n      <td>40.0</td>\n      <td>27.0</td>\n      <td>34.0</td>\n      <td>21.0</td>\n      <td>19506</td>\n    </tr>\n    <tr>\n      <th>47760</th>\n      <td>106.0</td>\n      <td>131.0</td>\n      <td>3.0</td>\n      <td>0.0</td>\n      <td>4.0</td>\n      <td>8.0</td>\n      <td>1.0</td>\n      <td>0.0</td>\n      <td>41.0</td>\n      <td>19.0</td>\n      <td>34.0</td>\n      <td>21.0</td>\n      <td>47761</td>\n    </tr>\n  </tbody>\n</table>\n<p>19350 rows × 13 columns</p>\n</div>",
      "text/plain": "       fms_access  account_age  shrimp_price_access  shrimp_news_access  \\\n69555        48.0        171.0                  9.0                 5.0   \n86457        32.0        231.0                  3.0                 4.0   \n67948        59.0         94.0                 18.0                 5.0   \n69554        12.0        114.0                  5.0                 0.0   \n7035          8.0        143.0                  1.0                 5.0   \n...           ...          ...                  ...                 ...   \n7084         91.0        222.0                 14.0                 1.0   \n20778       105.0        209.0                  0.0                 3.0   \n23854       138.0        156.0                 12.0                 5.0   \n19505       106.0        106.0                  1.0                 7.0   \n47760       106.0        131.0                  3.0                 0.0   \n\n       shrimp_diseaseInformation_access  registered_ponds  live_demo_  \\\n69555                               1.0               8.0         0.0   \n86457                               1.0              21.0         0.0   \n67948                               0.0              12.0         0.0   \n69554                               1.0              14.0         0.0   \n7035                                1.0              35.0         0.0   \n...                                 ...               ...         ...   \n7084                                1.0              16.0         1.0   \n20778                               4.0              18.0         0.0   \n23854                               3.0              13.0         0.0   \n19505                               4.0              19.0         1.0   \n47760                               4.0               8.0         1.0   \n\n       followedup_call_  finished_pro  finished_free  ongoing_pro_  \\\n69555               0.0          16.0            4.0           6.0   \n86457               0.0          18.0           13.0           6.0   \n67948               0.0          16.0            1.0           6.0   \n69554               0.0          19.0            7.0           6.0   \n7035                1.0          21.0           18.0           6.0   \n...                 ...           ...            ...           ...   \n7084                0.0          43.0           12.0          30.0   \n20778               0.0          40.0           24.0          31.0   \n23854               0.0          37.0           18.0          32.0   \n19505               0.0          40.0           27.0          34.0   \n47760               0.0          41.0           19.0          34.0   \n\n       ongoing_free_  farm_id  \n69555            7.0    69556  \n86457            8.0    86458  \n67948            3.0    67949  \n69554            3.0    69555  \n7035             3.0     7036  \n...              ...      ...  \n7084            17.0     7085  \n20778           22.0    20779  \n23854           21.0    23855  \n19505           21.0    19506  \n47760           21.0    47761  \n\n[19350 rows x 13 columns]"
     },
     "execution_count": 37,
     "metadata": {},
     "output_type": "execute_result"
    }
   ],
   "source": [
    "age_above_avg[ (age_above_avg['finished_pro'] > 15)  & (age_above_avg['ongoing_pro_'] > 5) ]"
   ]
  },
  {
   "cell_type": "markdown",
   "metadata": {},
   "source": [
    "Setelah itu, kita persempit lagi kategori client. Kita coba lihat berapa banyak client dengan finished_pro diatas rata rata dan ongoing_pro_ diatas rata rata.\n",
    "Didapatkan 41.38% client dengan account age diatas rata rata, finished_pro diatas 15, dan ongoing_pro_ diatas 5"
   ]
  },
  {
   "cell_type": "code",
   "execution_count": 43,
   "metadata": {},
   "outputs": [
    {
     "data": {
      "text/plain": "41.382407664834574"
     },
     "execution_count": 43,
     "metadata": {},
     "output_type": "execute_result"
    }
   ],
   "source": [
    "len(age_above_avg[ (age_above_avg['finished_pro'] > 15)  & (age_above_avg['ongoing_pro_'] > 5) ])/len(age_above_avg)*100"
   ]
  },
  {
   "cell_type": "code",
   "execution_count": 39,
   "metadata": {},
   "outputs": [
    {
     "data": {
      "text/html": "<div>\n<style scoped>\n    .dataframe tbody tr th:only-of-type {\n        vertical-align: middle;\n    }\n\n    .dataframe tbody tr th {\n        vertical-align: top;\n    }\n\n    .dataframe thead th {\n        text-align: right;\n    }\n</style>\n<table border=\"1\" class=\"dataframe\">\n  <thead>\n    <tr style=\"text-align: right;\">\n      <th></th>\n      <th>count</th>\n      <th>mean</th>\n      <th>std</th>\n      <th>min</th>\n      <th>25%</th>\n      <th>50%</th>\n      <th>75%</th>\n      <th>max</th>\n    </tr>\n  </thead>\n  <tbody>\n    <tr>\n      <th>fms_access</th>\n      <td>19350.0</td>\n      <td>47.774057</td>\n      <td>24.729954</td>\n      <td>0.0</td>\n      <td>30.0</td>\n      <td>47.0</td>\n      <td>64.00</td>\n      <td>147.0</td>\n    </tr>\n    <tr>\n      <th>account_age</th>\n      <td>19350.0</td>\n      <td>152.191214</td>\n      <td>48.794745</td>\n      <td>87.0</td>\n      <td>113.0</td>\n      <td>143.0</td>\n      <td>181.00</td>\n      <td>409.0</td>\n    </tr>\n    <tr>\n      <th>shrimp_price_access</th>\n      <td>19350.0</td>\n      <td>5.416589</td>\n      <td>4.338588</td>\n      <td>0.0</td>\n      <td>2.0</td>\n      <td>5.0</td>\n      <td>8.00</td>\n      <td>25.0</td>\n    </tr>\n    <tr>\n      <th>shrimp_news_access</th>\n      <td>19350.0</td>\n      <td>3.261292</td>\n      <td>2.621554</td>\n      <td>0.0</td>\n      <td>1.0</td>\n      <td>3.0</td>\n      <td>5.00</td>\n      <td>14.0</td>\n    </tr>\n    <tr>\n      <th>shrimp_diseaseInformation_access</th>\n      <td>19350.0</td>\n      <td>1.429457</td>\n      <td>0.931451</td>\n      <td>0.0</td>\n      <td>1.0</td>\n      <td>1.0</td>\n      <td>2.00</td>\n      <td>5.0</td>\n    </tr>\n    <tr>\n      <th>registered_ponds</th>\n      <td>19350.0</td>\n      <td>13.537674</td>\n      <td>8.775845</td>\n      <td>0.0</td>\n      <td>7.0</td>\n      <td>13.0</td>\n      <td>19.00</td>\n      <td>50.0</td>\n    </tr>\n    <tr>\n      <th>live_demo_</th>\n      <td>19350.0</td>\n      <td>0.132041</td>\n      <td>0.338544</td>\n      <td>0.0</td>\n      <td>0.0</td>\n      <td>0.0</td>\n      <td>0.00</td>\n      <td>1.0</td>\n    </tr>\n    <tr>\n      <th>followedup_call_</th>\n      <td>19350.0</td>\n      <td>0.009871</td>\n      <td>0.098863</td>\n      <td>0.0</td>\n      <td>0.0</td>\n      <td>0.0</td>\n      <td>0.00</td>\n      <td>1.0</td>\n    </tr>\n    <tr>\n      <th>finished_pro</th>\n      <td>19350.0</td>\n      <td>21.793230</td>\n      <td>4.081802</td>\n      <td>16.0</td>\n      <td>19.0</td>\n      <td>21.0</td>\n      <td>24.00</td>\n      <td>43.0</td>\n    </tr>\n    <tr>\n      <th>finished_free</th>\n      <td>19350.0</td>\n      <td>9.070646</td>\n      <td>5.609607</td>\n      <td>0.0</td>\n      <td>5.0</td>\n      <td>9.0</td>\n      <td>13.00</td>\n      <td>34.0</td>\n    </tr>\n    <tr>\n      <th>ongoing_pro_</th>\n      <td>19350.0</td>\n      <td>11.072558</td>\n      <td>4.037412</td>\n      <td>6.0</td>\n      <td>8.0</td>\n      <td>10.0</td>\n      <td>13.00</td>\n      <td>34.0</td>\n    </tr>\n    <tr>\n      <th>ongoing_free_</th>\n      <td>19350.0</td>\n      <td>7.878966</td>\n      <td>3.203767</td>\n      <td>0.0</td>\n      <td>6.0</td>\n      <td>8.0</td>\n      <td>10.00</td>\n      <td>23.0</td>\n    </tr>\n    <tr>\n      <th>farm_id</th>\n      <td>19350.0</td>\n      <td>49911.935711</td>\n      <td>28811.376104</td>\n      <td>17.0</td>\n      <td>25010.0</td>\n      <td>49636.0</td>\n      <td>74861.75</td>\n      <td>99991.0</td>\n    </tr>\n  </tbody>\n</table>\n</div>",
      "text/plain": "                                    count          mean           std   min  \\\nfms_access                        19350.0     47.774057     24.729954   0.0   \naccount_age                       19350.0    152.191214     48.794745  87.0   \nshrimp_price_access               19350.0      5.416589      4.338588   0.0   \nshrimp_news_access                19350.0      3.261292      2.621554   0.0   \nshrimp_diseaseInformation_access  19350.0      1.429457      0.931451   0.0   \nregistered_ponds                  19350.0     13.537674      8.775845   0.0   \nlive_demo_                        19350.0      0.132041      0.338544   0.0   \nfollowedup_call_                  19350.0      0.009871      0.098863   0.0   \nfinished_pro                      19350.0     21.793230      4.081802  16.0   \nfinished_free                     19350.0      9.070646      5.609607   0.0   \nongoing_pro_                      19350.0     11.072558      4.037412   6.0   \nongoing_free_                     19350.0      7.878966      3.203767   0.0   \nfarm_id                           19350.0  49911.935711  28811.376104  17.0   \n\n                                      25%      50%       75%      max  \nfms_access                           30.0     47.0     64.00    147.0  \naccount_age                         113.0    143.0    181.00    409.0  \nshrimp_price_access                   2.0      5.0      8.00     25.0  \nshrimp_news_access                    1.0      3.0      5.00     14.0  \nshrimp_diseaseInformation_access      1.0      1.0      2.00      5.0  \nregistered_ponds                      7.0     13.0     19.00     50.0  \nlive_demo_                            0.0      0.0      0.00      1.0  \nfollowedup_call_                      0.0      0.0      0.00      1.0  \nfinished_pro                         19.0     21.0     24.00     43.0  \nfinished_free                         5.0      9.0     13.00     34.0  \nongoing_pro_                          8.0     10.0     13.00     34.0  \nongoing_free_                         6.0      8.0     10.00     23.0  \nfarm_id                           25010.0  49636.0  74861.75  99991.0  "
     },
     "execution_count": 39,
     "metadata": {},
     "output_type": "execute_result"
    }
   ],
   "source": [
    "age_above_avg[ (age_above_avg['finished_pro'] > 15)  & (age_above_avg['ongoing_pro_'] > 5) ].describe().T"
   ]
  },
  {
   "cell_type": "markdown",
   "metadata": {},
   "source": [
    "Kita coba analisis berdasarkan quartil dari ongoing_pro_"
   ]
  },
  {
   "cell_type": "code",
   "execution_count": 75,
   "metadata": {},
   "outputs": [
    {
     "data": {
      "text/html": "<div>\n<style scoped>\n    .dataframe tbody tr th:only-of-type {\n        vertical-align: middle;\n    }\n\n    .dataframe tbody tr th {\n        vertical-align: top;\n    }\n\n    .dataframe thead th {\n        text-align: right;\n    }\n</style>\n<table border=\"1\" class=\"dataframe\">\n  <thead>\n    <tr style=\"text-align: right;\">\n      <th></th>\n      <th>fms_access</th>\n      <th>account_age</th>\n      <th>shrimp_price_access</th>\n      <th>shrimp_news_access</th>\n      <th>shrimp_diseaseInformation_access</th>\n      <th>registered_ponds</th>\n      <th>live_demo_</th>\n      <th>followedup_call_</th>\n      <th>finished_pro</th>\n      <th>finished_free</th>\n      <th>ongoing_pro_</th>\n      <th>ongoing_free_</th>\n      <th>farm_id</th>\n    </tr>\n  </thead>\n  <tbody>\n    <tr>\n      <th>66209</th>\n      <td>0.0</td>\n      <td>239.0</td>\n      <td>14.0</td>\n      <td>4.0</td>\n      <td>0.0</td>\n      <td>31.0</td>\n      <td>0.0</td>\n      <td>0.0</td>\n      <td>18.0</td>\n      <td>9.0</td>\n      <td>0.0</td>\n      <td>1.0</td>\n      <td>66210</td>\n    </tr>\n    <tr>\n      <th>66180</th>\n      <td>0.0</td>\n      <td>227.0</td>\n      <td>2.0</td>\n      <td>0.0</td>\n      <td>0.0</td>\n      <td>12.0</td>\n      <td>1.0</td>\n      <td>0.0</td>\n      <td>18.0</td>\n      <td>0.0</td>\n      <td>0.0</td>\n      <td>1.0</td>\n      <td>66181</td>\n    </tr>\n    <tr>\n      <th>65741</th>\n      <td>0.0</td>\n      <td>241.0</td>\n      <td>8.0</td>\n      <td>6.0</td>\n      <td>0.0</td>\n      <td>23.0</td>\n      <td>0.0</td>\n      <td>0.0</td>\n      <td>16.0</td>\n      <td>8.0</td>\n      <td>0.0</td>\n      <td>1.0</td>\n      <td>65742</td>\n    </tr>\n    <tr>\n      <th>65342</th>\n      <td>8.0</td>\n      <td>250.0</td>\n      <td>3.0</td>\n      <td>3.0</td>\n      <td>0.0</td>\n      <td>34.0</td>\n      <td>0.0</td>\n      <td>0.0</td>\n      <td>19.0</td>\n      <td>9.0</td>\n      <td>0.0</td>\n      <td>1.0</td>\n      <td>65343</td>\n    </tr>\n    <tr>\n      <th>68204</th>\n      <td>0.0</td>\n      <td>213.0</td>\n      <td>0.0</td>\n      <td>2.0</td>\n      <td>0.0</td>\n      <td>22.0</td>\n      <td>0.0</td>\n      <td>0.0</td>\n      <td>16.0</td>\n      <td>6.0</td>\n      <td>0.0</td>\n      <td>1.0</td>\n      <td>68205</td>\n    </tr>\n    <tr>\n      <th>...</th>\n      <td>...</td>\n      <td>...</td>\n      <td>...</td>\n      <td>...</td>\n      <td>...</td>\n      <td>...</td>\n      <td>...</td>\n      <td>...</td>\n      <td>...</td>\n      <td>...</td>\n      <td>...</td>\n      <td>...</td>\n      <td>...</td>\n    </tr>\n    <tr>\n      <th>13725</th>\n      <td>0.0</td>\n      <td>148.0</td>\n      <td>9.0</td>\n      <td>3.0</td>\n      <td>0.0</td>\n      <td>19.0</td>\n      <td>0.0</td>\n      <td>0.0</td>\n      <td>16.0</td>\n      <td>5.0</td>\n      <td>0.0</td>\n      <td>0.0</td>\n      <td>13726</td>\n    </tr>\n    <tr>\n      <th>2114</th>\n      <td>0.0</td>\n      <td>117.0</td>\n      <td>6.0</td>\n      <td>4.0</td>\n      <td>1.0</td>\n      <td>31.0</td>\n      <td>0.0</td>\n      <td>0.0</td>\n      <td>16.0</td>\n      <td>12.0</td>\n      <td>0.0</td>\n      <td>0.0</td>\n      <td>2115</td>\n    </tr>\n    <tr>\n      <th>81285</th>\n      <td>0.0</td>\n      <td>150.0</td>\n      <td>12.0</td>\n      <td>1.0</td>\n      <td>0.0</td>\n      <td>25.0</td>\n      <td>0.0</td>\n      <td>0.0</td>\n      <td>16.0</td>\n      <td>1.0</td>\n      <td>0.0</td>\n      <td>0.0</td>\n      <td>81286</td>\n    </tr>\n    <tr>\n      <th>95674</th>\n      <td>0.0</td>\n      <td>177.0</td>\n      <td>16.0</td>\n      <td>7.0</td>\n      <td>2.0</td>\n      <td>16.0</td>\n      <td>0.0</td>\n      <td>0.0</td>\n      <td>16.0</td>\n      <td>10.0</td>\n      <td>0.0</td>\n      <td>1.0</td>\n      <td>95675</td>\n    </tr>\n    <tr>\n      <th>81109</th>\n      <td>20.0</td>\n      <td>176.0</td>\n      <td>1.0</td>\n      <td>2.0</td>\n      <td>0.0</td>\n      <td>38.0</td>\n      <td>0.0</td>\n      <td>0.0</td>\n      <td>16.0</td>\n      <td>11.0</td>\n      <td>0.0</td>\n      <td>0.0</td>\n      <td>81110</td>\n    </tr>\n  </tbody>\n</table>\n<p>148 rows × 13 columns</p>\n</div>",
      "text/plain": "       fms_access  account_age  shrimp_price_access  shrimp_news_access  \\\n66209         0.0        239.0                 14.0                 4.0   \n66180         0.0        227.0                  2.0                 0.0   \n65741         0.0        241.0                  8.0                 6.0   \n65342         8.0        250.0                  3.0                 3.0   \n68204         0.0        213.0                  0.0                 2.0   \n...           ...          ...                  ...                 ...   \n13725         0.0        148.0                  9.0                 3.0   \n2114          0.0        117.0                  6.0                 4.0   \n81285         0.0        150.0                 12.0                 1.0   \n95674         0.0        177.0                 16.0                 7.0   \n81109        20.0        176.0                  1.0                 2.0   \n\n       shrimp_diseaseInformation_access  registered_ponds  live_demo_  \\\n66209                               0.0              31.0         0.0   \n66180                               0.0              12.0         1.0   \n65741                               0.0              23.0         0.0   \n65342                               0.0              34.0         0.0   \n68204                               0.0              22.0         0.0   \n...                                 ...               ...         ...   \n13725                               0.0              19.0         0.0   \n2114                                1.0              31.0         0.0   \n81285                               0.0              25.0         0.0   \n95674                               2.0              16.0         0.0   \n81109                               0.0              38.0         0.0   \n\n       followedup_call_  finished_pro  finished_free  ongoing_pro_  \\\n66209               0.0          18.0            9.0           0.0   \n66180               0.0          18.0            0.0           0.0   \n65741               0.0          16.0            8.0           0.0   \n65342               0.0          19.0            9.0           0.0   \n68204               0.0          16.0            6.0           0.0   \n...                 ...           ...            ...           ...   \n13725               0.0          16.0            5.0           0.0   \n2114                0.0          16.0           12.0           0.0   \n81285               0.0          16.0            1.0           0.0   \n95674               0.0          16.0           10.0           0.0   \n81109               0.0          16.0           11.0           0.0   \n\n       ongoing_free_  farm_id  \n66209            1.0    66210  \n66180            1.0    66181  \n65741            1.0    65742  \n65342            1.0    65343  \n68204            1.0    68205  \n...              ...      ...  \n13725            0.0    13726  \n2114             0.0     2115  \n81285            0.0    81286  \n95674            1.0    95675  \n81109            0.0    81110  \n\n[148 rows x 13 columns]"
     },
     "execution_count": 75,
     "metadata": {},
     "output_type": "execute_result"
    }
   ],
   "source": [
    "age_above_avg[ (age_above_avg['finished_pro'] > 15) & (age_above_avg['ongoing_pro_']==0) ]"
   ]
  },
  {
   "cell_type": "code",
   "execution_count": 77,
   "metadata": {},
   "outputs": [
    {
     "data": {
      "text/plain": "0.00148"
     },
     "execution_count": 77,
     "metadata": {},
     "output_type": "execute_result"
    }
   ],
   "source": [
    "len(age_above_avg[ (age_above_avg['finished_pro'] > 15) & (age_above_avg['ongoing_pro_']==0) ])/len(df)"
   ]
  },
  {
   "cell_type": "code",
   "execution_count": 78,
   "metadata": {},
   "outputs": [
    {
     "data": {
      "text/plain": "live_demo_  followedup_call_\n0.0         0.0                 131\n1.0         0.0                  17\ndtype: int64"
     },
     "execution_count": 78,
     "metadata": {},
     "output_type": "execute_result"
    }
   ],
   "source": [
    "age_above_avg[ (age_above_avg['finished_pro'] > 15) & (age_above_avg['ongoing_pro_']==0) ][['live_demo_','followedup_call_']].value_counts()"
   ]
  },
  {
   "cell_type": "code",
   "execution_count": 82,
   "metadata": {},
   "outputs": [
    {
     "data": {
      "text/plain": "0.131"
     },
     "execution_count": 82,
     "metadata": {},
     "output_type": "execute_result"
    }
   ],
   "source": [
    "131/len(df)*100"
   ]
  },
  {
   "cell_type": "code",
   "execution_count": 79,
   "metadata": {},
   "outputs": [
    {
     "data": {
      "text/html": "<div>\n<style scoped>\n    .dataframe tbody tr th:only-of-type {\n        vertical-align: middle;\n    }\n\n    .dataframe tbody tr th {\n        vertical-align: top;\n    }\n\n    .dataframe thead th {\n        text-align: right;\n    }\n</style>\n<table border=\"1\" class=\"dataframe\">\n  <thead>\n    <tr style=\"text-align: right;\">\n      <th></th>\n      <th>count</th>\n      <th>mean</th>\n      <th>std</th>\n      <th>min</th>\n      <th>25%</th>\n      <th>50%</th>\n      <th>75%</th>\n      <th>max</th>\n    </tr>\n  </thead>\n  <tbody>\n    <tr>\n      <th>fms_access</th>\n      <td>148.0</td>\n      <td>2.729730</td>\n      <td>6.865664</td>\n      <td>0.0</td>\n      <td>0.00</td>\n      <td>0.0</td>\n      <td>0.00</td>\n      <td>40.0</td>\n    </tr>\n    <tr>\n      <th>account_age</th>\n      <td>148.0</td>\n      <td>185.729730</td>\n      <td>57.945975</td>\n      <td>88.0</td>\n      <td>136.75</td>\n      <td>183.0</td>\n      <td>227.25</td>\n      <td>343.0</td>\n    </tr>\n    <tr>\n      <th>shrimp_price_access</th>\n      <td>148.0</td>\n      <td>6.121622</td>\n      <td>4.814809</td>\n      <td>0.0</td>\n      <td>2.00</td>\n      <td>6.0</td>\n      <td>9.00</td>\n      <td>21.0</td>\n    </tr>\n    <tr>\n      <th>shrimp_news_access</th>\n      <td>148.0</td>\n      <td>3.486486</td>\n      <td>2.754061</td>\n      <td>0.0</td>\n      <td>1.00</td>\n      <td>3.0</td>\n      <td>5.25</td>\n      <td>12.0</td>\n    </tr>\n    <tr>\n      <th>shrimp_diseaseInformation_access</th>\n      <td>148.0</td>\n      <td>0.364865</td>\n      <td>0.573195</td>\n      <td>0.0</td>\n      <td>0.00</td>\n      <td>0.0</td>\n      <td>1.00</td>\n      <td>2.0</td>\n    </tr>\n    <tr>\n      <th>registered_ponds</th>\n      <td>148.0</td>\n      <td>23.587838</td>\n      <td>8.206459</td>\n      <td>4.0</td>\n      <td>18.00</td>\n      <td>23.0</td>\n      <td>29.00</td>\n      <td>49.0</td>\n    </tr>\n    <tr>\n      <th>live_demo_</th>\n      <td>148.0</td>\n      <td>0.114865</td>\n      <td>0.319942</td>\n      <td>0.0</td>\n      <td>0.00</td>\n      <td>0.0</td>\n      <td>0.00</td>\n      <td>1.0</td>\n    </tr>\n    <tr>\n      <th>followedup_call_</th>\n      <td>148.0</td>\n      <td>0.000000</td>\n      <td>0.000000</td>\n      <td>0.0</td>\n      <td>0.00</td>\n      <td>0.0</td>\n      <td>0.00</td>\n      <td>0.0</td>\n    </tr>\n    <tr>\n      <th>finished_pro</th>\n      <td>148.0</td>\n      <td>16.527027</td>\n      <td>0.820204</td>\n      <td>16.0</td>\n      <td>16.00</td>\n      <td>16.0</td>\n      <td>17.00</td>\n      <td>20.0</td>\n    </tr>\n    <tr>\n      <th>finished_free</th>\n      <td>148.0</td>\n      <td>6.662162</td>\n      <td>4.960461</td>\n      <td>0.0</td>\n      <td>3.00</td>\n      <td>6.0</td>\n      <td>10.00</td>\n      <td>20.0</td>\n    </tr>\n    <tr>\n      <th>ongoing_pro_</th>\n      <td>148.0</td>\n      <td>0.000000</td>\n      <td>0.000000</td>\n      <td>0.0</td>\n      <td>0.00</td>\n      <td>0.0</td>\n      <td>0.00</td>\n      <td>0.0</td>\n    </tr>\n    <tr>\n      <th>ongoing_free_</th>\n      <td>148.0</td>\n      <td>0.750000</td>\n      <td>1.287697</td>\n      <td>0.0</td>\n      <td>0.00</td>\n      <td>0.0</td>\n      <td>1.00</td>\n      <td>6.0</td>\n    </tr>\n    <tr>\n      <th>farm_id</th>\n      <td>148.0</td>\n      <td>50249.405405</td>\n      <td>29738.602055</td>\n      <td>277.0</td>\n      <td>23364.50</td>\n      <td>50757.5</td>\n      <td>73016.00</td>\n      <td>99837.0</td>\n    </tr>\n  </tbody>\n</table>\n</div>",
      "text/plain": "                                  count          mean           std    min  \\\nfms_access                        148.0      2.729730      6.865664    0.0   \naccount_age                       148.0    185.729730     57.945975   88.0   \nshrimp_price_access               148.0      6.121622      4.814809    0.0   \nshrimp_news_access                148.0      3.486486      2.754061    0.0   \nshrimp_diseaseInformation_access  148.0      0.364865      0.573195    0.0   \nregistered_ponds                  148.0     23.587838      8.206459    4.0   \nlive_demo_                        148.0      0.114865      0.319942    0.0   \nfollowedup_call_                  148.0      0.000000      0.000000    0.0   \nfinished_pro                      148.0     16.527027      0.820204   16.0   \nfinished_free                     148.0      6.662162      4.960461    0.0   \nongoing_pro_                      148.0      0.000000      0.000000    0.0   \nongoing_free_                     148.0      0.750000      1.287697    0.0   \nfarm_id                           148.0  50249.405405  29738.602055  277.0   \n\n                                       25%      50%       75%      max  \nfms_access                            0.00      0.0      0.00     40.0  \naccount_age                         136.75    183.0    227.25    343.0  \nshrimp_price_access                   2.00      6.0      9.00     21.0  \nshrimp_news_access                    1.00      3.0      5.25     12.0  \nshrimp_diseaseInformation_access      0.00      0.0      1.00      2.0  \nregistered_ponds                     18.00     23.0     29.00     49.0  \nlive_demo_                            0.00      0.0      0.00      1.0  \nfollowedup_call_                      0.00      0.0      0.00      0.0  \nfinished_pro                         16.00     16.0     17.00     20.0  \nfinished_free                         3.00      6.0     10.00     20.0  \nongoing_pro_                          0.00      0.0      0.00      0.0  \nongoing_free_                         0.00      0.0      1.00      6.0  \nfarm_id                           23364.50  50757.5  73016.00  99837.0  "
     },
     "execution_count": 79,
     "metadata": {},
     "output_type": "execute_result"
    }
   ],
   "source": [
    "age_above_avg[ (age_above_avg['finished_pro'] > 15) & (age_above_avg['ongoing_pro_']==0) ].describe().T"
   ]
  },
  {
   "cell_type": "markdown",
   "metadata": {},
   "source": [
    "**Kuartil pertama**\n",
    "- 0.148% memenuhi kategori ini\n",
    "- Rata-rata registered_ponds 23, finished_pro 16, dan ongoing_pro_ 0\n",
    "- 131 client belum pernah di approach sama sekali\n",
    "- 17 client sudah pernah diberi live demo tetapi belum pernah ada followedup_call"
   ]
  },
  {
   "cell_type": "code",
   "execution_count": 66,
   "metadata": {},
   "outputs": [
    {
     "data": {
      "text/html": "<div>\n<style scoped>\n    .dataframe tbody tr th:only-of-type {\n        vertical-align: middle;\n    }\n\n    .dataframe tbody tr th {\n        vertical-align: top;\n    }\n\n    .dataframe thead th {\n        text-align: right;\n    }\n</style>\n<table border=\"1\" class=\"dataframe\">\n  <thead>\n    <tr style=\"text-align: right;\">\n      <th></th>\n      <th>fms_access</th>\n      <th>account_age</th>\n      <th>shrimp_price_access</th>\n      <th>shrimp_news_access</th>\n      <th>shrimp_diseaseInformation_access</th>\n      <th>registered_ponds</th>\n      <th>live_demo_</th>\n      <th>followedup_call_</th>\n      <th>finished_pro</th>\n      <th>finished_free</th>\n      <th>ongoing_pro_</th>\n      <th>ongoing_free_</th>\n      <th>farm_id</th>\n    </tr>\n  </thead>\n  <tbody>\n    <tr>\n      <th>66209</th>\n      <td>0.0</td>\n      <td>239.0</td>\n      <td>14.0</td>\n      <td>4.0</td>\n      <td>0.0</td>\n      <td>31.0</td>\n      <td>0.0</td>\n      <td>0.0</td>\n      <td>18.0</td>\n      <td>9.0</td>\n      <td>0.0</td>\n      <td>1.0</td>\n      <td>66210</td>\n    </tr>\n    <tr>\n      <th>66180</th>\n      <td>0.0</td>\n      <td>227.0</td>\n      <td>2.0</td>\n      <td>0.0</td>\n      <td>0.0</td>\n      <td>12.0</td>\n      <td>1.0</td>\n      <td>0.0</td>\n      <td>18.0</td>\n      <td>0.0</td>\n      <td>0.0</td>\n      <td>1.0</td>\n      <td>66181</td>\n    </tr>\n    <tr>\n      <th>65741</th>\n      <td>0.0</td>\n      <td>241.0</td>\n      <td>8.0</td>\n      <td>6.0</td>\n      <td>0.0</td>\n      <td>23.0</td>\n      <td>0.0</td>\n      <td>0.0</td>\n      <td>16.0</td>\n      <td>8.0</td>\n      <td>0.0</td>\n      <td>1.0</td>\n      <td>65742</td>\n    </tr>\n    <tr>\n      <th>65342</th>\n      <td>8.0</td>\n      <td>250.0</td>\n      <td>3.0</td>\n      <td>3.0</td>\n      <td>0.0</td>\n      <td>34.0</td>\n      <td>0.0</td>\n      <td>0.0</td>\n      <td>19.0</td>\n      <td>9.0</td>\n      <td>0.0</td>\n      <td>1.0</td>\n      <td>65343</td>\n    </tr>\n    <tr>\n      <th>68204</th>\n      <td>0.0</td>\n      <td>213.0</td>\n      <td>0.0</td>\n      <td>2.0</td>\n      <td>0.0</td>\n      <td>22.0</td>\n      <td>0.0</td>\n      <td>0.0</td>\n      <td>16.0</td>\n      <td>6.0</td>\n      <td>0.0</td>\n      <td>1.0</td>\n      <td>68205</td>\n    </tr>\n    <tr>\n      <th>...</th>\n      <td>...</td>\n      <td>...</td>\n      <td>...</td>\n      <td>...</td>\n      <td>...</td>\n      <td>...</td>\n      <td>...</td>\n      <td>...</td>\n      <td>...</td>\n      <td>...</td>\n      <td>...</td>\n      <td>...</td>\n      <td>...</td>\n    </tr>\n    <tr>\n      <th>45857</th>\n      <td>48.0</td>\n      <td>282.0</td>\n      <td>10.0</td>\n      <td>2.0</td>\n      <td>0.0</td>\n      <td>0.0</td>\n      <td>0.0</td>\n      <td>0.0</td>\n      <td>16.0</td>\n      <td>0.0</td>\n      <td>4.0</td>\n      <td>8.0</td>\n      <td>45858</td>\n    </tr>\n    <tr>\n      <th>50848</th>\n      <td>9.0</td>\n      <td>97.0</td>\n      <td>8.0</td>\n      <td>0.0</td>\n      <td>1.0</td>\n      <td>17.0</td>\n      <td>0.0</td>\n      <td>0.0</td>\n      <td>17.0</td>\n      <td>8.0</td>\n      <td>4.0</td>\n      <td>1.0</td>\n      <td>50849</td>\n    </tr>\n    <tr>\n      <th>46484</th>\n      <td>0.0</td>\n      <td>214.0</td>\n      <td>0.0</td>\n      <td>5.0</td>\n      <td>2.0</td>\n      <td>12.0</td>\n      <td>0.0</td>\n      <td>0.0</td>\n      <td>19.0</td>\n      <td>11.0</td>\n      <td>4.0</td>\n      <td>6.0</td>\n      <td>46485</td>\n    </tr>\n    <tr>\n      <th>47387</th>\n      <td>8.0</td>\n      <td>187.0</td>\n      <td>3.0</td>\n      <td>6.0</td>\n      <td>0.0</td>\n      <td>10.0</td>\n      <td>0.0</td>\n      <td>0.0</td>\n      <td>18.0</td>\n      <td>2.0</td>\n      <td>4.0</td>\n      <td>3.0</td>\n      <td>47388</td>\n    </tr>\n    <tr>\n      <th>39659</th>\n      <td>15.0</td>\n      <td>242.0</td>\n      <td>5.0</td>\n      <td>0.0</td>\n      <td>2.0</td>\n      <td>10.0</td>\n      <td>0.0</td>\n      <td>0.0</td>\n      <td>16.0</td>\n      <td>9.0</td>\n      <td>4.0</td>\n      <td>8.0</td>\n      <td>39660</td>\n    </tr>\n  </tbody>\n</table>\n<p>2546 rows × 13 columns</p>\n</div>",
      "text/plain": "       fms_access  account_age  shrimp_price_access  shrimp_news_access  \\\n66209         0.0        239.0                 14.0                 4.0   \n66180         0.0        227.0                  2.0                 0.0   \n65741         0.0        241.0                  8.0                 6.0   \n65342         8.0        250.0                  3.0                 3.0   \n68204         0.0        213.0                  0.0                 2.0   \n...           ...          ...                  ...                 ...   \n45857        48.0        282.0                 10.0                 2.0   \n50848         9.0         97.0                  8.0                 0.0   \n46484         0.0        214.0                  0.0                 5.0   \n47387         8.0        187.0                  3.0                 6.0   \n39659        15.0        242.0                  5.0                 0.0   \n\n       shrimp_diseaseInformation_access  registered_ponds  live_demo_  \\\n66209                               0.0              31.0         0.0   \n66180                               0.0              12.0         1.0   \n65741                               0.0              23.0         0.0   \n65342                               0.0              34.0         0.0   \n68204                               0.0              22.0         0.0   \n...                                 ...               ...         ...   \n45857                               0.0               0.0         0.0   \n50848                               1.0              17.0         0.0   \n46484                               2.0              12.0         0.0   \n47387                               0.0              10.0         0.0   \n39659                               2.0              10.0         0.0   \n\n       followedup_call_  finished_pro  finished_free  ongoing_pro_  \\\n66209               0.0          18.0            9.0           0.0   \n66180               0.0          18.0            0.0           0.0   \n65741               0.0          16.0            8.0           0.0   \n65342               0.0          19.0            9.0           0.0   \n68204               0.0          16.0            6.0           0.0   \n...                 ...           ...            ...           ...   \n45857               0.0          16.0            0.0           4.0   \n50848               0.0          17.0            8.0           4.0   \n46484               0.0          19.0           11.0           4.0   \n47387               0.0          18.0            2.0           4.0   \n39659               0.0          16.0            9.0           4.0   \n\n       ongoing_free_  farm_id  \n66209            1.0    66210  \n66180            1.0    66181  \n65741            1.0    65742  \n65342            1.0    65343  \n68204            1.0    68205  \n...              ...      ...  \n45857            8.0    45858  \n50848            1.0    50849  \n46484            6.0    46485  \n47387            3.0    47388  \n39659            8.0    39660  \n\n[2546 rows x 13 columns]"
     },
     "execution_count": 66,
     "metadata": {},
     "output_type": "execute_result"
    }
   ],
   "source": [
    "age_above_avg[ (age_above_avg['finished_pro'] > 15) & (age_above_avg['ongoing_pro_'] >= 0) & (age_above_avg['ongoing_pro_'] < 5) ]"
   ]
  },
  {
   "cell_type": "code",
   "execution_count": 67,
   "metadata": {},
   "outputs": [
    {
     "data": {
      "text/plain": "0.04"
     },
     "execution_count": 67,
     "metadata": {},
     "output_type": "execute_result"
    }
   ],
   "source": [
    "len(age_above_avg[ (age_above_avg['finished_pro'] > 15) & (age_above_avg['ongoing_pro_'] > 0) & (age_above_avg['ongoing_pro_'] <= 5) ])/len(df)"
   ]
  },
  {
   "cell_type": "code",
   "execution_count": 68,
   "metadata": {},
   "outputs": [
    {
     "data": {
      "text/plain": "live_demo_  followedup_call_\n0.0         0.0                 3601\n1.0         0.0                  352\n0.0         1.0                   40\n1.0         1.0                    7\ndtype: int64"
     },
     "execution_count": 68,
     "metadata": {},
     "output_type": "execute_result"
    }
   ],
   "source": [
    "age_above_avg[ (age_above_avg['finished_pro'] > 15) & (age_above_avg['ongoing_pro_'] > 0) & (age_above_avg['ongoing_pro_'] <= 5) ][['live_demo_','followedup_call_']].value_counts()"
   ]
  },
  {
   "cell_type": "code",
   "execution_count": 86,
   "metadata": {},
   "outputs": [
    {
     "data": {
      "text/plain": "0.006999999999999999"
     },
     "execution_count": 86,
     "metadata": {},
     "output_type": "execute_result"
    }
   ],
   "source": [
    "7/len(df)*100"
   ]
  },
  {
   "cell_type": "code",
   "execution_count": 69,
   "metadata": {},
   "outputs": [
    {
     "data": {
      "text/html": "<div>\n<style scoped>\n    .dataframe tbody tr th:only-of-type {\n        vertical-align: middle;\n    }\n\n    .dataframe tbody tr th {\n        vertical-align: top;\n    }\n\n    .dataframe thead th {\n        text-align: right;\n    }\n</style>\n<table border=\"1\" class=\"dataframe\">\n  <thead>\n    <tr style=\"text-align: right;\">\n      <th></th>\n      <th>count</th>\n      <th>mean</th>\n      <th>std</th>\n      <th>min</th>\n      <th>25%</th>\n      <th>50%</th>\n      <th>75%</th>\n      <th>max</th>\n    </tr>\n  </thead>\n  <tbody>\n    <tr>\n      <th>fms_access</th>\n      <td>4000.0</td>\n      <td>17.93200</td>\n      <td>16.371252</td>\n      <td>0.0</td>\n      <td>2.00</td>\n      <td>15.0</td>\n      <td>29.00</td>\n      <td>91.0</td>\n    </tr>\n    <tr>\n      <th>account_age</th>\n      <td>4000.0</td>\n      <td>161.97900</td>\n      <td>51.979544</td>\n      <td>87.0</td>\n      <td>121.00</td>\n      <td>153.0</td>\n      <td>194.00</td>\n      <td>426.0</td>\n    </tr>\n    <tr>\n      <th>shrimp_price_access</th>\n      <td>4000.0</td>\n      <td>5.32725</td>\n      <td>4.222927</td>\n      <td>0.0</td>\n      <td>2.00</td>\n      <td>5.0</td>\n      <td>8.00</td>\n      <td>23.0</td>\n    </tr>\n    <tr>\n      <th>shrimp_news_access</th>\n      <td>4000.0</td>\n      <td>3.20625</td>\n      <td>2.614368</td>\n      <td>0.0</td>\n      <td>1.00</td>\n      <td>3.0</td>\n      <td>5.00</td>\n      <td>13.0</td>\n    </tr>\n    <tr>\n      <th>shrimp_diseaseInformation_access</th>\n      <td>4000.0</td>\n      <td>0.78900</td>\n      <td>0.776292</td>\n      <td>0.0</td>\n      <td>0.00</td>\n      <td>1.0</td>\n      <td>1.00</td>\n      <td>4.0</td>\n    </tr>\n    <tr>\n      <th>registered_ponds</th>\n      <td>4000.0</td>\n      <td>16.15100</td>\n      <td>8.166662</td>\n      <td>0.0</td>\n      <td>10.00</td>\n      <td>16.0</td>\n      <td>22.00</td>\n      <td>46.0</td>\n    </tr>\n    <tr>\n      <th>live_demo_</th>\n      <td>4000.0</td>\n      <td>0.08975</td>\n      <td>0.285859</td>\n      <td>0.0</td>\n      <td>0.00</td>\n      <td>0.0</td>\n      <td>0.00</td>\n      <td>1.0</td>\n    </tr>\n    <tr>\n      <th>followedup_call_</th>\n      <td>4000.0</td>\n      <td>0.01175</td>\n      <td>0.107772</td>\n      <td>0.0</td>\n      <td>0.00</td>\n      <td>0.0</td>\n      <td>0.00</td>\n      <td>1.0</td>\n    </tr>\n    <tr>\n      <th>finished_pro</th>\n      <td>4000.0</td>\n      <td>17.33700</td>\n      <td>1.427565</td>\n      <td>16.0</td>\n      <td>16.00</td>\n      <td>17.0</td>\n      <td>18.00</td>\n      <td>25.0</td>\n    </tr>\n    <tr>\n      <th>finished_free</th>\n      <td>4000.0</td>\n      <td>6.65700</td>\n      <td>4.762827</td>\n      <td>0.0</td>\n      <td>3.00</td>\n      <td>6.0</td>\n      <td>10.00</td>\n      <td>27.0</td>\n    </tr>\n    <tr>\n      <th>ongoing_pro_</th>\n      <td>4000.0</td>\n      <td>3.88425</td>\n      <td>1.171621</td>\n      <td>1.0</td>\n      <td>3.00</td>\n      <td>4.0</td>\n      <td>5.00</td>\n      <td>5.0</td>\n    </tr>\n    <tr>\n      <th>ongoing_free_</th>\n      <td>4000.0</td>\n      <td>3.14900</td>\n      <td>2.219128</td>\n      <td>0.0</td>\n      <td>1.00</td>\n      <td>3.0</td>\n      <td>5.00</td>\n      <td>12.0</td>\n    </tr>\n    <tr>\n      <th>farm_id</th>\n      <td>4000.0</td>\n      <td>49977.43525</td>\n      <td>28894.417865</td>\n      <td>19.0</td>\n      <td>24865.25</td>\n      <td>49417.0</td>\n      <td>75110.25</td>\n      <td>99973.0</td>\n    </tr>\n  </tbody>\n</table>\n</div>",
      "text/plain": "                                   count         mean           std   min  \\\nfms_access                        4000.0     17.93200     16.371252   0.0   \naccount_age                       4000.0    161.97900     51.979544  87.0   \nshrimp_price_access               4000.0      5.32725      4.222927   0.0   \nshrimp_news_access                4000.0      3.20625      2.614368   0.0   \nshrimp_diseaseInformation_access  4000.0      0.78900      0.776292   0.0   \nregistered_ponds                  4000.0     16.15100      8.166662   0.0   \nlive_demo_                        4000.0      0.08975      0.285859   0.0   \nfollowedup_call_                  4000.0      0.01175      0.107772   0.0   \nfinished_pro                      4000.0     17.33700      1.427565  16.0   \nfinished_free                     4000.0      6.65700      4.762827   0.0   \nongoing_pro_                      4000.0      3.88425      1.171621   1.0   \nongoing_free_                     4000.0      3.14900      2.219128   0.0   \nfarm_id                           4000.0  49977.43525  28894.417865  19.0   \n\n                                       25%      50%       75%      max  \nfms_access                            2.00     15.0     29.00     91.0  \naccount_age                         121.00    153.0    194.00    426.0  \nshrimp_price_access                   2.00      5.0      8.00     23.0  \nshrimp_news_access                    1.00      3.0      5.00     13.0  \nshrimp_diseaseInformation_access      0.00      1.0      1.00      4.0  \nregistered_ponds                     10.00     16.0     22.00     46.0  \nlive_demo_                            0.00      0.0      0.00      1.0  \nfollowedup_call_                      0.00      0.0      0.00      1.0  \nfinished_pro                         16.00     17.0     18.00     25.0  \nfinished_free                         3.00      6.0     10.00     27.0  \nongoing_pro_                          3.00      4.0      5.00      5.0  \nongoing_free_                         1.00      3.0      5.00     12.0  \nfarm_id                           24865.25  49417.0  75110.25  99973.0  "
     },
     "execution_count": 69,
     "metadata": {},
     "output_type": "execute_result"
    }
   ],
   "source": [
    "age_above_avg[ (age_above_avg['finished_pro'] > 15) & (age_above_avg['ongoing_pro_'] > 0) & (age_above_avg['ongoing_pro_'] <= 5) ].describe().T"
   ]
  },
  {
   "cell_type": "markdown",
   "metadata": {},
   "source": [
    "**Kuartil kedua**\n",
    "\n",
    "Dengan kategori ongoing lebih dari 0 dan kurang dari 5.\n",
    "- 4% dari data memenuhi kategori ini\n",
    "- Rata-rata finished_pro 17, registered ponds 16, ongoing_pro 3.8\n",
    "- 3601 client belum pernah di approach, baik live_demo maupun followedup_call\n",
    "- 352 client sudah pernah diberi live_demo dan belum pernah di followedup_call"
   ]
  },
  {
   "cell_type": "code",
   "execution_count": 57,
   "metadata": {},
   "outputs": [
    {
     "data": {
      "text/html": "<div>\n<style scoped>\n    .dataframe tbody tr th:only-of-type {\n        vertical-align: middle;\n    }\n\n    .dataframe tbody tr th {\n        vertical-align: top;\n    }\n\n    .dataframe thead th {\n        text-align: right;\n    }\n</style>\n<table border=\"1\" class=\"dataframe\">\n  <thead>\n    <tr style=\"text-align: right;\">\n      <th></th>\n      <th>fms_access</th>\n      <th>account_age</th>\n      <th>shrimp_price_access</th>\n      <th>shrimp_news_access</th>\n      <th>shrimp_diseaseInformation_access</th>\n      <th>registered_ponds</th>\n      <th>live_demo_</th>\n      <th>followedup_call_</th>\n      <th>finished_pro</th>\n      <th>finished_free</th>\n      <th>ongoing_pro_</th>\n      <th>ongoing_free_</th>\n      <th>farm_id</th>\n    </tr>\n  </thead>\n  <tbody>\n    <tr>\n      <th>4307</th>\n      <td>38.0</td>\n      <td>197.0</td>\n      <td>4.0</td>\n      <td>4.0</td>\n      <td>0.0</td>\n      <td>12.0</td>\n      <td>0.0</td>\n      <td>0.0</td>\n      <td>18.0</td>\n      <td>3.0</td>\n      <td>5.0</td>\n      <td>5.0</td>\n      <td>4308</td>\n    </tr>\n    <tr>\n      <th>57581</th>\n      <td>43.0</td>\n      <td>175.0</td>\n      <td>11.0</td>\n      <td>6.0</td>\n      <td>0.0</td>\n      <td>14.0</td>\n      <td>0.0</td>\n      <td>0.0</td>\n      <td>17.0</td>\n      <td>5.0</td>\n      <td>5.0</td>\n      <td>5.0</td>\n      <td>57582</td>\n    </tr>\n    <tr>\n      <th>94550</th>\n      <td>32.0</td>\n      <td>173.0</td>\n      <td>6.0</td>\n      <td>0.0</td>\n      <td>1.0</td>\n      <td>19.0</td>\n      <td>0.0</td>\n      <td>0.0</td>\n      <td>17.0</td>\n      <td>9.0</td>\n      <td>5.0</td>\n      <td>5.0</td>\n      <td>94551</td>\n    </tr>\n    <tr>\n      <th>16103</th>\n      <td>22.0</td>\n      <td>184.0</td>\n      <td>8.0</td>\n      <td>0.0</td>\n      <td>0.0</td>\n      <td>17.0</td>\n      <td>1.0</td>\n      <td>0.0</td>\n      <td>21.0</td>\n      <td>0.0</td>\n      <td>5.0</td>\n      <td>2.0</td>\n      <td>16104</td>\n    </tr>\n    <tr>\n      <th>57573</th>\n      <td>60.0</td>\n      <td>149.0</td>\n      <td>9.0</td>\n      <td>0.0</td>\n      <td>0.0</td>\n      <td>4.0</td>\n      <td>0.0</td>\n      <td>0.0</td>\n      <td>16.0</td>\n      <td>0.0</td>\n      <td>5.0</td>\n      <td>3.0</td>\n      <td>57574</td>\n    </tr>\n    <tr>\n      <th>...</th>\n      <td>...</td>\n      <td>...</td>\n      <td>...</td>\n      <td>...</td>\n      <td>...</td>\n      <td>...</td>\n      <td>...</td>\n      <td>...</td>\n      <td>...</td>\n      <td>...</td>\n      <td>...</td>\n      <td>...</td>\n      <td>...</td>\n    </tr>\n    <tr>\n      <th>50547</th>\n      <td>49.0</td>\n      <td>132.0</td>\n      <td>19.0</td>\n      <td>10.0</td>\n      <td>1.0</td>\n      <td>18.0</td>\n      <td>0.0</td>\n      <td>0.0</td>\n      <td>19.0</td>\n      <td>8.0</td>\n      <td>8.0</td>\n      <td>5.0</td>\n      <td>50548</td>\n    </tr>\n    <tr>\n      <th>82573</th>\n      <td>50.0</td>\n      <td>143.0</td>\n      <td>3.0</td>\n      <td>7.0</td>\n      <td>1.0</td>\n      <td>5.0</td>\n      <td>0.0</td>\n      <td>0.0</td>\n      <td>18.0</td>\n      <td>2.0</td>\n      <td>8.0</td>\n      <td>6.0</td>\n      <td>82574</td>\n    </tr>\n    <tr>\n      <th>82372</th>\n      <td>71.0</td>\n      <td>257.0</td>\n      <td>9.0</td>\n      <td>8.0</td>\n      <td>2.0</td>\n      <td>10.0</td>\n      <td>0.0</td>\n      <td>0.0</td>\n      <td>17.0</td>\n      <td>9.0</td>\n      <td>8.0</td>\n      <td>12.0</td>\n      <td>82373</td>\n    </tr>\n    <tr>\n      <th>24369</th>\n      <td>21.0</td>\n      <td>93.0</td>\n      <td>2.0</td>\n      <td>7.0</td>\n      <td>3.0</td>\n      <td>18.0</td>\n      <td>0.0</td>\n      <td>0.0</td>\n      <td>17.0</td>\n      <td>16.0</td>\n      <td>8.0</td>\n      <td>6.0</td>\n      <td>24370</td>\n    </tr>\n    <tr>\n      <th>82572</th>\n      <td>51.0</td>\n      <td>105.0</td>\n      <td>1.0</td>\n      <td>8.0</td>\n      <td>1.0</td>\n      <td>12.0</td>\n      <td>0.0</td>\n      <td>0.0</td>\n      <td>17.0</td>\n      <td>6.0</td>\n      <td>8.0</td>\n      <td>5.0</td>\n      <td>82573</td>\n    </tr>\n  </tbody>\n</table>\n<p>7667 rows × 13 columns</p>\n</div>",
      "text/plain": "       fms_access  account_age  shrimp_price_access  shrimp_news_access  \\\n4307         38.0        197.0                  4.0                 4.0   \n57581        43.0        175.0                 11.0                 6.0   \n94550        32.0        173.0                  6.0                 0.0   \n16103        22.0        184.0                  8.0                 0.0   \n57573        60.0        149.0                  9.0                 0.0   \n...           ...          ...                  ...                 ...   \n50547        49.0        132.0                 19.0                10.0   \n82573        50.0        143.0                  3.0                 7.0   \n82372        71.0        257.0                  9.0                 8.0   \n24369        21.0         93.0                  2.0                 7.0   \n82572        51.0        105.0                  1.0                 8.0   \n\n       shrimp_diseaseInformation_access  registered_ponds  live_demo_  \\\n4307                                0.0              12.0         0.0   \n57581                               0.0              14.0         0.0   \n94550                               1.0              19.0         0.0   \n16103                               0.0              17.0         1.0   \n57573                               0.0               4.0         0.0   \n...                                 ...               ...         ...   \n50547                               1.0              18.0         0.0   \n82573                               1.0               5.0         0.0   \n82372                               2.0              10.0         0.0   \n24369                               3.0              18.0         0.0   \n82572                               1.0              12.0         0.0   \n\n       followedup_call_  finished_pro  finished_free  ongoing_pro_  \\\n4307                0.0          18.0            3.0           5.0   \n57581               0.0          17.0            5.0           5.0   \n94550               0.0          17.0            9.0           5.0   \n16103               0.0          21.0            0.0           5.0   \n57573               0.0          16.0            0.0           5.0   \n...                 ...           ...            ...           ...   \n50547               0.0          19.0            8.0           8.0   \n82573               0.0          18.0            2.0           8.0   \n82372               0.0          17.0            9.0           8.0   \n24369               0.0          17.0           16.0           8.0   \n82572               0.0          17.0            6.0           8.0   \n\n       ongoing_free_  farm_id  \n4307             5.0     4308  \n57581            5.0    57582  \n94550            5.0    94551  \n16103            2.0    16104  \n57573            3.0    57574  \n...              ...      ...  \n50547            5.0    50548  \n82573            6.0    82574  \n82372           12.0    82373  \n24369            6.0    24370  \n82572            5.0    82573  \n\n[7667 rows x 13 columns]"
     },
     "execution_count": 57,
     "metadata": {},
     "output_type": "execute_result"
    }
   ],
   "source": [
    "age_above_avg[ (age_above_avg['finished_pro'] > 15) & (age_above_avg['ongoing_pro_'] >= 5) & (age_above_avg['ongoing_pro_'] < 9) ]"
   ]
  },
  {
   "cell_type": "code",
   "execution_count": 64,
   "metadata": {},
   "outputs": [
    {
     "data": {
      "text/plain": "0.07667"
     },
     "execution_count": 64,
     "metadata": {},
     "output_type": "execute_result"
    }
   ],
   "source": [
    "len(age_above_avg[ (age_above_avg['finished_pro'] > 15) & (age_above_avg['ongoing_pro_'] >= 5) & (age_above_avg['ongoing_pro_'] < 9) ]) / len(df)"
   ]
  },
  {
   "cell_type": "code",
   "execution_count": 58,
   "metadata": {},
   "outputs": [
    {
     "data": {
      "text/plain": "live_demo_  followedup_call_\n0.0         0.0                 6978\n1.0         0.0                  610\n0.0         1.0                   70\n1.0         1.0                    9\ndtype: int64"
     },
     "execution_count": 58,
     "metadata": {},
     "output_type": "execute_result"
    }
   ],
   "source": [
    "age_above_avg[ (age_above_avg['finished_pro'] > 15) & (age_above_avg['ongoing_pro_'] >= 5) & (age_above_avg['ongoing_pro_'] < 9) ][['live_demo_','followedup_call_']].value_counts()"
   ]
  },
  {
   "cell_type": "code",
   "execution_count": 87,
   "metadata": {},
   "outputs": [
    {
     "data": {
      "text/plain": "6.978"
     },
     "execution_count": 87,
     "metadata": {},
     "output_type": "execute_result"
    }
   ],
   "source": [
    "6978/len(df)*100"
   ]
  },
  {
   "cell_type": "code",
   "execution_count": 62,
   "metadata": {},
   "outputs": [
    {
     "data": {
      "text/html": "<div>\n<style scoped>\n    .dataframe tbody tr th:only-of-type {\n        vertical-align: middle;\n    }\n\n    .dataframe tbody tr th {\n        vertical-align: top;\n    }\n\n    .dataframe thead th {\n        text-align: right;\n    }\n</style>\n<table border=\"1\" class=\"dataframe\">\n  <thead>\n    <tr style=\"text-align: right;\">\n      <th></th>\n      <th>count</th>\n      <th>mean</th>\n      <th>std</th>\n      <th>min</th>\n      <th>25%</th>\n      <th>50%</th>\n      <th>75%</th>\n      <th>max</th>\n    </tr>\n  </thead>\n  <tbody>\n    <tr>\n      <th>fms_access</th>\n      <td>7667.0</td>\n      <td>31.311595</td>\n      <td>19.567408</td>\n      <td>0.0</td>\n      <td>17.0</td>\n      <td>30.0</td>\n      <td>45.0</td>\n      <td>100.0</td>\n    </tr>\n    <tr>\n      <th>account_age</th>\n      <td>7667.0</td>\n      <td>154.574279</td>\n      <td>49.351115</td>\n      <td>87.0</td>\n      <td>115.0</td>\n      <td>146.0</td>\n      <td>184.0</td>\n      <td>393.0</td>\n    </tr>\n    <tr>\n      <th>shrimp_price_access</th>\n      <td>7667.0</td>\n      <td>5.350072</td>\n      <td>4.289735</td>\n      <td>0.0</td>\n      <td>2.0</td>\n      <td>5.0</td>\n      <td>8.0</td>\n      <td>25.0</td>\n    </tr>\n    <tr>\n      <th>shrimp_news_access</th>\n      <td>7667.0</td>\n      <td>3.243772</td>\n      <td>2.620122</td>\n      <td>0.0</td>\n      <td>1.0</td>\n      <td>3.0</td>\n      <td>5.0</td>\n      <td>14.0</td>\n    </tr>\n    <tr>\n      <th>shrimp_diseaseInformation_access</th>\n      <td>7667.0</td>\n      <td>1.086475</td>\n      <td>0.847155</td>\n      <td>0.0</td>\n      <td>0.0</td>\n      <td>1.0</td>\n      <td>2.0</td>\n      <td>4.0</td>\n    </tr>\n    <tr>\n      <th>registered_ponds</th>\n      <td>7667.0</td>\n      <td>13.683970</td>\n      <td>8.370632</td>\n      <td>0.0</td>\n      <td>7.0</td>\n      <td>13.0</td>\n      <td>19.0</td>\n      <td>45.0</td>\n    </tr>\n    <tr>\n      <th>live_demo_</th>\n      <td>7667.0</td>\n      <td>0.080736</td>\n      <td>0.272446</td>\n      <td>0.0</td>\n      <td>0.0</td>\n      <td>0.0</td>\n      <td>0.0</td>\n      <td>1.0</td>\n    </tr>\n    <tr>\n      <th>followedup_call_</th>\n      <td>7667.0</td>\n      <td>0.010304</td>\n      <td>0.100990</td>\n      <td>0.0</td>\n      <td>0.0</td>\n      <td>0.0</td>\n      <td>0.0</td>\n      <td>1.0</td>\n    </tr>\n    <tr>\n      <th>finished_pro</th>\n      <td>7667.0</td>\n      <td>18.407330</td>\n      <td>1.941988</td>\n      <td>16.0</td>\n      <td>17.0</td>\n      <td>18.0</td>\n      <td>20.0</td>\n      <td>27.0</td>\n    </tr>\n    <tr>\n      <th>finished_free</th>\n      <td>7667.0</td>\n      <td>7.125082</td>\n      <td>4.972650</td>\n      <td>0.0</td>\n      <td>3.0</td>\n      <td>7.0</td>\n      <td>11.0</td>\n      <td>29.0</td>\n    </tr>\n    <tr>\n      <th>ongoing_pro_</th>\n      <td>7667.0</td>\n      <td>6.614060</td>\n      <td>1.100186</td>\n      <td>5.0</td>\n      <td>6.0</td>\n      <td>7.0</td>\n      <td>8.0</td>\n      <td>8.0</td>\n    </tr>\n    <tr>\n      <th>ongoing_free_</th>\n      <td>7667.0</td>\n      <td>5.110995</td>\n      <td>2.219572</td>\n      <td>0.0</td>\n      <td>4.0</td>\n      <td>5.0</td>\n      <td>7.0</td>\n      <td>16.0</td>\n    </tr>\n    <tr>\n      <th>farm_id</th>\n      <td>7667.0</td>\n      <td>49825.935438</td>\n      <td>28785.309990</td>\n      <td>22.0</td>\n      <td>25160.0</td>\n      <td>48943.0</td>\n      <td>74723.0</td>\n      <td>99991.0</td>\n    </tr>\n  </tbody>\n</table>\n</div>",
      "text/plain": "                                   count          mean           std   min  \\\nfms_access                        7667.0     31.311595     19.567408   0.0   \naccount_age                       7667.0    154.574279     49.351115  87.0   \nshrimp_price_access               7667.0      5.350072      4.289735   0.0   \nshrimp_news_access                7667.0      3.243772      2.620122   0.0   \nshrimp_diseaseInformation_access  7667.0      1.086475      0.847155   0.0   \nregistered_ponds                  7667.0     13.683970      8.370632   0.0   \nlive_demo_                        7667.0      0.080736      0.272446   0.0   \nfollowedup_call_                  7667.0      0.010304      0.100990   0.0   \nfinished_pro                      7667.0     18.407330      1.941988  16.0   \nfinished_free                     7667.0      7.125082      4.972650   0.0   \nongoing_pro_                      7667.0      6.614060      1.100186   5.0   \nongoing_free_                     7667.0      5.110995      2.219572   0.0   \nfarm_id                           7667.0  49825.935438  28785.309990  22.0   \n\n                                      25%      50%      75%      max  \nfms_access                           17.0     30.0     45.0    100.0  \naccount_age                         115.0    146.0    184.0    393.0  \nshrimp_price_access                   2.0      5.0      8.0     25.0  \nshrimp_news_access                    1.0      3.0      5.0     14.0  \nshrimp_diseaseInformation_access      0.0      1.0      2.0      4.0  \nregistered_ponds                      7.0     13.0     19.0     45.0  \nlive_demo_                            0.0      0.0      0.0      1.0  \nfollowedup_call_                      0.0      0.0      0.0      1.0  \nfinished_pro                         17.0     18.0     20.0     27.0  \nfinished_free                         3.0      7.0     11.0     29.0  \nongoing_pro_                          6.0      7.0      8.0      8.0  \nongoing_free_                         4.0      5.0      7.0     16.0  \nfarm_id                           25160.0  48943.0  74723.0  99991.0  "
     },
     "execution_count": 62,
     "metadata": {},
     "output_type": "execute_result"
    }
   ],
   "source": [
    "age_above_avg[ (age_above_avg['finished_pro'] > 15) & (age_above_avg['ongoing_pro_'] >= 5) & (age_above_avg['ongoing_pro_'] < 9) ].describe().T"
   ]
  },
  {
   "cell_type": "markdown",
   "metadata": {},
   "source": [
    "**Kuartil ketiga** \n",
    "\n",
    "- 7.68% dari data memenuhi kategori tersebut\n",
    "- Rata-rata registered ponds 13, finished_pro_ 18 , dan ongoing pro 6.6\n",
    "- 6978 client belum pernah di approach sama sekali, baik secara live_demo maupun followedup_call\n",
    "- 610 client sudah pernah diberi live_demo dan belum pernah ada followedup_call "
   ]
  },
  {
   "cell_type": "code",
   "execution_count": 100,
   "metadata": {},
   "outputs": [
    {
     "data": {
      "text/html": "<div>\n<style scoped>\n    .dataframe tbody tr th:only-of-type {\n        vertical-align: middle;\n    }\n\n    .dataframe tbody tr th {\n        vertical-align: top;\n    }\n\n    .dataframe thead th {\n        text-align: right;\n    }\n</style>\n<table border=\"1\" class=\"dataframe\">\n  <thead>\n    <tr style=\"text-align: right;\">\n      <th></th>\n      <th>fms_access</th>\n      <th>account_age</th>\n      <th>shrimp_price_access</th>\n      <th>shrimp_news_access</th>\n      <th>shrimp_diseaseInformation_access</th>\n      <th>registered_ponds</th>\n      <th>live_demo_</th>\n      <th>followedup_call_</th>\n      <th>finished_pro</th>\n      <th>finished_free</th>\n      <th>ongoing_pro_</th>\n      <th>ongoing_free_</th>\n      <th>farm_id</th>\n    </tr>\n  </thead>\n  <tbody>\n    <tr>\n      <th>19096</th>\n      <td>21.0</td>\n      <td>207.0</td>\n      <td>0.0</td>\n      <td>1.0</td>\n      <td>1.0</td>\n      <td>9.0</td>\n      <td>0.0</td>\n      <td>0.0</td>\n      <td>22.0</td>\n      <td>7.0</td>\n      <td>9.0</td>\n      <td>7.0</td>\n      <td>19097</td>\n    </tr>\n    <tr>\n      <th>18256</th>\n      <td>71.0</td>\n      <td>107.0</td>\n      <td>4.0</td>\n      <td>8.0</td>\n      <td>0.0</td>\n      <td>0.0</td>\n      <td>0.0</td>\n      <td>0.0</td>\n      <td>17.0</td>\n      <td>0.0</td>\n      <td>9.0</td>\n      <td>5.0</td>\n      <td>18257</td>\n    </tr>\n    <tr>\n      <th>99214</th>\n      <td>41.0</td>\n      <td>216.0</td>\n      <td>2.0</td>\n      <td>3.0</td>\n      <td>1.0</td>\n      <td>35.0</td>\n      <td>0.0</td>\n      <td>0.0</td>\n      <td>23.0</td>\n      <td>18.0</td>\n      <td>9.0</td>\n      <td>8.0</td>\n      <td>99215</td>\n    </tr>\n    <tr>\n      <th>1582</th>\n      <td>79.0</td>\n      <td>128.0</td>\n      <td>1.0</td>\n      <td>4.0</td>\n      <td>0.0</td>\n      <td>13.0</td>\n      <td>0.0</td>\n      <td>0.0</td>\n      <td>19.0</td>\n      <td>2.0</td>\n      <td>9.0</td>\n      <td>5.0</td>\n      <td>1583</td>\n    </tr>\n    <tr>\n      <th>77294</th>\n      <td>24.0</td>\n      <td>195.0</td>\n      <td>10.0</td>\n      <td>0.0</td>\n      <td>1.0</td>\n      <td>22.0</td>\n      <td>0.0</td>\n      <td>0.0</td>\n      <td>24.0</td>\n      <td>10.0</td>\n      <td>9.0</td>\n      <td>6.0</td>\n      <td>77295</td>\n    </tr>\n    <tr>\n      <th>...</th>\n      <td>...</td>\n      <td>...</td>\n      <td>...</td>\n      <td>...</td>\n      <td>...</td>\n      <td>...</td>\n      <td>...</td>\n      <td>...</td>\n      <td>...</td>\n      <td>...</td>\n      <td>...</td>\n      <td>...</td>\n      <td>...</td>\n    </tr>\n    <tr>\n      <th>7084</th>\n      <td>91.0</td>\n      <td>222.0</td>\n      <td>14.0</td>\n      <td>1.0</td>\n      <td>1.0</td>\n      <td>16.0</td>\n      <td>1.0</td>\n      <td>0.0</td>\n      <td>43.0</td>\n      <td>12.0</td>\n      <td>30.0</td>\n      <td>17.0</td>\n      <td>7085</td>\n    </tr>\n    <tr>\n      <th>20778</th>\n      <td>105.0</td>\n      <td>209.0</td>\n      <td>0.0</td>\n      <td>3.0</td>\n      <td>4.0</td>\n      <td>18.0</td>\n      <td>0.0</td>\n      <td>0.0</td>\n      <td>40.0</td>\n      <td>24.0</td>\n      <td>31.0</td>\n      <td>22.0</td>\n      <td>20779</td>\n    </tr>\n    <tr>\n      <th>23854</th>\n      <td>138.0</td>\n      <td>156.0</td>\n      <td>12.0</td>\n      <td>5.0</td>\n      <td>3.0</td>\n      <td>13.0</td>\n      <td>0.0</td>\n      <td>0.0</td>\n      <td>37.0</td>\n      <td>18.0</td>\n      <td>32.0</td>\n      <td>21.0</td>\n      <td>23855</td>\n    </tr>\n    <tr>\n      <th>19505</th>\n      <td>106.0</td>\n      <td>106.0</td>\n      <td>1.0</td>\n      <td>7.0</td>\n      <td>4.0</td>\n      <td>19.0</td>\n      <td>1.0</td>\n      <td>0.0</td>\n      <td>40.0</td>\n      <td>27.0</td>\n      <td>34.0</td>\n      <td>21.0</td>\n      <td>19506</td>\n    </tr>\n    <tr>\n      <th>47760</th>\n      <td>106.0</td>\n      <td>131.0</td>\n      <td>3.0</td>\n      <td>0.0</td>\n      <td>4.0</td>\n      <td>8.0</td>\n      <td>1.0</td>\n      <td>0.0</td>\n      <td>41.0</td>\n      <td>19.0</td>\n      <td>34.0</td>\n      <td>21.0</td>\n      <td>47761</td>\n    </tr>\n  </tbody>\n</table>\n<p>13285 rows × 13 columns</p>\n</div>",
      "text/plain": "       fms_access  account_age  shrimp_price_access  shrimp_news_access  \\\n19096        21.0        207.0                  0.0                 1.0   \n18256        71.0        107.0                  4.0                 8.0   \n99214        41.0        216.0                  2.0                 3.0   \n1582         79.0        128.0                  1.0                 4.0   \n77294        24.0        195.0                 10.0                 0.0   \n...           ...          ...                  ...                 ...   \n7084         91.0        222.0                 14.0                 1.0   \n20778       105.0        209.0                  0.0                 3.0   \n23854       138.0        156.0                 12.0                 5.0   \n19505       106.0        106.0                  1.0                 7.0   \n47760       106.0        131.0                  3.0                 0.0   \n\n       shrimp_diseaseInformation_access  registered_ponds  live_demo_  \\\n19096                               1.0               9.0         0.0   \n18256                               0.0               0.0         0.0   \n99214                               1.0              35.0         0.0   \n1582                                0.0              13.0         0.0   \n77294                               1.0              22.0         0.0   \n...                                 ...               ...         ...   \n7084                                1.0              16.0         1.0   \n20778                               4.0              18.0         0.0   \n23854                               3.0              13.0         0.0   \n19505                               4.0              19.0         1.0   \n47760                               4.0               8.0         1.0   \n\n       followedup_call_  finished_pro  finished_free  ongoing_pro_  \\\n19096               0.0          22.0            7.0           9.0   \n18256               0.0          17.0            0.0           9.0   \n99214               0.0          23.0           18.0           9.0   \n1582                0.0          19.0            2.0           9.0   \n77294               0.0          24.0           10.0           9.0   \n...                 ...           ...            ...           ...   \n7084                0.0          43.0           12.0          30.0   \n20778               0.0          40.0           24.0          31.0   \n23854               0.0          37.0           18.0          32.0   \n19505               0.0          40.0           27.0          34.0   \n47760               0.0          41.0           19.0          34.0   \n\n       ongoing_free_  farm_id  \n19096            7.0    19097  \n18256            5.0    18257  \n99214            8.0    99215  \n1582             5.0     1583  \n77294            6.0    77295  \n...              ...      ...  \n7084            17.0     7085  \n20778           22.0    20779  \n23854           21.0    23855  \n19505           21.0    19506  \n47760           21.0    47761  \n\n[13285 rows x 13 columns]"
     },
     "execution_count": 100,
     "metadata": {},
     "output_type": "execute_result"
    }
   ],
   "source": [
    "Q4 = age_above_avg[ (age_above_avg['finished_pro'] > 15) & (age_above_avg['ongoing_pro_'] >= 9) & (age_above_avg['ongoing_pro_'] <= 34) ]\n",
    "Q4"
   ]
  },
  {
   "cell_type": "code",
   "execution_count": 104,
   "metadata": {},
   "outputs": [
    {
     "data": {
      "text/html": "<div>\n<style scoped>\n    .dataframe tbody tr th:only-of-type {\n        vertical-align: middle;\n    }\n\n    .dataframe tbody tr th {\n        vertical-align: top;\n    }\n\n    .dataframe thead th {\n        text-align: right;\n    }\n</style>\n<table border=\"1\" class=\"dataframe\">\n  <thead>\n    <tr style=\"text-align: right;\">\n      <th></th>\n      <th>count</th>\n      <th>mean</th>\n      <th>std</th>\n      <th>min</th>\n      <th>25%</th>\n      <th>50%</th>\n      <th>75%</th>\n      <th>max</th>\n    </tr>\n  </thead>\n  <tbody>\n    <tr>\n      <th>fms_access</th>\n      <td>11094.0</td>\n      <td>56.350279</td>\n      <td>23.366320</td>\n      <td>0.0</td>\n      <td>41.00</td>\n      <td>55.0</td>\n      <td>71.00</td>\n      <td>147.0</td>\n    </tr>\n    <tr>\n      <th>account_age</th>\n      <td>11094.0</td>\n      <td>151.913286</td>\n      <td>48.873236</td>\n      <td>87.0</td>\n      <td>113.00</td>\n      <td>142.0</td>\n      <td>180.00</td>\n      <td>409.0</td>\n    </tr>\n    <tr>\n      <th>shrimp_price_access</th>\n      <td>11094.0</td>\n      <td>5.442041</td>\n      <td>4.338597</td>\n      <td>0.0</td>\n      <td>2.00</td>\n      <td>5.0</td>\n      <td>8.00</td>\n      <td>25.0</td>\n    </tr>\n    <tr>\n      <th>shrimp_news_access</th>\n      <td>11094.0</td>\n      <td>3.278078</td>\n      <td>2.620728</td>\n      <td>0.0</td>\n      <td>1.00</td>\n      <td>3.0</td>\n      <td>5.00</td>\n      <td>14.0</td>\n    </tr>\n    <tr>\n      <th>shrimp_diseaseInformation_access</th>\n      <td>11094.0</td>\n      <td>1.620335</td>\n      <td>0.927113</td>\n      <td>0.0</td>\n      <td>1.00</td>\n      <td>2.0</td>\n      <td>2.00</td>\n      <td>5.0</td>\n    </tr>\n    <tr>\n      <th>registered_ponds</th>\n      <td>11094.0</td>\n      <td>13.824680</td>\n      <td>8.918332</td>\n      <td>0.0</td>\n      <td>7.00</td>\n      <td>14.0</td>\n      <td>20.00</td>\n      <td>50.0</td>\n    </tr>\n    <tr>\n      <th>live_demo_</th>\n      <td>11094.0</td>\n      <td>0.000000</td>\n      <td>0.000000</td>\n      <td>0.0</td>\n      <td>0.00</td>\n      <td>0.0</td>\n      <td>0.00</td>\n      <td>0.0</td>\n    </tr>\n    <tr>\n      <th>followedup_call_</th>\n      <td>11094.0</td>\n      <td>0.000000</td>\n      <td>0.000000</td>\n      <td>0.0</td>\n      <td>0.00</td>\n      <td>0.0</td>\n      <td>0.00</td>\n      <td>0.0</td>\n    </tr>\n    <tr>\n      <th>finished_pro</th>\n      <td>11094.0</td>\n      <td>22.634127</td>\n      <td>3.598255</td>\n      <td>16.0</td>\n      <td>20.00</td>\n      <td>22.0</td>\n      <td>25.00</td>\n      <td>41.0</td>\n    </tr>\n    <tr>\n      <th>finished_free</th>\n      <td>11094.0</td>\n      <td>10.231567</td>\n      <td>5.625326</td>\n      <td>0.0</td>\n      <td>6.00</td>\n      <td>10.0</td>\n      <td>14.00</td>\n      <td>34.0</td>\n    </tr>\n    <tr>\n      <th>ongoing_pro_</th>\n      <td>11094.0</td>\n      <td>12.628628</td>\n      <td>3.317996</td>\n      <td>9.0</td>\n      <td>10.00</td>\n      <td>12.0</td>\n      <td>14.00</td>\n      <td>32.0</td>\n    </tr>\n    <tr>\n      <th>ongoing_free_</th>\n      <td>11094.0</td>\n      <td>9.150532</td>\n      <td>2.868723</td>\n      <td>2.0</td>\n      <td>7.00</td>\n      <td>9.0</td>\n      <td>11.00</td>\n      <td>23.0</td>\n    </tr>\n    <tr>\n      <th>farm_id</th>\n      <td>11094.0</td>\n      <td>49856.427438</td>\n      <td>28872.867864</td>\n      <td>17.0</td>\n      <td>24723.75</td>\n      <td>49847.5</td>\n      <td>74853.75</td>\n      <td>99989.0</td>\n    </tr>\n  </tbody>\n</table>\n</div>",
      "text/plain": "                                    count          mean           std   min  \\\nfms_access                        11094.0     56.350279     23.366320   0.0   \naccount_age                       11094.0    151.913286     48.873236  87.0   \nshrimp_price_access               11094.0      5.442041      4.338597   0.0   \nshrimp_news_access                11094.0      3.278078      2.620728   0.0   \nshrimp_diseaseInformation_access  11094.0      1.620335      0.927113   0.0   \nregistered_ponds                  11094.0     13.824680      8.918332   0.0   \nlive_demo_                        11094.0      0.000000      0.000000   0.0   \nfollowedup_call_                  11094.0      0.000000      0.000000   0.0   \nfinished_pro                      11094.0     22.634127      3.598255  16.0   \nfinished_free                     11094.0     10.231567      5.625326   0.0   \nongoing_pro_                      11094.0     12.628628      3.317996   9.0   \nongoing_free_                     11094.0      9.150532      2.868723   2.0   \nfarm_id                           11094.0  49856.427438  28872.867864  17.0   \n\n                                       25%      50%       75%      max  \nfms_access                           41.00     55.0     71.00    147.0  \naccount_age                         113.00    142.0    180.00    409.0  \nshrimp_price_access                   2.00      5.0      8.00     25.0  \nshrimp_news_access                    1.00      3.0      5.00     14.0  \nshrimp_diseaseInformation_access      1.00      2.0      2.00      5.0  \nregistered_ponds                      7.00     14.0     20.00     50.0  \nlive_demo_                            0.00      0.0      0.00      0.0  \nfollowedup_call_                      0.00      0.0      0.00      0.0  \nfinished_pro                         20.00     22.0     25.00     41.0  \nfinished_free                         6.00     10.0     14.00     34.0  \nongoing_pro_                         10.00     12.0     14.00     32.0  \nongoing_free_                         7.00      9.0     11.00     23.0  \nfarm_id                           24723.75  49847.5  74853.75  99989.0  "
     },
     "execution_count": 104,
     "metadata": {},
     "output_type": "execute_result"
    }
   ],
   "source": [
    "Q4[ (Q4['live_demo_']==0) & (Q4['followedup_call_']==0) ].describe().T"
   ]
  },
  {
   "cell_type": "code",
   "execution_count": 105,
   "metadata": {},
   "outputs": [
    {
     "data": {
      "text/html": "<div>\n<style scoped>\n    .dataframe tbody tr th:only-of-type {\n        vertical-align: middle;\n    }\n\n    .dataframe tbody tr th {\n        vertical-align: top;\n    }\n\n    .dataframe thead th {\n        text-align: right;\n    }\n</style>\n<table border=\"1\" class=\"dataframe\">\n  <thead>\n    <tr style=\"text-align: right;\">\n      <th></th>\n      <th>count</th>\n      <th>mean</th>\n      <th>std</th>\n      <th>min</th>\n      <th>25%</th>\n      <th>50%</th>\n      <th>75%</th>\n      <th>max</th>\n    </tr>\n  </thead>\n  <tbody>\n    <tr>\n      <th>fms_access</th>\n      <td>2058.0</td>\n      <td>42.775024</td>\n      <td>24.902365</td>\n      <td>0.0</td>\n      <td>25.00</td>\n      <td>41.0</td>\n      <td>58.00</td>\n      <td>138.0</td>\n    </tr>\n    <tr>\n      <th>account_age</th>\n      <td>2058.0</td>\n      <td>149.370262</td>\n      <td>46.900042</td>\n      <td>87.0</td>\n      <td>112.00</td>\n      <td>139.0</td>\n      <td>177.75</td>\n      <td>340.0</td>\n    </tr>\n    <tr>\n      <th>shrimp_price_access</th>\n      <td>2058.0</td>\n      <td>5.376579</td>\n      <td>4.371937</td>\n      <td>0.0</td>\n      <td>2.00</td>\n      <td>5.0</td>\n      <td>8.00</td>\n      <td>22.0</td>\n    </tr>\n    <tr>\n      <th>shrimp_news_access</th>\n      <td>2058.0</td>\n      <td>3.226433</td>\n      <td>2.626894</td>\n      <td>0.0</td>\n      <td>1.00</td>\n      <td>3.0</td>\n      <td>5.00</td>\n      <td>14.0</td>\n    </tr>\n    <tr>\n      <th>shrimp_diseaseInformation_access</th>\n      <td>2058.0</td>\n      <td>1.284257</td>\n      <td>0.916735</td>\n      <td>0.0</td>\n      <td>1.00</td>\n      <td>1.0</td>\n      <td>2.00</td>\n      <td>4.0</td>\n    </tr>\n    <tr>\n      <th>registered_ponds</th>\n      <td>2058.0</td>\n      <td>12.287172</td>\n      <td>8.872436</td>\n      <td>0.0</td>\n      <td>5.00</td>\n      <td>12.0</td>\n      <td>18.00</td>\n      <td>46.0</td>\n    </tr>\n    <tr>\n      <th>live_demo_</th>\n      <td>2058.0</td>\n      <td>1.000000</td>\n      <td>0.000000</td>\n      <td>1.0</td>\n      <td>1.00</td>\n      <td>1.0</td>\n      <td>1.00</td>\n      <td>1.0</td>\n    </tr>\n    <tr>\n      <th>followedup_call_</th>\n      <td>2058.0</td>\n      <td>0.000000</td>\n      <td>0.000000</td>\n      <td>0.0</td>\n      <td>0.00</td>\n      <td>0.0</td>\n      <td>0.00</td>\n      <td>0.0</td>\n    </tr>\n    <tr>\n      <th>finished_pro</th>\n      <td>2058.0</td>\n      <td>26.582604</td>\n      <td>4.213346</td>\n      <td>16.0</td>\n      <td>23.00</td>\n      <td>26.0</td>\n      <td>29.00</td>\n      <td>43.0</td>\n    </tr>\n    <tr>\n      <th>finished_free</th>\n      <td>2058.0</td>\n      <td>8.233722</td>\n      <td>5.612619</td>\n      <td>0.0</td>\n      <td>4.00</td>\n      <td>8.0</td>\n      <td>12.00</td>\n      <td>29.0</td>\n    </tr>\n    <tr>\n      <th>ongoing_pro_</th>\n      <td>2058.0</td>\n      <td>14.448494</td>\n      <td>4.327111</td>\n      <td>9.0</td>\n      <td>11.00</td>\n      <td>14.0</td>\n      <td>17.00</td>\n      <td>34.0</td>\n    </tr>\n    <tr>\n      <th>ongoing_free_</th>\n      <td>2058.0</td>\n      <td>8.205539</td>\n      <td>3.303778</td>\n      <td>1.0</td>\n      <td>6.00</td>\n      <td>8.0</td>\n      <td>10.00</td>\n      <td>21.0</td>\n    </tr>\n    <tr>\n      <th>farm_id</th>\n      <td>2058.0</td>\n      <td>50200.550534</td>\n      <td>28719.661722</td>\n      <td>35.0</td>\n      <td>25386.25</td>\n      <td>49972.5</td>\n      <td>75038.75</td>\n      <td>99983.0</td>\n    </tr>\n  </tbody>\n</table>\n</div>",
      "text/plain": "                                   count          mean           std   min  \\\nfms_access                        2058.0     42.775024     24.902365   0.0   \naccount_age                       2058.0    149.370262     46.900042  87.0   \nshrimp_price_access               2058.0      5.376579      4.371937   0.0   \nshrimp_news_access                2058.0      3.226433      2.626894   0.0   \nshrimp_diseaseInformation_access  2058.0      1.284257      0.916735   0.0   \nregistered_ponds                  2058.0     12.287172      8.872436   0.0   \nlive_demo_                        2058.0      1.000000      0.000000   1.0   \nfollowedup_call_                  2058.0      0.000000      0.000000   0.0   \nfinished_pro                      2058.0     26.582604      4.213346  16.0   \nfinished_free                     2058.0      8.233722      5.612619   0.0   \nongoing_pro_                      2058.0     14.448494      4.327111   9.0   \nongoing_free_                     2058.0      8.205539      3.303778   1.0   \nfarm_id                           2058.0  50200.550534  28719.661722  35.0   \n\n                                       25%      50%       75%      max  \nfms_access                           25.00     41.0     58.00    138.0  \naccount_age                         112.00    139.0    177.75    340.0  \nshrimp_price_access                   2.00      5.0      8.00     22.0  \nshrimp_news_access                    1.00      3.0      5.00     14.0  \nshrimp_diseaseInformation_access      1.00      1.0      2.00      4.0  \nregistered_ponds                      5.00     12.0     18.00     46.0  \nlive_demo_                            1.00      1.0      1.00      1.0  \nfollowedup_call_                      0.00      0.0      0.00      0.0  \nfinished_pro                         23.00     26.0     29.00     43.0  \nfinished_free                         4.00      8.0     12.00     29.0  \nongoing_pro_                         11.00     14.0     17.00     34.0  \nongoing_free_                         6.00      8.0     10.00     21.0  \nfarm_id                           25386.25  49972.5  75038.75  99983.0  "
     },
     "execution_count": 105,
     "metadata": {},
     "output_type": "execute_result"
    }
   ],
   "source": [
    "Q4[ (Q4['live_demo_']==1) & (Q4['followedup_call_']==0) ].describe().T"
   ]
  },
  {
   "cell_type": "code",
   "execution_count": 106,
   "metadata": {},
   "outputs": [
    {
     "data": {
      "text/html": "<div>\n<style scoped>\n    .dataframe tbody tr th:only-of-type {\n        vertical-align: middle;\n    }\n\n    .dataframe tbody tr th {\n        vertical-align: top;\n    }\n\n    .dataframe thead th {\n        text-align: right;\n    }\n</style>\n<table border=\"1\" class=\"dataframe\">\n  <thead>\n    <tr style=\"text-align: right;\">\n      <th></th>\n      <th>count</th>\n      <th>mean</th>\n      <th>std</th>\n      <th>min</th>\n      <th>25%</th>\n      <th>50%</th>\n      <th>75%</th>\n      <th>max</th>\n    </tr>\n  </thead>\n  <tbody>\n    <tr>\n      <th>fms_access</th>\n      <td>118.0</td>\n      <td>60.415254</td>\n      <td>20.928174</td>\n      <td>9.0</td>\n      <td>46.0</td>\n      <td>61.0</td>\n      <td>75.00</td>\n      <td>111.0</td>\n    </tr>\n    <tr>\n      <th>account_age</th>\n      <td>118.0</td>\n      <td>155.169492</td>\n      <td>51.642808</td>\n      <td>87.0</td>\n      <td>117.0</td>\n      <td>145.0</td>\n      <td>184.75</td>\n      <td>356.0</td>\n    </tr>\n    <tr>\n      <th>shrimp_price_access</th>\n      <td>118.0</td>\n      <td>5.355932</td>\n      <td>4.227556</td>\n      <td>0.0</td>\n      <td>2.0</td>\n      <td>5.0</td>\n      <td>8.00</td>\n      <td>21.0</td>\n    </tr>\n    <tr>\n      <th>shrimp_news_access</th>\n      <td>118.0</td>\n      <td>2.728814</td>\n      <td>2.496702</td>\n      <td>0.0</td>\n      <td>1.0</td>\n      <td>2.0</td>\n      <td>4.00</td>\n      <td>12.0</td>\n    </tr>\n    <tr>\n      <th>shrimp_diseaseInformation_access</th>\n      <td>118.0</td>\n      <td>1.593220</td>\n      <td>0.879367</td>\n      <td>0.0</td>\n      <td>1.0</td>\n      <td>2.0</td>\n      <td>2.00</td>\n      <td>4.0</td>\n    </tr>\n    <tr>\n      <th>registered_ponds</th>\n      <td>118.0</td>\n      <td>13.279661</td>\n      <td>7.865195</td>\n      <td>0.0</td>\n      <td>7.0</td>\n      <td>13.0</td>\n      <td>19.00</td>\n      <td>30.0</td>\n    </tr>\n    <tr>\n      <th>live_demo_</th>\n      <td>118.0</td>\n      <td>0.000000</td>\n      <td>0.000000</td>\n      <td>0.0</td>\n      <td>0.0</td>\n      <td>0.0</td>\n      <td>0.00</td>\n      <td>0.0</td>\n    </tr>\n    <tr>\n      <th>followedup_call_</th>\n      <td>118.0</td>\n      <td>1.000000</td>\n      <td>0.000000</td>\n      <td>1.0</td>\n      <td>1.0</td>\n      <td>1.0</td>\n      <td>1.00</td>\n      <td>1.0</td>\n    </tr>\n    <tr>\n      <th>finished_pro</th>\n      <td>118.0</td>\n      <td>22.330508</td>\n      <td>3.585477</td>\n      <td>16.0</td>\n      <td>20.0</td>\n      <td>22.0</td>\n      <td>24.00</td>\n      <td>35.0</td>\n    </tr>\n    <tr>\n      <th>finished_free</th>\n      <td>118.0</td>\n      <td>9.991525</td>\n      <td>5.134924</td>\n      <td>0.0</td>\n      <td>7.0</td>\n      <td>10.0</td>\n      <td>13.00</td>\n      <td>24.0</td>\n    </tr>\n    <tr>\n      <th>ongoing_pro_</th>\n      <td>118.0</td>\n      <td>12.711864</td>\n      <td>3.113526</td>\n      <td>9.0</td>\n      <td>10.0</td>\n      <td>12.0</td>\n      <td>14.00</td>\n      <td>23.0</td>\n    </tr>\n    <tr>\n      <th>ongoing_free_</th>\n      <td>118.0</td>\n      <td>9.500000</td>\n      <td>2.788100</td>\n      <td>4.0</td>\n      <td>7.0</td>\n      <td>9.0</td>\n      <td>11.00</td>\n      <td>17.0</td>\n    </tr>\n    <tr>\n      <th>farm_id</th>\n      <td>118.0</td>\n      <td>52097.940678</td>\n      <td>28792.093042</td>\n      <td>102.0</td>\n      <td>27259.5</td>\n      <td>52578.0</td>\n      <td>78142.25</td>\n      <td>98522.0</td>\n    </tr>\n  </tbody>\n</table>\n</div>",
      "text/plain": "                                  count          mean           std    min  \\\nfms_access                        118.0     60.415254     20.928174    9.0   \naccount_age                       118.0    155.169492     51.642808   87.0   \nshrimp_price_access               118.0      5.355932      4.227556    0.0   \nshrimp_news_access                118.0      2.728814      2.496702    0.0   \nshrimp_diseaseInformation_access  118.0      1.593220      0.879367    0.0   \nregistered_ponds                  118.0     13.279661      7.865195    0.0   \nlive_demo_                        118.0      0.000000      0.000000    0.0   \nfollowedup_call_                  118.0      1.000000      0.000000    1.0   \nfinished_pro                      118.0     22.330508      3.585477   16.0   \nfinished_free                     118.0      9.991525      5.134924    0.0   \nongoing_pro_                      118.0     12.711864      3.113526    9.0   \nongoing_free_                     118.0      9.500000      2.788100    4.0   \nfarm_id                           118.0  52097.940678  28792.093042  102.0   \n\n                                      25%      50%       75%      max  \nfms_access                           46.0     61.0     75.00    111.0  \naccount_age                         117.0    145.0    184.75    356.0  \nshrimp_price_access                   2.0      5.0      8.00     21.0  \nshrimp_news_access                    1.0      2.0      4.00     12.0  \nshrimp_diseaseInformation_access      1.0      2.0      2.00      4.0  \nregistered_ponds                      7.0     13.0     19.00     30.0  \nlive_demo_                            0.0      0.0      0.00      0.0  \nfollowedup_call_                      1.0      1.0      1.00      1.0  \nfinished_pro                         20.0     22.0     24.00     35.0  \nfinished_free                         7.0     10.0     13.00     24.0  \nongoing_pro_                         10.0     12.0     14.00     23.0  \nongoing_free_                         7.0      9.0     11.00     17.0  \nfarm_id                           27259.5  52578.0  78142.25  98522.0  "
     },
     "execution_count": 106,
     "metadata": {},
     "output_type": "execute_result"
    }
   ],
   "source": [
    "Q4[ (Q4['live_demo_']==0) & (Q4['followedup_call_']==1) ].describe().T"
   ]
  },
  {
   "cell_type": "code",
   "execution_count": 107,
   "metadata": {},
   "outputs": [
    {
     "data": {
      "text/html": "<div>\n<style scoped>\n    .dataframe tbody tr th:only-of-type {\n        vertical-align: middle;\n    }\n\n    .dataframe tbody tr th {\n        vertical-align: top;\n    }\n\n    .dataframe thead th {\n        text-align: right;\n    }\n</style>\n<table border=\"1\" class=\"dataframe\">\n  <thead>\n    <tr style=\"text-align: right;\">\n      <th></th>\n      <th>count</th>\n      <th>mean</th>\n      <th>std</th>\n      <th>min</th>\n      <th>25%</th>\n      <th>50%</th>\n      <th>75%</th>\n      <th>max</th>\n    </tr>\n  </thead>\n  <tbody>\n    <tr>\n      <th>fms_access</th>\n      <td>15.0</td>\n      <td>40.866667</td>\n      <td>25.342981</td>\n      <td>0.0</td>\n      <td>22.5</td>\n      <td>39.0</td>\n      <td>58.5</td>\n      <td>87.0</td>\n    </tr>\n    <tr>\n      <th>account_age</th>\n      <td>15.0</td>\n      <td>136.066667</td>\n      <td>25.400975</td>\n      <td>96.0</td>\n      <td>121.0</td>\n      <td>135.0</td>\n      <td>148.0</td>\n      <td>179.0</td>\n    </tr>\n    <tr>\n      <th>shrimp_price_access</th>\n      <td>15.0</td>\n      <td>5.466667</td>\n      <td>4.172472</td>\n      <td>0.0</td>\n      <td>2.0</td>\n      <td>5.0</td>\n      <td>8.5</td>\n      <td>12.0</td>\n    </tr>\n    <tr>\n      <th>shrimp_news_access</th>\n      <td>15.0</td>\n      <td>3.866667</td>\n      <td>3.044120</td>\n      <td>0.0</td>\n      <td>1.0</td>\n      <td>4.0</td>\n      <td>6.0</td>\n      <td>9.0</td>\n    </tr>\n    <tr>\n      <th>shrimp_diseaseInformation_access</th>\n      <td>15.0</td>\n      <td>1.533333</td>\n      <td>0.743223</td>\n      <td>0.0</td>\n      <td>1.0</td>\n      <td>2.0</td>\n      <td>2.0</td>\n      <td>3.0</td>\n    </tr>\n    <tr>\n      <th>registered_ponds</th>\n      <td>15.0</td>\n      <td>12.466667</td>\n      <td>8.365462</td>\n      <td>0.0</td>\n      <td>6.0</td>\n      <td>14.0</td>\n      <td>19.0</td>\n      <td>24.0</td>\n    </tr>\n    <tr>\n      <th>live_demo_</th>\n      <td>15.0</td>\n      <td>1.000000</td>\n      <td>0.000000</td>\n      <td>1.0</td>\n      <td>1.0</td>\n      <td>1.0</td>\n      <td>1.0</td>\n      <td>1.0</td>\n    </tr>\n    <tr>\n      <th>followedup_call_</th>\n      <td>15.0</td>\n      <td>1.000000</td>\n      <td>0.000000</td>\n      <td>1.0</td>\n      <td>1.0</td>\n      <td>1.0</td>\n      <td>1.0</td>\n      <td>1.0</td>\n    </tr>\n    <tr>\n      <th>finished_pro</th>\n      <td>15.0</td>\n      <td>25.866667</td>\n      <td>3.852025</td>\n      <td>19.0</td>\n      <td>23.0</td>\n      <td>25.0</td>\n      <td>28.5</td>\n      <td>32.0</td>\n    </tr>\n    <tr>\n      <th>finished_free</th>\n      <td>15.0</td>\n      <td>9.066667</td>\n      <td>4.742915</td>\n      <td>0.0</td>\n      <td>6.0</td>\n      <td>9.0</td>\n      <td>11.5</td>\n      <td>17.0</td>\n    </tr>\n    <tr>\n      <th>ongoing_pro_</th>\n      <td>15.0</td>\n      <td>14.466667</td>\n      <td>3.888934</td>\n      <td>9.0</td>\n      <td>12.0</td>\n      <td>14.0</td>\n      <td>15.0</td>\n      <td>24.0</td>\n    </tr>\n    <tr>\n      <th>ongoing_free_</th>\n      <td>15.0</td>\n      <td>8.200000</td>\n      <td>2.980892</td>\n      <td>3.0</td>\n      <td>6.5</td>\n      <td>8.0</td>\n      <td>10.5</td>\n      <td>14.0</td>\n    </tr>\n    <tr>\n      <th>farm_id</th>\n      <td>15.0</td>\n      <td>48630.066667</td>\n      <td>33777.631530</td>\n      <td>582.0</td>\n      <td>17625.0</td>\n      <td>54548.0</td>\n      <td>76993.0</td>\n      <td>95049.0</td>\n    </tr>\n  </tbody>\n</table>\n</div>",
      "text/plain": "                                  count          mean           std    min  \\\nfms_access                         15.0     40.866667     25.342981    0.0   \naccount_age                        15.0    136.066667     25.400975   96.0   \nshrimp_price_access                15.0      5.466667      4.172472    0.0   \nshrimp_news_access                 15.0      3.866667      3.044120    0.0   \nshrimp_diseaseInformation_access   15.0      1.533333      0.743223    0.0   \nregistered_ponds                   15.0     12.466667      8.365462    0.0   \nlive_demo_                         15.0      1.000000      0.000000    1.0   \nfollowedup_call_                   15.0      1.000000      0.000000    1.0   \nfinished_pro                       15.0     25.866667      3.852025   19.0   \nfinished_free                      15.0      9.066667      4.742915    0.0   \nongoing_pro_                       15.0     14.466667      3.888934    9.0   \nongoing_free_                      15.0      8.200000      2.980892    3.0   \nfarm_id                            15.0  48630.066667  33777.631530  582.0   \n\n                                      25%      50%      75%      max  \nfms_access                           22.5     39.0     58.5     87.0  \naccount_age                         121.0    135.0    148.0    179.0  \nshrimp_price_access                   2.0      5.0      8.5     12.0  \nshrimp_news_access                    1.0      4.0      6.0      9.0  \nshrimp_diseaseInformation_access      1.0      2.0      2.0      3.0  \nregistered_ponds                      6.0     14.0     19.0     24.0  \nlive_demo_                            1.0      1.0      1.0      1.0  \nfollowedup_call_                      1.0      1.0      1.0      1.0  \nfinished_pro                         23.0     25.0     28.5     32.0  \nfinished_free                         6.0      9.0     11.5     17.0  \nongoing_pro_                         12.0     14.0     15.0     24.0  \nongoing_free_                         6.5      8.0     10.5     14.0  \nfarm_id                           17625.0  54548.0  76993.0  95049.0  "
     },
     "execution_count": 107,
     "metadata": {},
     "output_type": "execute_result"
    }
   ],
   "source": [
    "Q4[ (Q4['live_demo_']==1) & (Q4['followedup_call_']==1) ].describe().T"
   ]
  },
  {
   "cell_type": "code",
   "execution_count": 65,
   "metadata": {},
   "outputs": [
    {
     "data": {
      "text/plain": "0.13285"
     },
     "execution_count": 65,
     "metadata": {},
     "output_type": "execute_result"
    }
   ],
   "source": [
    "len(age_above_avg[ (age_above_avg['finished_pro'] > 15) & (age_above_avg['ongoing_pro_'] >= 9) & (age_above_avg['ongoing_pro_'] <= 34) ])/len(df)"
   ]
  },
  {
   "cell_type": "code",
   "execution_count": 60,
   "metadata": {},
   "outputs": [
    {
     "data": {
      "text/plain": "live_demo_  followedup_call_\n0.0         0.0                 11094\n1.0         0.0                  2058\n0.0         1.0                   118\n1.0         1.0                    15\ndtype: int64"
     },
     "execution_count": 60,
     "metadata": {},
     "output_type": "execute_result"
    }
   ],
   "source": [
    "age_above_avg[ (age_above_avg['finished_pro'] > 15) & (age_above_avg['ongoing_pro_'] >= 9) & (age_above_avg['ongoing_pro_'] <= 34) ][['live_demo_','followedup_call_']].value_counts()"
   ]
  },
  {
   "cell_type": "code",
   "execution_count": 89,
   "metadata": {},
   "outputs": [
    {
     "data": {
      "text/plain": "2.0580000000000003"
     },
     "execution_count": 89,
     "metadata": {},
     "output_type": "execute_result"
    }
   ],
   "source": [
    "2058/len(df)*100"
   ]
  },
  {
   "cell_type": "code",
   "execution_count": 61,
   "metadata": {},
   "outputs": [
    {
     "data": {
      "text/html": "<div>\n<style scoped>\n    .dataframe tbody tr th:only-of-type {\n        vertical-align: middle;\n    }\n\n    .dataframe tbody tr th {\n        vertical-align: top;\n    }\n\n    .dataframe thead th {\n        text-align: right;\n    }\n</style>\n<table border=\"1\" class=\"dataframe\">\n  <thead>\n    <tr style=\"text-align: right;\">\n      <th></th>\n      <th>count</th>\n      <th>mean</th>\n      <th>std</th>\n      <th>min</th>\n      <th>25%</th>\n      <th>50%</th>\n      <th>75%</th>\n      <th>max</th>\n    </tr>\n  </thead>\n  <tbody>\n    <tr>\n      <th>fms_access</th>\n      <td>13285.0</td>\n      <td>54.265939</td>\n      <td>24.106345</td>\n      <td>0.0</td>\n      <td>38.0</td>\n      <td>53.0</td>\n      <td>70.0</td>\n      <td>147.0</td>\n    </tr>\n    <tr>\n      <th>account_age</th>\n      <td>13285.0</td>\n      <td>151.530373</td>\n      <td>48.586400</td>\n      <td>87.0</td>\n      <td>113.0</td>\n      <td>142.0</td>\n      <td>180.0</td>\n      <td>409.0</td>\n    </tr>\n    <tr>\n      <th>shrimp_price_access</th>\n      <td>13285.0</td>\n      <td>5.431163</td>\n      <td>4.342221</td>\n      <td>0.0</td>\n      <td>2.0</td>\n      <td>5.0</td>\n      <td>8.0</td>\n      <td>25.0</td>\n    </tr>\n    <tr>\n      <th>shrimp_news_access</th>\n      <td>13285.0</td>\n      <td>3.265864</td>\n      <td>2.621440</td>\n      <td>0.0</td>\n      <td>1.0</td>\n      <td>3.0</td>\n      <td>5.0</td>\n      <td>14.0</td>\n    </tr>\n    <tr>\n      <th>shrimp_diseaseInformation_access</th>\n      <td>13285.0</td>\n      <td>1.567934</td>\n      <td>0.932773</td>\n      <td>0.0</td>\n      <td>1.0</td>\n      <td>2.0</td>\n      <td>2.0</td>\n      <td>5.0</td>\n    </tr>\n    <tr>\n      <th>registered_ponds</th>\n      <td>13285.0</td>\n      <td>13.580128</td>\n      <td>8.918388</td>\n      <td>0.0</td>\n      <td>7.0</td>\n      <td>13.0</td>\n      <td>20.0</td>\n      <td>50.0</td>\n    </tr>\n    <tr>\n      <th>live_demo_</th>\n      <td>13285.0</td>\n      <td>0.156041</td>\n      <td>0.362908</td>\n      <td>0.0</td>\n      <td>0.0</td>\n      <td>0.0</td>\n      <td>0.0</td>\n      <td>1.0</td>\n    </tr>\n    <tr>\n      <th>followedup_call_</th>\n      <td>13285.0</td>\n      <td>0.010011</td>\n      <td>0.099558</td>\n      <td>0.0</td>\n      <td>0.0</td>\n      <td>0.0</td>\n      <td>0.0</td>\n      <td>1.0</td>\n    </tr>\n    <tr>\n      <th>finished_pro</th>\n      <td>13285.0</td>\n      <td>23.246744</td>\n      <td>3.967661</td>\n      <td>16.0</td>\n      <td>20.0</td>\n      <td>23.0</td>\n      <td>26.0</td>\n      <td>43.0</td>\n    </tr>\n    <tr>\n      <th>finished_free</th>\n      <td>13285.0</td>\n      <td>9.918630</td>\n      <td>5.664043</td>\n      <td>0.0</td>\n      <td>6.0</td>\n      <td>10.0</td>\n      <td>14.0</td>\n      <td>34.0</td>\n    </tr>\n    <tr>\n      <th>ongoing_pro_</th>\n      <td>13285.0</td>\n      <td>12.913361</td>\n      <td>3.553854</td>\n      <td>9.0</td>\n      <td>10.0</td>\n      <td>12.0</td>\n      <td>15.0</td>\n      <td>34.0</td>\n    </tr>\n    <tr>\n      <th>ongoing_free_</th>\n      <td>13285.0</td>\n      <td>9.006172</td>\n      <td>2.959700</td>\n      <td>1.0</td>\n      <td>7.0</td>\n      <td>9.0</td>\n      <td>11.0</td>\n      <td>23.0</td>\n    </tr>\n    <tr>\n      <th>farm_id</th>\n      <td>13285.0</td>\n      <td>49928.260971</td>\n      <td>28851.867631</td>\n      <td>17.0</td>\n      <td>24806.0</td>\n      <td>49891.0</td>\n      <td>74887.0</td>\n      <td>99989.0</td>\n    </tr>\n  </tbody>\n</table>\n</div>",
      "text/plain": "                                    count          mean           std   min  \\\nfms_access                        13285.0     54.265939     24.106345   0.0   \naccount_age                       13285.0    151.530373     48.586400  87.0   \nshrimp_price_access               13285.0      5.431163      4.342221   0.0   \nshrimp_news_access                13285.0      3.265864      2.621440   0.0   \nshrimp_diseaseInformation_access  13285.0      1.567934      0.932773   0.0   \nregistered_ponds                  13285.0     13.580128      8.918388   0.0   \nlive_demo_                        13285.0      0.156041      0.362908   0.0   \nfollowedup_call_                  13285.0      0.010011      0.099558   0.0   \nfinished_pro                      13285.0     23.246744      3.967661  16.0   \nfinished_free                     13285.0      9.918630      5.664043   0.0   \nongoing_pro_                      13285.0     12.913361      3.553854   9.0   \nongoing_free_                     13285.0      9.006172      2.959700   1.0   \nfarm_id                           13285.0  49928.260971  28851.867631  17.0   \n\n                                      25%      50%      75%      max  \nfms_access                           38.0     53.0     70.0    147.0  \naccount_age                         113.0    142.0    180.0    409.0  \nshrimp_price_access                   2.0      5.0      8.0     25.0  \nshrimp_news_access                    1.0      3.0      5.0     14.0  \nshrimp_diseaseInformation_access      1.0      2.0      2.0      5.0  \nregistered_ponds                      7.0     13.0     20.0     50.0  \nlive_demo_                            0.0      0.0      0.0      1.0  \nfollowedup_call_                      0.0      0.0      0.0      1.0  \nfinished_pro                         20.0     23.0     26.0     43.0  \nfinished_free                         6.0     10.0     14.0     34.0  \nongoing_pro_                         10.0     12.0     15.0     34.0  \nongoing_free_                         7.0      9.0     11.0     23.0  \nfarm_id                           24806.0  49891.0  74887.0  99989.0  "
     },
     "execution_count": 61,
     "metadata": {},
     "output_type": "execute_result"
    }
   ],
   "source": [
    "age_above_avg[ (age_above_avg['finished_pro'] > 15) & (age_above_avg['ongoing_pro_'] >= 9) & (age_above_avg['ongoing_pro_'] <= 34) ].describe().T"
   ]
  },
  {
   "cell_type": "markdown",
   "metadata": {},
   "source": [
    "**Kuartil keempat**\n",
    "\n",
    "- 13% data memenuhi kategori ini\n",
    "- Rata-rata registered_ponds 13.58, finished_pro_ 23.24, ongoing_pro_ 12.9\n",
    "- 11094 client belum pernah di approach sama sekali\n",
    "- 2058 client sudah pernah di beri live_demo_ tetapi belum pernah ada followedup_call\n",
    "- 118 client sudah pernah di followedcall, tetapi belum pernah di beri live demo"
   ]
  },
  {
   "cell_type": "markdown",
   "metadata": {},
   "source": [
    "# Conclusion"
   ]
  },
  {
   "cell_type": "markdown",
   "metadata": {},
   "source": [
    "**Analisis berdasarkan kuartil**"
   ]
  },
  {
   "cell_type": "markdown",
   "metadata": {},
   "source": [
    "|mean \\ Quartile                  \t| Q1    \t| Q2    \t| Q3    \t| Q4    \t|\n",
    "|------------------\t|-------\t|-------\t|-------\t|-------\t|\n",
    "| fms_access       \t| 2.73  \t| 17.93 \t| 31.31 \t| 54.27 \t|\n",
    "| registered_ponds \t| 23.58 \t| 16.15 \t| 13.68 \t| 13.58 \t|\n",
    "| finished_pro     \t| 16.52 \t| 17.33 \t| 18.40 \t| 23.25 \t|\n",
    "| ongoing_pro_     \t| 0     \t| 3.88  \t| 6.61  \t| 12.91 \t|\n",
    "| percentage    \t| 0.15%     \t| 4.00%  \t| 7.68%  \t| 13.29% \t|"
   ]
  },
  {
   "cell_type": "markdown",
   "metadata": {},
   "source": [
    "| live demo \t| followedup_call \t| Q1    \t| Q2     \t| Q3    \t| Q4     \t|\n",
    "|-----------\t|-----------------\t|-------\t|--------\t|-------\t|--------\t|\n",
    "|           \t|                 \t| %     \t| %      \t| %     \t| %      \t|\n",
    "| 0         \t| 0               \t| 0.131 \t| 3.601  \t| 6.978 \t| 11.094 \t|\n",
    "| 0         \t| 1               \t| -     \t| 0.04   \t| 0.07  \t| 2.508  \t|\n",
    "| 1         \t| 0               \t| 0.017 \t| 0.352  \t| 0.610 \t| 0.118  \t|\n",
    "| 1         \t| 1               \t| -     \t| 0.0069 \t| 0.009 \t| 0.015  \t|"
   ]
  },
  {
   "cell_type": "markdown",
   "metadata": {},
   "source": [
    "Strategi yang kita pakai saat ini adalah kita mencari client dengan umur account diatas rata rata, lalu kita lihat secara detail dari angka ongoing_pro_. Kita analisis perkuartil dari ongoing_pro pada kategori client yang umur accountnya diatas rata-rata.\n",
    "\n",
    "Kategori kuartil, dengan *x* adalah **ongoing_pro_** \n",
    "- Q1 : x = 0\n",
    "- Q2 : 0 < x <= 5\n",
    "- Q3 : 5 < x <= 9\n",
    "- Q4 : 9 < x <= 34"
   ]
  },
  {
   "cell_type": "markdown",
   "metadata": {},
   "source": [
    "- Secara persentase, Q4 sangat banyak dibandingkan dengan kuartil lainnya, yaitu diangka 13.29%. Rata-rata angka fms_access, finished_pro, ongoing_pro_ juga paling tinggi pada Q4. Dari angka-angka ini, bisa asumsikan bahwa client pada kategori Q4 adalah yang paling aktif, dari angka rata-rata akses farm management system, finished_pro, dan ongoing_pro_ nilai rata-ratanya paling tinggi.\n",
    "- Pada Q4, masih banyak client yang belum pernah di approach baik secara live demo maupun followedup_call."
   ]
  },
  {
   "cell_type": "markdown",
   "metadata": {},
   "source": [
    "**Recommendation**"
   ]
  },
  {
   "cell_type": "markdown",
   "metadata": {},
   "source": [
    "Untuk mengoptimalkan jumlah client yang memakai siklus pro ada beberapa strategi yang dipakai:\n",
    "- Kriteria yang memenuhi kategori Q4 pada data. Bisa dimulai dari client yang setidaknya pernah di approach baik secara live demo ataupun call. Kriteria ini menjadi prioritas pertama karena effort untuk mempertahankan jumlah penggunaan siklus pro pada tambak client tersebut lebih muda\n",
    "- Kriteria yang memenuhi kategori Q4, dengan client yang belum pernah di approach baik secara live demo ataupun call.\n",
    "- Kriteria yang memenuhi kategori Q4, dengan client yang sudah pernah di approach\n",
    "- Lalu selanjutnya bisa approach dengan kriteria yang memenuhi kategori Q3, Q2, Q1 dengan urutan prioritas sama seperti sebelumnya."
   ]
  },
  {
   "cell_type": "markdown",
   "metadata": {},
   "source": [
    "**Saran**"
   ]
  },
  {
   "cell_type": "markdown",
   "metadata": {},
   "source": [
    "- Setelah melihat umur account, ternyata masih banyak umur account = 0, dalam kata lain account baru. Ini bisa dianalisis lebih lanjut untuk strategi yang lebih tepat jika problem SDM sudah terlewati\n",
    "- Ada beberapa kejanggalan, ada null value pada kolom registered_ponds_ tetapi penggunaan siklus basic dan pro terdata.\n",
    "- Kejanggalan lain, pada kriteria umur account diatas rata-rata dan pada kategori Q1, nilai registered_ponds_ nya cukup besar jika dibandingkan dengan rerata registered_ponds_ dan finished_pro keseluruhan data, tetapi mereka tidak ada yang menjalani siklus pro lagi, kejanggalan-kejanggalan harus di investigasi lebih lanjut."
   ]
  }
 ],
 "metadata": {
  "kernelspec": {
   "display_name": "Python 3.9.7 64-bit ('opencv': conda)",
   "name": "python397jvsc74a57bd0b0fa6594d8f4cbf19f97940f81e996739fb7646882a419484c72d19e05852a7e"
  },
  "language_info": {
   "codemirror_mode": {
    "name": "ipython",
    "version": 3
   },
   "file_extension": ".py",
   "mimetype": "text/x-python",
   "name": "python",
   "nbconvert_exporter": "python",
   "pygments_lexer": "ipython3",
   "version": "3.9.7"
  },
  "metadata": {
   "interpreter": {
    "hash": "2f02aa8033e46e4d12d47fe0e1e89a86d7b309d7a88ce2cdf651f514a47677e4"
   }
  },
  "orig_nbformat": 2
 },
 "nbformat": 4,
 "nbformat_minor": 2
}